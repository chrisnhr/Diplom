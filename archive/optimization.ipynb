{
 "cells": [
  {
   "cell_type": "code",
   "execution_count": 54,
   "metadata": {},
   "outputs": [],
   "source": [
    "from models import *\n",
    "from scipy import stats"
   ]
  },
  {
   "cell_type": "code",
   "execution_count": 55,
   "metadata": {},
   "outputs": [],
   "source": [
    "# das highlighting ist ein python sodern ein vscode feature\n",
    " verschiedene margen und lost sales cost, als short costs einfach die Oppurtinitätskosten nehmen"
   ]
  },
  {
   "cell_type": "markdown",
   "metadata": {},
   "source": [
    "# Distributionally Robust Newsvendor"
   ]
  },
  {
   "cell_type": "code",
   "execution_count": 56,
   "metadata": {},
   "outputs": [],
   "source": [
    "class Optimization:\n",
    "    def __init__(self, key: str, synthetic: bool):\n",
    "\n",
    "        self.key = key\n",
    "        with open(Paths.RESULTS) as json_file:\n",
    "            self.results = json.load(json_file)\n",
    "\n",
    "    def default_newsvendor(self, c_u: float, c_o: float):\n",
    "        mu = self.results[self.key][\"moments\"][\"default\"][0]\n",
    "        sigma = np.sqrt(self.results[self.key][\"moments\"][\"default\"][1])\n",
    "\n",
    "        critical_ratio = c_u/(c_u+c_o)\n",
    "        q_opt = stats.norm.ppf(critical_ratio, loc=mu, scale=sigma)\n",
    "\n",
    "        print(\"Optimal order quantity for default newsvendor problem: \", q_opt)\n",
    "        self.results[self.key][\"Q_default\"] = q_opt\n",
    "        return q_opt\n",
    "    \n",
    "    def robust_newsvendor(c_u,c_o):\n",
    "        pass\n",
    "\n",
    "    def save_results(self):\n",
    "        with open(Paths.RESULTS, 'w') as json_file:\n",
    "            json.dump(self.results, json_file, indent=4)\n"
   ]
  },
  {
   "cell_type": "code",
   "execution_count": 57,
   "metadata": {},
   "outputs": [],
   "source": [
    "DRO = Optimization(\"SYN_0123456789\", synthetic=False)"
   ]
  },
  {
   "cell_type": "code",
   "execution_count": 58,
   "metadata": {},
   "outputs": [
    {
     "name": "stdout",
     "output_type": "stream",
     "text": [
      "Optimal order quantity for default newsvendor problem:  1300.3216\n"
     ]
    }
   ],
   "source": [
    "Q_opt = DRO.default_newsvendor(1.0,1.0)"
   ]
  },
  {
   "cell_type": "code",
   "execution_count": 59,
   "metadata": {},
   "outputs": [],
   "source": [
    "DRO.save_results()"
   ]
  }
 ],
 "metadata": {
  "kernelspec": {
   "display_name": "diplom",
   "language": "python",
   "name": "python3"
  },
  "language_info": {
   "codemirror_mode": {
    "name": "ipython",
    "version": 3
   },
   "file_extension": ".py",
   "mimetype": "text/x-python",
   "name": "python",
   "nbconvert_exporter": "python",
   "pygments_lexer": "ipython3",
   "version": "3.12.8"
  }
 },
 "nbformat": 4,
 "nbformat_minor": 2
}
