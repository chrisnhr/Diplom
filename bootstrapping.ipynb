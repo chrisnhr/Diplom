{
 "cells": [
  {
   "cell_type": "code",
   "execution_count": 1,
   "metadata": {},
   "outputs": [
    {
     "name": "stdout",
     "output_type": "stream",
     "text": [
      "succes\n"
     ]
    }
   ],
   "source": [
    "import numpy as np\n",
    "import matplotlib.pyplot as plt\n",
    "import scipy.stats as stats\n",
    "import pandas as pd\n",
    "from tqdm.notebook import tqdm\n",
    "from joblib import Parallel, delayed\n",
    "from modules import *\n",
    "import polars as pl\n",
    "from itertools import chain\n",
    "import os"
   ]
  },
  {
   "cell_type": "code",
   "execution_count": 2,
   "metadata": {},
   "outputs": [],
   "source": [
    "# TODO: evaluieren der korrekten window positionen unter zero indexing\n",
    "\n",
    "# FIXME: Kernel crashed immer: Daten in chunks packen und streamen, in python file ausführen\n",
    "\n",
    "# NOTE: NA printout currently disabled for debugging, must be looked into later, evaluate why identical bounds from paper are not robust to all parameter combinations\n",
    "#cache decorator makes the functions non pickleable -> find "
   ]
  },
  {
   "cell_type": "markdown",
   "metadata": {},
   "source": [
    "### Testing influence of parameters on window indexes"
   ]
  },
  {
   "cell_type": "code",
   "execution_count": 3,
   "metadata": {},
   "outputs": [
    {
     "name": "stdout",
     "output_type": "stream",
     "text": [
      "[  0.   0.   6.  13.  20.  27.  34.  41.  48.  55.  62.  69.  76.  83.\n",
      "  90.  97. 104. 111. 118. 125. 132. 139. 146. 153. 160. 167. 174. 181.\n",
      " 188. 195. 202. 209. 216. 223. 230. 237. 244. 251. 258. 265. 272. 279.\n",
      " 286. 293. 300. 307. 314. 321. 328. 335. 342. 349.]\n",
      "[  8.  15.  22.  29.  36.  43.  50.  57.  64.  71.  78.  85.  92.  99.\n",
      " 106. 113. 120. 127. 134. 141. 148. 155. 162. 169. 176. 183. 190. 197.\n",
      " 204. 211. 218. 225. 232. 239. 246. 253. 260. 267. 274. 281. 288. 295.\n",
      " 302. 309. 316. 323. 330. 337. 344. 351. 357. 357.]\n"
     ]
    },
    {
     "data": {
      "image/png": "[encoded data removed]",
      "text/plain": [
       "<Figure size 800x500 with 1 Axes>"
      ]
     },
     "metadata": {},
     "output_type": "display_data"
    }
   ],
   "source": [
    "\n",
    "N = 364\n",
    "b = 7\n",
    "w = 16\n",
    "M = int(np.ceil(N / b))\n",
    "\n",
    "# Compute J_1m and J_2m\n",
    "J_1m_values = np.maximum(0, np.minimum(np.arange(M) * b - w/2, N-b - w/2))# Shape: (M,)\n",
    "print(J_1m_values)\n",
    "J_2m_values = np.maximum(0, np.minimum(np.arange(M) * b + w/2, N-b))    # Shape: (M,)\n",
    "print(J_2m_values)\n",
    "\n",
    "# Compute the difference\n",
    "difference = J_2m_values - J_1m_values\n",
    "\n",
    "# Plot the difference\n",
    "plt.figure(figsize=(8, 5))\n",
    "plt.plot(range(M), difference, marker='o', linestyle='-', label='J_2m - J_1m')\n",
    "plt.xlabel('m')\n",
    "plt.ylabel('Difference')\n",
    "plt.title(f'Difference between J_2m and J_1m, satisfies J_1m < J_2m: {~np.any(J_1m_values >= J_2m_values)}')\n",
    "plt.show()"
   ]
  },
  {
   "cell_type": "markdown",
   "metadata": {},
   "source": [
    "# Metrics\n",
    "Mathematical formulation for discrete Wasserstein Distance, with $q$ being the quantiles:\n",
    "$$\n",
    "W_p(\\mu_1, \\mu_2) = \\left( \\int_0^1 \\left| F_1^{-1}(q) - F_2^{-1}(q) \\right|^p \\, dq \\right)^{\\frac{1}{p}}\n",
    "$$\n"
   ]
  },
  {
   "cell_type": "code",
   "execution_count": null,
   "metadata": {},
   "outputs": [],
   "source": [
    "class GridEvaluation:\n",
    "\n",
    "    output_file = \"results/grid_results.csv\"\n",
    "    max_window_size = 60\n",
    "    max_block_size = 30\n",
    "    max_twin_number = 10\n",
    "    batch_size = 5\n",
    "\n",
    "    @staticmethod\n",
    "    def evaluate_lbb(test_item_key, b, w):\n",
    "\n",
    "        twin_lbb = Resampling.lb_bootstrap(InputData.TwinData[test_item_key], window_size = w, block_size = b)\n",
    "        test_lbb = Resampling.lb_bootstrap(InputData.TestData[test_item_key], window_size = w, block_size = b)\n",
    "\n",
    "        summary = {\n",
    "            \"TEST_ITEM_COMMUNICATIONKEY\": test_item_key,\n",
    "            \"BLOCK_SIZE\": b,\n",
    "            \"WINDOW_SIZE\": w,\n",
    "            \"TWIN_NUMBER\": InputData.TwinData[test_item_key].shape[1],\n",
    "            \"MEAN_SAMPLE\": np.mean(twin_lbb),\n",
    "            \"MEAN_TEST\": np.mean(InputData.TestData[test_item_key]),\n",
    "            \"RMSE\": np.sqrt(Metrics.rmse(InputData.TestData[test_item_key], twin_lbb)),\n",
    "            \"MAPE\": Metrics.mape(InputData.TestData[test_item_key], twin_lbb),\n",
    "            \"MAE\": Metrics.mae(InputData.TestData[test_item_key], twin_lbb),\n",
    "            \"WASSERSTEIN\": Metrics.discrete_wasserstein(test_lbb, twin_lbb),\n",
    "        }\n",
    "        return summary\n",
    "    \n",
    "    @staticmethod\n",
    "    def evaluate_idd(test_item_key):\n",
    "        \n",
    "        twin_idd = Resampling.iid_bootstrap(InputData.TwinData[test_item_key])\n",
    "        test_idd = Resampling.iid_bootstrap(InputData.TestData[test_item_key])\n",
    "\n",
    "        summary = {\n",
    "            \"TEST_ITEM_COMMUNICATIONKEY\": test_item_key,\n",
    "            \"BLOCK_SIZE\": 1,\n",
    "            \"WINDOW_SIZE\": 1,\n",
    "            \"TWIN_NUMBER\": InputData.TwinData[test_item_key].shape[1],\n",
    "            \"MEAN_SAMPLE\": np.mean(twin_idd),\n",
    "            \"MEAN_TEST\": np.mean(InputData.TestData[test_item_key]),\n",
    "            \"RMSE\": Metrics.rmse(InputData.TestData[test_item_key], twin_idd),\n",
    "            \"MAPE\": Metrics.mape(InputData.TestData[test_item_key], twin_idd),\n",
    "            \"MAE\": Metrics.mae(InputData.TestData[test_item_key], twin_idd),\n",
    "            \"WASSERSTEIN\": Metrics.discrete_wasserstein(test_idd, twin_idd),\n",
    "        }\n",
    "        return summary\n",
    "    \n",
    "    @classmethod\n",
    "    def write_results(cls, results):\n",
    "        df = pd.DataFrame(results)\n",
    "        df.to_csv(cls.output_file, mode=\"a\", header=not os.path.exists(cls.output_file), index=False)\n",
    "    \n",
    "    @classmethod\n",
    "    def run(cls, keys):\n",
    "\n",
    "        batches = [keys[i:i + cls.batch_size] for i in range(0, len(keys), cls.batch_size)]\n",
    "        grid = [(w, b, cls.max_twin_number) for b in range(1, cls.max_block_size + 1, 3) for w in range(1, cls.max_window_size + 1, 4)]\n",
    "\n",
    "        for batch in tqdm(batches, desc=\"Batch processing and streaming\"):\n",
    "            \n",
    "            #hier wir parallelisiert sein Vater auf meinen 8 Kirschkernen\n",
    "            cls.write_results(Parallel(n_jobs=-1)(\n",
    "            delayed(cls.evaluate_lbb)(test_item_key, b, w) \n",
    "            for w, b, _ in grid \n",
    "            for test_item_key in batch\n",
    "        ))"
   ]
  },
  {
   "cell_type": "code",
   "execution_count": 6,
   "metadata": {},
   "outputs": [
    {
     "data": {
      "application/vnd.jupyter.widget-view+json": {
       "model_id": "75d0eea1e748425a8cf0779957edaed7",
       "version_major": 2,
       "version_minor": 0
      },
      "text/plain": [
       "Batch processing and streaming:   0%|          | 0/20 [00:00<?, ?it/s]"
      ]
     },
     "metadata": {},
     "output_type": "display_data"
    },
    {
     "name": "stdout",
     "output_type": "stream",
     "text": [
      "succes\n",
      "succes\n",
      "succes\n",
      "succes\n",
      "succes\n",
      "succes\n",
      "succes\n",
      "succes\n"
     ]
    }
   ],
   "source": [
    "GridEvaluation.run(list(InputData.TestData.keys()))"
   ]
  },
  {
   "cell_type": "markdown",
   "metadata": {},
   "source": [
    "# Error Diagnosis\n",
    "\n",
    "### 1. Optimierung der Parameter\n",
    "- **Frage:** Was ist die beste Parameterkombination?\n",
    "\n",
    "### 2. Identifikation von Ausreißern\n",
    "- **Frage:** Welche Items sind die größten Ausreißer?\n",
    "\n",
    "### 3. Bias-Analyse\n",
    "- **Frage:** Haben wir allgemein einen positiven oder negativen Bias? (Test if correction factor might help)\n",
    "\n",
    "### 4. Einfluss von Parametern auf Bias und Varianz\n",
    "- **Frage:** Ändern sich Bias und Varianz mit den Parametern, insbesondere mit der Anzahl der Twins?\n",
    "\n",
    "### 5. Vergleich mit Bootstrap\n",
    "- **Frage:** Lohnt sich das im Vergleich zum einfachen Bootstrap?\n",
    "\n",
    "### 6. Ausblick auf Performance-Änderungen\n",
    "- **Frage:** Wie ändert sich die Performance, wenn die Beobachtungsperiode um 1 Jahr verschoben wird?\n",
    "  - **Erwartung:** Der Einfluss des Trends wird erhöht."
   ]
  },
  {
   "cell_type": "code",
   "execution_count": null,
   "metadata": {},
   "outputs": [
    {
     "ename": "NameError",
     "evalue": "name 'df_results' is not defined",
     "output_type": "error",
     "traceback": [
      "\u001b[0;31m---------------------------------------------------------------------------\u001b[0m",
      "\u001b[0;31mNameError\u001b[0m                                 Traceback (most recent call last)",
      "Cell \u001b[0;32mIn[15], line 2\u001b[0m\n\u001b[1;32m      1\u001b[0m \u001b[38;5;66;03m#1\u001b[39;00m\n\u001b[0;32m----> 2\u001b[0m \u001b[43mdf_results\u001b[49m\u001b[38;5;241m.\u001b[39mgroupby([\u001b[38;5;124m\"\u001b[39m\u001b[38;5;124mwindow_size\u001b[39m\u001b[38;5;124m\"\u001b[39m, \u001b[38;5;124m\"\u001b[39m\u001b[38;5;124mblock_size\u001b[39m\u001b[38;5;124m\"\u001b[39m, \u001b[38;5;124m\"\u001b[39m\u001b[38;5;124mnum_twins\u001b[39m\u001b[38;5;124m\"\u001b[39m])\u001b[38;5;241m.\u001b[39mmedian()\u001b[38;5;241m.\u001b[39msort_values(\u001b[38;5;124m\"\u001b[39m\u001b[38;5;124mMSE\u001b[39m\u001b[38;5;124m\"\u001b[39m)\u001b[38;5;241m.\u001b[39mreset_index()[[\u001b[38;5;124m\"\u001b[39m\u001b[38;5;124mwindow_size\u001b[39m\u001b[38;5;124m\"\u001b[39m, \u001b[38;5;124m\"\u001b[39m\u001b[38;5;124mblock_size\u001b[39m\u001b[38;5;124m\"\u001b[39m, \u001b[38;5;124m\"\u001b[39m\u001b[38;5;124mnum_twins\u001b[39m\u001b[38;5;124m\"\u001b[39m, \u001b[38;5;124m\"\u001b[39m\u001b[38;5;124mMSE\u001b[39m\u001b[38;5;124m\"\u001b[39m ]]\n",
      "\u001b[0;31mNameError\u001b[0m: name 'df_results' is not defined"
     ]
    }
   ],
   "source": [
    "#1\n",
    "df_results.groupby([\"window_size\", \"block_size\", \"num_twins\"]).median().sort_values(\"MSE\").reset_index()[[\"window_size\", \"block_size\", \"num_twins\", \"MSE\" ]]"
   ]
  },
  {
   "cell_type": "code",
   "execution_count": null,
   "metadata": {},
   "outputs": [],
   "source": [
    "df_results.groupby([\"window_size\", \"block_size\", \"num_twins\"]).mean().sort_values(\"MSE\").reset_index()[[\"window_size\", \"block_size\", \"num_twins\", \"MSE\" ]]"
   ]
  },
  {
   "cell_type": "code",
   "execution_count": null,
   "metadata": {},
   "outputs": [],
   "source": [
    "#2 größten ausreißer\n",
    "df_results.groupby([\"TEST_ITEM_COMMUNICATIONKEY\"]).mean().sort_values(\"MSE\", ascending=False).reset_index()[[\"TEST_ITEM_COMMUNICATIONKEY\", \"MSE\"]]"
   ]
  },
  {
   "cell_type": "code",
   "execution_count": null,
   "metadata": {},
   "outputs": [],
   "source": [
    "# Bias Analyse\n",
    "#müssen wir einzeln abfragen -> Dann mit lineplot die entwicklung über die twin_nr zeigen"
   ]
  },
  {
   "cell_type": "code",
   "execution_count": null,
   "metadata": {},
   "outputs": [],
   "source": []
  },
  {
   "cell_type": "markdown",
   "metadata": {},
   "source": [
    "# Normality test\n",
    "- clt is defined for iid data\n",
    "- distributions moments must be finite?\n",
    "- tune number of iteration until distribution is normal -> helps simplify methods of robust optimization"
   ]
  },
  {
   "cell_type": "code",
   "execution_count": null,
   "metadata": {},
   "outputs": [],
   "source": [
    "fig, (ax1, ax2) = plt.subplots(1, 2, figsize=(12, 5))\n",
    "\n",
    "# Plot the histogram\n",
    "ax1.hist(results_simple, bins=50, density=True, alpha=0.6, color='grey', edgecolor='black', label='Bootstrap PDF')\n",
    "ax1.set_title('Histogram of Bootstrapped Values')\n",
    "ax1.set_xlabel('Value')\n",
    "ax1.set_ylabel('Density')\n",
    "\n",
    "# Remove top and right spines for the histogram\n",
    "ax1.spines['top'].set_visible(False)\n",
    "ax1.spines['right'].set_visible(False)\n",
    "\n",
    "# Calculate the normal PDF\n",
    "x = np.linspace(min(results_simple), max(results_simple), 100)\n",
    "normal_pdf = stats.norm.pdf(x, loc=np.mean(results_simple), scale=np.sqrt(np.var(results_simple, ddof = 1)))\n",
    "\n",
    "# Plot the normal PDF\n",
    "ax1.plot(x, normal_pdf, label='Normal PDF', color='black', linestyle='-')\n",
    "\n",
    "# Plot the empirical CDF\n",
    "data_sorted = np.sort(results_simple)\n",
    "# Calculate the ECDF values\n",
    "ecdf = np.arange(1, len(data_sorted) + 1) / len(data_sorted)\n",
    "ax2.plot(data_sorted, ecdf, marker='o', linestyle='none', color='grey', label='Bootstrap CDF')\n",
    "\n",
    "# Remove top and right spines for the CDF\n",
    "ax2.spines['top'].set_visible(False)\n",
    "ax2.spines['right'].set_visible(False)\n",
    "\n",
    "# Calculate the normal CDF\n",
    "normal_cdf = stats.norm.cdf(x, loc=np.mean(results_simple), scale=np.sqrt(np.var(results_simple, ddof = 1)))\n",
    "\n",
    "# Plot the normal CDF\n",
    "ax2.plot(x, normal_cdf, label='Normal CDF', color='black', linestyle='-')\n",
    "\n",
    "ax2.set_title('Empirical CDF vs Normal CDF')\n",
    "ax2.set_xlabel('Value')\n",
    "ax2.set_ylabel('Cumulative Probability')\n",
    "\n",
    "# Add legends\n",
    "ax1.legend()\n",
    "ax2.legend()\n",
    "\n",
    "plt.tight_layout()\n",
    "plt.savefig('plots/bootstrap_joint_distribution.svg')\n",
    "plt.show()\n"
   ]
  },
  {
   "cell_type": "code",
   "execution_count": null,
   "metadata": {},
   "outputs": [],
   "source": [
    "#H0: the data is normally distributed\n",
    "#define alpha level\n",
    "alpha = 0.05"
   ]
  },
  {
   "cell_type": "code",
   "execution_count": null,
   "metadata": {},
   "outputs": [],
   "source": [
    "#generate integer samples from normal distribution\n",
    "norm_samples = np.random.normal(50, 25, 100000).astype(int)"
   ]
  },
  {
   "cell_type": "code",
   "execution_count": null,
   "metadata": {},
   "outputs": [],
   "source": [
    "norm_samples = np.random.normal(50, 5, 100000).astype(int)\n",
    "_, p_value = stats.normaltest(norm_samples)\n",
    "print(p_value)\n",
    "if p_value > alpha:\n",
    "    print(\"Fail to reject the null hypothesis: The data appears to be normally distributed.\")\n",
    "else:\n",
    "    print(\"Reject the null hypothesis: The data does NOT appear to be normally distributed.\")"
   ]
  },
  {
   "cell_type": "code",
   "execution_count": null,
   "metadata": {},
   "outputs": [],
   "source": [
    "# Warning: for N > 5000, computed p-value may not be accurate.\n",
    "_, p_value = stats.shapiro(results_simple)\n",
    "print(p_value)\n",
    "if p_value > alpha:\n",
    "    print(\"Fail to reject the null hypothesis: The data appears to be normally distributed.\")\n",
    "else:\n",
    "    print(\"Reject the null hypothesis: The data does not appear to be normally distributed.\")"
   ]
  }
 ],
 "metadata": {
  "kernelspec": {
   "display_name": "diplom",
   "language": "python",
   "name": "python3"
  },
  "language_info": {
   "codemirror_mode": {
    "name": "ipython",
    "version": 3
   },
   "file_extension": ".py",
   "mimetype": "text/x-python",
   "name": "python",
   "nbconvert_exporter": "python",
   "pygments_lexer": "ipython3",
   "version": "3.9.21"
  }
 },
 "nbformat": 4,
 "nbformat_minor": 4
}
