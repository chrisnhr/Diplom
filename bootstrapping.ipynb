{
 "cells": [
  {
   "cell_type": "code",
   "execution_count": 172,
   "metadata": {},
   "outputs": [],
   "source": [
    "import numpy as np\n",
    "import matplotlib.pyplot as plt\n",
    "import scipy.stats as stats\n",
    "import pandas as pd\n",
    "from google.cloud import bigquery as bq\n",
    "from tqdm import tqdm"
   ]
  },
  {
   "cell_type": "code",
   "execution_count": 173,
   "metadata": {},
   "outputs": [],
   "source": [
    "# TODO: das iid_bootstrapping in vectorisierd machen\n",
    "\n",
    "# FIXME:\n",
    "\n",
    "# NOTE:\n",
    "\n",
    "#Learnings:\n",
    "#bei meinem Ansatz sind jeweils eine der bound unnötig, weil nie binding\n",
    "# wenn ich die Formel aus der function rausnehme kommen andere Ergebnisse raus???\n",
    "# wenn die window size 1 ist, ist das upper bound häufig gleich dem startinedex\n",
    "\n",
    "#was ich mir nicht erklären kann:\n",
    "# wie kann bei den Upper bounds ne Null dabei sein?\n",
    "# der upper bound beim 2. passt nicht zum zero indexing?"
   ]
  },
  {
   "cell_type": "markdown",
   "metadata": {},
   "source": [
    "# Import Data"
   ]
  },
  {
   "cell_type": "code",
   "execution_count": 174,
   "metadata": {},
   "outputs": [],
   "source": [
    "class InputData:\n",
    "    project_id = \"brain-flash-dev\"\n",
    "    dataset_id = \"dagster_common\"\n",
    "    data_path = \"data\"\n",
    "\n",
    "    def __init__(self, file_name: str = \"twins_100\"):\n",
    "        \"\"\"Loads data from a CSV file and initializes unique communication keys.\"\"\"\n",
    "        self.data = pd.read_csv(f\"{self.data_path}/{file_name}.csv\")\n",
    "        self.TEST_ITEM_COMMUNICATIONKEYS = self.data[\"TEST_ITEM_COMMUNICATIONKEY\"].unique()\n",
    "        self.TWIN_ITEM_COMMUNICATIONKEYS = self.data[\"TWIN_ITEM_COMMUNICATIONKEY\"].unique()\n",
    "    \n",
    "    @classmethod\n",
    "    def download_from_bq(cls, table_id: str = \"CN_data_to_fetch\", filename: str = \"twins_100\"):\n",
    "        \"\"\"Downloads data from BigQuery and saves it as a CSV file.\"\"\"\n",
    "        client = bq.Client(project=cls.project_id)\n",
    "        table_ref = f\"{cls.project_id}.{cls.dataset_id}.{table_id}\"\n",
    "        \n",
    "        query = f\"SELECT * FROM `{table_ref}`\"\n",
    "        df = client.query(query).to_dataframe()\n",
    "        df.to_csv(f\"{cls.data_path}/{filename}.csv\", index=False)\n",
    "\n",
    "    def get_test_item(self, key: int) -> pd.DataFrame:\n",
    "        \"\"\"Retrieves test item data.\"\"\"\n",
    "        df = self.data.loc[\n",
    "            (self.data[\"TEST_ITEM_COMMUNICATIONKEY\"] == key) & \n",
    "            (self.data[\"TEST_ITEM_COMMUNICATIONKEY\"] == self.data[\"TWIN_ITEM_COMMUNICATIONKEY\"]),\n",
    "            [\"CALENDAR_DATE\", \"TWIN_ITEM_COMMUNICATIONKEY\", \"ANSPRACHE\"]\n",
    "        ].reset_index(drop=True)\n",
    "        \n",
    "        nan_count = df.isna().sum().sum()\n",
    "        if nan_count > 0:\n",
    "            print(f\"There are {nan_count} NaN values in the data which are replaced with 0s.\")\n",
    "            df.fillna(0, inplace=True)\n",
    "        \n",
    "        return df.pivot(index=\"CALENDAR_DATE\", columns=\"TWIN_ITEM_COMMUNICATIONKEY\", values=\"ANSPRACHE\")\n",
    "\n",
    "    def get_twin_item(self, key: int, num_twins: int) -> pd.DataFrame:\n",
    "        \"\"\"Retrieves twin item data.\"\"\"\n",
    "        df = self.data.loc[\n",
    "            (self.data[\"TEST_ITEM_COMMUNICATIONKEY\"] == key) & \n",
    "            (self.data[\"TEST_ITEM_COMMUNICATIONKEY\"] != self.data[\"TWIN_ITEM_COMMUNICATIONKEY\"]),\n",
    "            [\"CALENDAR_DATE\", \"TWIN_ITEM_COMMUNICATIONKEY\", \"ANSPRACHE\"]\n",
    "        ].reset_index(drop=True)\n",
    "        \n",
    "        df = df.pivot(index=\"CALENDAR_DATE\", columns=\"TWIN_ITEM_COMMUNICATIONKEY\", values=\"ANSPRACHE\")\n",
    "        df = df.iloc[:, :num_twins]  # Reduce to the desired number of twin items\n",
    "        \n",
    "        nan_count = df.isna().sum().sum()\n",
    "        if nan_count > 0:\n",
    "            print(f\"There are {nan_count} NaN values in the data which are replaced with 0s.\")\n",
    "            df.fillna(0, inplace=True)\n",
    "        return df"
   ]
  },
  {
   "cell_type": "markdown",
   "metadata": {},
   "source": [
    "### Bootstrap"
   ]
  },
  {
   "cell_type": "code",
   "execution_count": 175,
   "metadata": {},
   "outputs": [],
   "source": [
    "# ist der upper bound in dem window up jemals binding?\n",
    "\n",
    "#eine Idee für die Intervalle\n",
    "def get_J_1m(m, b, w, N):\n",
    "    lb = 0\n",
    "    middle = m * b - w / 2\n",
    "    ub = N - b - w / 2 #darf eingentlich nie erreicht werden, weil das m von 0 ... M-1 geht\n",
    "    # Ensure the value is within the bounds\n",
    "    return max(lb, min(middle, ub))\n",
    "def get_J_2m(m, b, w, N):\n",
    "    lb = 0 #darf eigentlich nie erreicht werden, da wir immer nen halbes window addieren\n",
    "    middle = m * b + w / 2\n",
    "    ub = N - b\n",
    "    # Ensure the value is within the bounds\n",
    "    return max(lb, min(middle, ub))\n",
    "\n",
    "#deckt auch den Fall b= 4, w = 2 ab"
   ]
  },
  {
   "cell_type": "code",
   "execution_count": 176,
   "metadata": {},
   "outputs": [
    {
     "data": {
      "text/plain": [
       "89.25"
      ]
     },
     "execution_count": 176,
     "metadata": {},
     "output_type": "execute_result"
    }
   ],
   "source": [
    "357/4"
   ]
  },
  {
   "cell_type": "code",
   "execution_count": 177,
   "metadata": {},
   "outputs": [
    {
     "data": {
      "text/plain": [
       "355.0"
      ]
     },
     "execution_count": 177,
     "metadata": {},
     "output_type": "execute_result"
    }
   ],
   "source": [
    "89 * 4 - 0.5*2"
   ]
  },
  {
   "cell_type": "code",
   "execution_count": 178,
   "metadata": {},
   "outputs": [
    {
     "name": "stdout",
     "output_type": "stream",
     "text": [
      "[  1.   3.   7.  11.  15.  19.  23.  27.  31.  35.  39.  43.  47.  51.\n",
      "  55.  59.  63.  67.  71.  75.  79.  83.  87.  91.  95.  99. 103. 107.\n",
      " 111. 115. 119. 123. 127. 131. 135. 139. 143. 147. 151. 155. 159. 163.\n",
      " 167. 171. 175. 179. 183. 187. 191. 195. 199. 203. 207. 211. 215. 219.\n",
      " 223. 227. 231. 235. 239. 243. 247. 251. 255. 259. 263. 267. 271. 275.\n",
      " 279. 283. 287. 291. 295. 299. 303. 307. 311. 315. 319. 323. 327. 331.\n",
      " 335. 339. 343. 347. 351.]\n",
      "[  1.   5.   9.  13.  17.  21.  25.  29.  33.  37.  41.  45.  49.  53.\n",
      "  57.  61.  65.  69.  73.  77.  81.  85.  89.  93.  97. 101. 105. 109.\n",
      " 113. 117. 121. 125. 129. 133. 137. 141. 145. 149. 153. 157. 161. 165.\n",
      " 169. 173. 177. 181. 185. 189. 193. 197. 201. 205. 209. 213. 217. 221.\n",
      " 225. 229. 233. 237. 241. 245. 249. 253. 257. 261. 265. 269. 273. 277.\n",
      " 281. 285. 289. 293. 297. 301. 305. 309. 313. 317. 321. 325. 329. 333.\n",
      " 337. 341. 345. 349. 351.]\n"
     ]
    }
   ],
   "source": [
    "#Block Size: 4, Window Size: 2, M: 90, N: 357\n",
    "b = 4\n",
    "w = 2\n",
    "N = 354\n",
    "M = int(np.ceil(N / b))\n",
    "print(np.maximum(1, np.arange(M) * b - 0.5*w))\n",
    "print(np.minimum(np.arange(M) * b + 0.5*w, N - b + 1))\n",
    "\n",
    "#sind blöcke größer als das halbe Window gibts nen Fehler in der Formulierung"
   ]
  },
  {
   "cell_type": "code",
   "execution_count": 179,
   "metadata": {},
   "outputs": [
    {
     "name": "stdout",
     "output_type": "stream",
     "text": [
      "[  0.   3.   7.  11.  15.  19.  23.  27.  31.  35.  39.  43.  47.  51.\n",
      "  55.  59.  63.  67.  71.  75.  79.  83.  87.  91.  95.  99. 103. 107.\n",
      " 111. 115. 119. 123. 127. 131. 135. 139. 143. 147. 151. 155. 159. 163.\n",
      " 167. 171. 175. 179. 183. 187. 191. 195. 199. 203. 207. 211. 215. 219.\n",
      " 223. 227. 231. 235. 239. 243. 247. 251. 255. 259. 263. 267. 271. 275.\n",
      " 279. 283. 287. 291. 295. 299. 303. 307. 311. 315. 319. 323. 327. 331.\n",
      " 335. 339. 343. 347. 349.]\n",
      "[  1.   5.   9.  13.  17.  21.  25.  29.  33.  37.  41.  45.  49.  53.\n",
      "  57.  61.  65.  69.  73.  77.  81.  85.  89.  93.  97. 101. 105. 109.\n",
      " 113. 117. 121. 125. 129. 133. 137. 141. 145. 149. 153. 157. 161. 165.\n",
      " 169. 173. 177. 181. 185. 189. 193. 197. 201. 205. 209. 213. 217. 221.\n",
      " 225. 229. 233. 237. 241. 245. 249. 253. 257. 261. 265. 269. 273. 277.\n",
      " 281. 285. 289. 293. 297. 301. 305. 309. 313. 317. 321. 325. 329. 333.\n",
      " 337. 341. 345. 349. 350.]\n"
     ]
    },
    {
     "data": {
      "image/png": "[encoded data removed]",
      "text/plain": [
       "<Figure size 800x500 with 1 Axes>"
      ]
     },
     "metadata": {},
     "output_type": "display_data"
    }
   ],
   "source": [
    "# Compute J_1m and J_2m\n",
    "J_1m_values = np.array([get_J_1m(m, b, w, N) for m in range(M)])\n",
    "print(J_1m_values)\n",
    "J_2m_values = np.array([get_J_2m(m, b, w, N) for m in range(M)])\n",
    "print(J_2m_values)\n",
    "\n",
    "# Compute the difference\n",
    "difference = J_2m_values - J_1m_values\n",
    "\n",
    "# Plot the difference\n",
    "plt.figure(figsize=(8, 5))\n",
    "plt.plot(range(M), difference, marker='o', linestyle='-', label='J_2m - J_1m')\n",
    "plt.xlabel('m')\n",
    "plt.ylabel('Difference')\n",
    "plt.title(f'Difference between J_2m and J_1m, satisfies J_1m < J_2m: {~np.any(J_1m_values >= J_2m_values)}')\n",
    "plt.show()"
   ]
  },
  {
   "cell_type": "code",
   "execution_count": 180,
   "metadata": {},
   "outputs": [],
   "source": [
    "class Sampling:\n",
    "    num_samples = 50 # maintained on class level to ensure comparability between experiments\n",
    "\n",
    "    @classmethod\n",
    "    def iid_bootstrap(cls, data: pd.DataFrame) -> pd.Series:\n",
    "        \"\"\"\n",
    "        müsste ich eigentlich auch durch den local Bootstrap mit B = 1 und b = 1 ersetzen können\n",
    "        Dann ist nur die indizierung scuffed, weil wir decimal numbers as startpuntke der intervalle haben\n",
    "        \"\"\"\n",
    "        \n",
    "        N, col = data.shape\n",
    "        # Precompute column choices for each bootstrap sample\n",
    "        row_choices = np.random.randint(N, size=(cls.num_samples, N))  # Shape: (num_samples, N)\n",
    "        col_choices = np.random.randint(col, size=(cls.num_samples, N))  # Shape: (num_samples, N)\n",
    "\n",
    "        # Extract sampled observations from data using NumPy advanced indexing\n",
    "        sampled_observations = data.values[row_choices, col_choices]  # Shape: (num_samples, N)\n",
    "\n",
    "        return pd.Series(np.sum(sampled_observations, axis=1), name=\"Bootstrap_Sums\")\n",
    "\n",
    "    @classmethod\n",
    "    def lb_bootstrap(cls, data: pd.DataFrame, window_size: int, b: int) -> pd.Series:\n",
    "        \"\"\"\n",
    "        Performs the Local Block Bootstrap (LBB) method from Paparoditis and Politis (2002) \n",
    "        in a vectorized manner with NumPy, adapted to work on multiple sample series.\n",
    "        \n",
    "        Parameters:\n",
    "        - data: pd.DataFrame -> Input time series data\n",
    "        - B: float -> Locality parameter to determine window size\n",
    "        - b: int -> Block size for bootstrapping\n",
    "        \n",
    "        Returns:\n",
    "        - pd.Series -> Summed bootstrap samples\n",
    "        \"\"\"\n",
    "        \n",
    "        N, col = data.shape\n",
    "\n",
    "        # Number of blocks\n",
    "        M = int(np.ceil(N / b))\n",
    "\n",
    "        # Precompute column choices for each bootstrap sample\n",
    "        col_choices = np.random.randint(col, size=(cls.num_samples, M))  # Shape: (num_samples, M)\n",
    "\n",
    "        # Compute Neighborhood window starting and ending indices for each block m\n",
    "        # Note: The -1 is necessary to convert from 1-based to 0-based indexing\n",
    "        # J_1m = np.maximum(1, np.arange(M) * b - 0.5*window_size)-1  # Shape: (M,)\n",
    "        # J_2m = np.minimum(np.arange(M) * b + 0.5*window_size, N - b + 1)-1  # Shape: (M,)\n",
    "\n",
    "        #Test\n",
    "        J_1m = np.array([get_J_1m(m, b, window_size, N) for m in range(M)])\n",
    "        J_2m = np.array([get_J_2m(m, b, window_size, N) for m in range(M)])\n",
    "\n",
    "        \n",
    "        print(f\"Block Size: {b}, Window Size: {window_size}, M: {M}, N: {N}\")\n",
    "        print(J_1m)\n",
    "        print(J_2m)\n",
    "\n",
    "        # Generate block starting indices for each block m\n",
    "        I_m = np.random.randint(J_1m, J_2m+1, size=(cls.num_samples, M))  # Shape: (num_samples, M), +1 to account for open interval\n",
    "\n",
    "        # Generate row index ranges for each block (vectorized)\n",
    "        row_ranges = I_m[:, :, None] + np.arange(b)  # Shape: (num_samples, M, b)\n",
    "\n",
    "        # print(row_ranges)\n",
    "\n",
    "        # Extract sampled blocks from data using NumPy advanced indexing\n",
    "        sampled_blocks = data.values[row_ranges, col_choices[:, :, None]]  # Shape: (num_samples, M, b)\n",
    "\n",
    "        # Flatten each sample into a 1D time series and truncate to length N\n",
    "        bootstrap_samples = sampled_blocks.reshape(cls.num_samples, -1)[:, :N]  # Shape: (num_samples, N)\n",
    "        #Christian: soll lieber Zeitreihe vorher auf Vielfaches von b kürzen, als unvollständige Blöcke zu verwenden\n",
    "\n",
    "        return pd.Series(np.sum(bootstrap_samples, axis=1), name=\"Bootstrap_Sums\")"
   ]
  },
  {
   "cell_type": "code",
   "execution_count": 181,
   "metadata": {},
   "outputs": [
    {
     "name": "stdout",
     "output_type": "stream",
     "text": [
      "[  0.   3.   7.  11.  15.  19.  23.  27.  31.  35.  39.  43.  47.  51.\n",
      "  55.  59.  63.  67.  71.  75.  79.  83.  87.  91.  95.  99. 103. 107.\n",
      " 111. 115. 119. 123. 127. 131. 135. 139. 143. 147. 151. 155. 159. 163.\n",
      " 167. 171. 175. 179. 183. 187. 191. 195. 199. 203. 207. 211. 215. 219.\n",
      " 223. 227. 231. 235. 239. 243. 247. 251. 255. 259. 263. 267. 271. 275.\n",
      " 279. 283. 287. 291. 295. 299. 303. 307. 311. 315. 319. 323. 327. 331.\n",
      " 335. 339. 343. 347. 351. 355.]\n",
      "[  1.   5.   9.  13.  17.  21.  25.  29.  33.  37.  41.  45.  49.  53.\n",
      "  57.  61.  65.  69.  73.  77.  81.  85.  89.  93.  97. 101. 105. 109.\n",
      " 113. 117. 121. 125. 129. 133. 137. 141. 145. 149. 153. 157. 161. 165.\n",
      " 169. 173. 177. 181. 185. 189. 193. 197. 201. 205. 209. 213. 217. 221.\n",
      " 225. 229. 233. 237. 241. 245. 249. 253. 257. 261. 265. 269. 273. 277.\n",
      " 281. 285. 289. 293. 297. 301. 305. 309. 313. 317. 321. 325. 329. 333.\n",
      " 337. 341. 345. 349. 353. 354.]\n"
     ]
    }
   ],
   "source": [
    "# kein Zero indexing, inclusive grenzen\n",
    "N = 357\n",
    "print(np.maximum(0,np.arange(90) * 4 - 0.5*2))\n",
    "print(np.minimum(np.arange(90) * 4 + 0.5*2, N-4+1))"
   ]
  },
  {
   "cell_type": "markdown",
   "metadata": {},
   "source": [
    "### Metrics\n",
    "\n",
    "$$\n",
    "W_p(\\mu_1, \\mu_2) = \\left( \\int_0^1 \\left| F_1^{-1}(q) - F_2^{-1}(q) \\right|^p \\, dq \\right)^{\\frac{1}{p}}\n",
    "$$\n"
   ]
  },
  {
   "cell_type": "code",
   "execution_count": 182,
   "metadata": {},
   "outputs": [],
   "source": [
    "class Metrics:\n",
    "\n",
    "    @staticmethod\n",
    "    def mse(test_data: pd.Series, bootstrap_samples: pd.Series) -> float:\n",
    "        \"\"\"\n",
    "        Computes the Mean Squared Error (MSE) as decomposed into bias^2 and variance.\n",
    "        \n",
    "        Parameters:\n",
    "        - test_data: The ground truth value for comparison (assumed seasonal demand sum).\n",
    "        - bootstrap_samples: A Pandas Series of bootstrap sample estimates.\n",
    "        \n",
    "        Returns:\n",
    "        - MSE value as a float.\n",
    "        \"\"\"\n",
    "        bias = (np.mean(bootstrap_samples) - np.sum(test_data, axis=0)) ** 2\n",
    "        \n",
    "        variance = np.var(bootstrap_samples, ddof=1)  # Using sample variance (ddof=1 for unbiased estimator)\n",
    "        \n",
    "        mse = bias + variance\n",
    "        return mse\n",
    "    \n",
    "    @staticmethod\n",
    "    def mape(test_data: pd.Series, bootstrap_samples: pd.Series) -> float:\n",
    "        \"\"\"\n",
    "        Computes the Mean Absolute Percentage Error (MAPE) as a percentage value.\n",
    "        \"\"\"\n",
    "        return np.mean(np.abs(bootstrap_samples - np.sum(test_data)) / np.sum(test_data)) * 100\n",
    "\n",
    "    @staticmethod\n",
    "    def mae(test_data: pd.Series, bootstrap_samples: pd.Series) -> float:\n",
    "        \"\"\"\n",
    "        Computes the Mean Absolute Error (MAE).\n",
    "        \"\"\"\n",
    "        return np.mean(np.abs(bootstrap_samples - np.sum(test_data)))\n",
    "\n",
    "    @staticmethod\n",
    "    def discrete_wasserstein(dist1: pd.Series, dist2:pd.Series, p: int= 2):\n",
    "        \"\"\"\n",
    "        Compute the p-Wasserstein distance between two discrete one dimensional distributions.\n",
    "        \n",
    "        Parameters:\n",
    "        - dist1: np.array, first distribution samples\n",
    "        - dist2: np.array, second distribution samples\n",
    "        - p: int, order of Wasserstein distance\n",
    "        \n",
    "        Returns:\n",
    "        - Wasserstein-p distance (float)\n",
    "        \"\"\"\n",
    "        dist1_sorted = np.sort(dist1)\n",
    "        dist2_sorted = np.sort(dist2)\n",
    "\n",
    "        return np.power(np.sum(np.abs(dist1_sorted - dist2_sorted) ** p) / len(dist1), 1 / p)"
   ]
  },
  {
   "cell_type": "markdown",
   "metadata": {},
   "source": [
    "### Parameter Evaluation"
   ]
  },
  {
   "cell_type": "code",
   "execution_count": 183,
   "metadata": {},
   "outputs": [],
   "source": [
    "class Evaluation:\n",
    "\n",
    "    def __init__(self, input_data):\n",
    "        self.input_data = input_data\n",
    "\n",
    "    def single_evaluation(self, key: int):\n",
    "        \"\"\"\n",
    "        helps to avoid waiting time in debugging\n",
    "        \"\"\"\n",
    "        pass\n",
    "\n",
    "    def full_evaluation(self, window_size, block_size, num_twins):\n",
    "        \"\"\"\n",
    "        Perform a full evaluation over all test items.\n",
    "        I could save time by fetching the data in one batch -> include twin item selection in a later step\n",
    "        \"\"\"\n",
    "        results_list = [\n",
    "            {\n",
    "                \"TEST_ITEM_COMMUNICATIONKEY\": test_item,\n",
    "                \"window_size\": window_size,\n",
    "                \"block_size\": block_size,\n",
    "                \"num_twins\": num_twins,\n",
    "                \"MSE\": np.mean(Metrics.mse(\n",
    "                    self.input_data.get_test_item(test_item),\n",
    "                    Sampling.lb_bootstrap(self.input_data.get_twin_item(test_item, num_twins), window_size, block_size)\n",
    "                ))\n",
    "            }\n",
    "            for test_item in self.input_data.TEST_ITEM_COMMUNICATIONKEYS\n",
    "        ]\n",
    "\n",
    "        return pd.DataFrame(results_list)\n",
    "\n",
    "    def evaluate_parameter_grid(self, max_twin_num: int = 10, max_block_size: int = 30, max_window_size: int = 60):\n",
    "        #select reasonable max parameter values\n",
    "\n",
    "        block_sizes = np.arange(1, max_block_size + 1)\n",
    "        window_size = np.arange(2, max_window_size +2 , 2)\n",
    "        param_grid = [(w, b, max_twin_num) for w in window_size for b in block_sizes]\n",
    "\n",
    "        results_list = []\n",
    "\n",
    "        for params in tqdm(param_grid, desc=\"Grid Search Evaluation\"):\n",
    "        \n",
    "            # try:\n",
    "            #     run_results = run_evalutation(input_data, w, num_twins, b)\n",
    "            #     print(f\"Succes for window_size = {w}, b = {b}, Twins = {num_twins}\")\n",
    "            # except Exception as e:\n",
    "            #     print(f\"Failed for window_size = {w}, b = {b}, Twins = {num_twins}\")\n",
    "            \n",
    "            results_list.append(self.full_evaluation(*params))\n",
    "    \n",
    "\n",
    "        return pd.concat(results_list, ignore_index=True)"
   ]
  },
  {
   "cell_type": "code",
   "execution_count": 184,
   "metadata": {},
   "outputs": [],
   "source": [
    "evaluator = Evaluation(InputData())\n",
    "\n",
    "#Beispiel für Funktionalität\n",
    "#evaluator.full_evalutation(10, 4, 5)"
   ]
  },
  {
   "cell_type": "code",
   "execution_count": 185,
   "metadata": {},
   "outputs": [],
   "source": [
    "#evaluator.evaluate_parameter_grid()\n",
    "#Block Size: 4, Window Size: 2, M: 90, N: 357"
   ]
  },
  {
   "cell_type": "markdown",
   "metadata": {},
   "source": [
    "### Test Area"
   ]
  },
  {
   "cell_type": "code",
   "execution_count": 186,
   "metadata": {},
   "outputs": [
    {
     "ename": "NameError",
     "evalue": "name 'test' is not defined",
     "output_type": "error",
     "traceback": [
      "\u001b[0;31m---------------------------------------------------------------------------\u001b[0m",
      "\u001b[0;31mNameError\u001b[0m                                 Traceback (most recent call last)",
      "Cell \u001b[0;32mIn[186], line 1\u001b[0m\n\u001b[0;32m----> 1\u001b[0m bootstrap_results \u001b[38;5;241m=\u001b[39m Sampling\u001b[38;5;241m.\u001b[39mlb_bootstrap(\u001b[43mtest\u001b[49m, B\u001b[38;5;241m=\u001b[39m\u001b[38;5;241m0.1\u001b[39m, b\u001b[38;5;241m=\u001b[39m\u001b[38;5;241m7\u001b[39m)\n\u001b[1;32m      2\u001b[0m bootstrap_results\u001b[38;5;241m.\u001b[39mplot(kind\u001b[38;5;241m=\u001b[39m\u001b[38;5;124m\"\u001b[39m\u001b[38;5;124mhist\u001b[39m\u001b[38;5;124m\"\u001b[39m, bins\u001b[38;5;241m=\u001b[39m\u001b[38;5;241m50\u001b[39m, title\u001b[38;5;241m=\u001b[39m\u001b[38;5;124m\"\u001b[39m\u001b[38;5;124mLocal Block Bootstrap\u001b[39m\u001b[38;5;124m\"\u001b[39m, edgecolor\u001b[38;5;241m=\u001b[39m\u001b[38;5;124m\"\u001b[39m\u001b[38;5;124mblack\u001b[39m\u001b[38;5;124m\"\u001b[39m)\n\u001b[1;32m      3\u001b[0m plt\u001b[38;5;241m.\u001b[39mshow()\n",
      "\u001b[0;31mNameError\u001b[0m: name 'test' is not defined"
     ]
    }
   ],
   "source": [
    "bootstrap_results = Sampling.lb_bootstrap(test, B=0.1, b=7)\n",
    "bootstrap_results.plot(kind=\"hist\", bins=50, title=\"Local Block Bootstrap\", edgecolor=\"black\")\n",
    "plt.show()"
   ]
  },
  {
   "cell_type": "code",
   "execution_count": null,
   "metadata": {},
   "outputs": [
    {
     "data": {
      "text/plain": [
       "count    50000.000000\n",
       "mean       536.748180\n",
       "std         49.403277\n",
       "min        343.000000\n",
       "25%        503.000000\n",
       "50%        536.000000\n",
       "75%        569.000000\n",
       "max        755.000000\n",
       "Name: Bootstrap_Sums, dtype: float64"
      ]
     },
     "metadata": {},
     "output_type": "display_data"
    },
    {
     "data": {
      "image/png": "[encoded data removed]",
      "text/plain": [
       "<Figure size 640x480 with 1 Axes>"
      ]
     },
     "metadata": {},
     "output_type": "display_data"
    },
    {
     "ename": "",
     "evalue": "",
     "output_type": "error",
     "traceback": [
      "\u001b[1;31mnotebook controller is DISPOSED. \n",
      "\u001b[1;31mView Jupyter <a href='command:jupyter.viewOutput'>log</a> for further details."
     ]
    },
    {
     "ename": "",
     "evalue": "",
     "output_type": "error",
     "traceback": [
      "\u001b[1;31mnotebook controller is DISPOSED. \n",
      "\u001b[1;31mView Jupyter <a href='command:jupyter.viewOutput'>log</a> for further details."
     ]
    },
    {
     "ename": "",
     "evalue": "",
     "output_type": "error",
     "traceback": [
      "\u001b[1;31mnotebook controller is DISPOSED. \n",
      "\u001b[1;31mView Jupyter <a href='command:jupyter.viewOutput'>log</a> for further details."
     ]
    }
   ],
   "source": [
    "results_simple = Sampling.iid_bootstrap(twin)\n",
    "display(results_simple.describe())\n",
    "results_simple.plot(kind=\"hist\", title=\"standard bootstrap\", bins=50, color=\"skyblue\", edgecolor=\"black\");"
   ]
  },
  {
   "cell_type": "code",
   "execution_count": null,
   "metadata": {},
   "outputs": [
    {
     "name": "stdout",
     "output_type": "stream",
     "text": [
      "count    50000.000000\n",
      "mean       540.354680\n",
      "std        101.673639\n",
      "min        185.000000\n",
      "25%        469.000000\n",
      "50%        536.000000\n",
      "75%        606.000000\n",
      "max       1013.000000\n",
      "Name: Bootstrap_Sums, dtype: float64\n"
     ]
    },
    {
     "data": {
      "image/png": "[encoded data removed]",
      "text/plain": [
       "<Figure size 640x480 with 1 Axes>"
      ]
     },
     "metadata": {},
     "output_type": "display_data"
    },
    {
     "ename": "",
     "evalue": "",
     "output_type": "error",
     "traceback": [
      "\u001b[1;31mnotebook controller is DISPOSED. \n",
      "\u001b[1;31mView Jupyter <a href='command:jupyter.viewOutput'>log</a> for further details."
     ]
    },
    {
     "ename": "",
     "evalue": "",
     "output_type": "error",
     "traceback": [
      "\u001b[1;31mnotebook controller is DISPOSED. \n",
      "\u001b[1;31mView Jupyter <a href='command:jupyter.viewOutput'>log</a> for further details."
     ]
    },
    {
     "ename": "",
     "evalue": "",
     "output_type": "error",
     "traceback": [
      "\u001b[1;31mnotebook controller is DISPOSED. \n",
      "\u001b[1;31mView Jupyter <a href='command:jupyter.viewOutput'>log</a> for further details."
     ]
    }
   ],
   "source": [
    "results_lbb = Sampling.lb_bootstrap(twin, B=0.1, b=7)\n",
    "print(results_lbb.describe())\n",
    "results_lbb.plot(kind=\"hist\", bins=50, title=\"llb bootstrap\",color=\"skyblue\", edgecolor=\"black\");"
   ]
  },
  {
   "cell_type": "markdown",
   "metadata": {},
   "source": [
    "# Normality test\n",
    "- tune number of iteration until distribution is normal"
   ]
  },
  {
   "cell_type": "code",
   "execution_count": null,
   "metadata": {},
   "outputs": [
    {
     "data": {
      "image/png": "[encoded data removed]",
      "text/plain": [
       "<Figure size 1200x500 with 2 Axes>"
      ]
     },
     "metadata": {},
     "output_type": "display_data"
    },
    {
     "ename": "",
     "evalue": "",
     "output_type": "error",
     "traceback": [
      "\u001b[1;31mnotebook controller is DISPOSED. \n",
      "\u001b[1;31mView Jupyter <a href='command:jupyter.viewOutput'>log</a> for further details."
     ]
    },
    {
     "ename": "",
     "evalue": "",
     "output_type": "error",
     "traceback": [
      "\u001b[1;31mnotebook controller is DISPOSED. \n",
      "\u001b[1;31mView Jupyter <a href='command:jupyter.viewOutput'>log</a> for further details."
     ]
    },
    {
     "ename": "",
     "evalue": "",
     "output_type": "error",
     "traceback": [
      "\u001b[1;31mnotebook controller is DISPOSED. \n",
      "\u001b[1;31mView Jupyter <a href='command:jupyter.viewOutput'>log</a> for further details."
     ]
    }
   ],
   "source": [
    "fig, (ax1, ax2) = plt.subplots(1, 2, figsize=(12, 5))\n",
    "\n",
    "# Plot the histogram\n",
    "ax1.hist(results_simple, bins=50, density=True, alpha=0.6, color='grey', edgecolor='black', label='Bootstrap PDF')\n",
    "ax1.set_title('Histogram of Bootstrapped Values')\n",
    "ax1.set_xlabel('Value')\n",
    "ax1.set_ylabel('Density')\n",
    "\n",
    "# Remove top and right spines for the histogram\n",
    "ax1.spines['top'].set_visible(False)\n",
    "ax1.spines['right'].set_visible(False)\n",
    "\n",
    "# Calculate the normal PDF\n",
    "x = np.linspace(min(results_simple), max(results_simple), 100)\n",
    "normal_pdf = stats.norm.pdf(x, loc=np.mean(results_simple), scale=np.sqrt(np.var(results_simple, ddof = 1)))\n",
    "\n",
    "# Plot the normal PDF\n",
    "ax1.plot(x, normal_pdf, label='Normal PDF', color='black', linestyle='-')\n",
    "\n",
    "# Plot the empirical CDF\n",
    "data_sorted = np.sort(results_simple)\n",
    "# Calculate the ECDF values\n",
    "ecdf = np.arange(1, len(data_sorted) + 1) / len(data_sorted)\n",
    "ax2.plot(data_sorted, ecdf, marker='o', linestyle='none', color='grey', label='Bootstrap CDF')\n",
    "\n",
    "# Remove top and right spines for the CDF\n",
    "ax2.spines['top'].set_visible(False)\n",
    "ax2.spines['right'].set_visible(False)\n",
    "\n",
    "# Calculate the normal CDF\n",
    "normal_cdf = stats.norm.cdf(x, loc=np.mean(results_simple), scale=np.sqrt(np.var(results_simple, ddof = 1)))\n",
    "\n",
    "# Plot the normal CDF\n",
    "ax2.plot(x, normal_cdf, label='Normal CDF', color='black', linestyle='-')\n",
    "\n",
    "ax2.set_title('Empirical CDF vs Normal CDF')\n",
    "ax2.set_xlabel('Value')\n",
    "ax2.set_ylabel('Cumulative Probability')\n",
    "\n",
    "# Add legends\n",
    "ax1.legend()\n",
    "ax2.legend()\n",
    "\n",
    "plt.tight_layout()\n",
    "plt.savefig('plots/bootstrap_joint_distribution.svg')\n",
    "plt.show()\n"
   ]
  },
  {
   "cell_type": "code",
   "execution_count": null,
   "metadata": {},
   "outputs": [
    {
     "ename": "",
     "evalue": "",
     "output_type": "error",
     "traceback": [
      "\u001b[1;31mnotebook controller is DISPOSED. \n",
      "\u001b[1;31mView Jupyter <a href='command:jupyter.viewOutput'>log</a> for further details."
     ]
    },
    {
     "ename": "",
     "evalue": "",
     "output_type": "error",
     "traceback": [
      "\u001b[1;31mnotebook controller is DISPOSED. \n",
      "\u001b[1;31mView Jupyter <a href='command:jupyter.viewOutput'>log</a> for further details."
     ]
    },
    {
     "ename": "",
     "evalue": "",
     "output_type": "error",
     "traceback": [
      "\u001b[1;31mnotebook controller is DISPOSED. \n",
      "\u001b[1;31mView Jupyter <a href='command:jupyter.viewOutput'>log</a> for further details."
     ]
    }
   ],
   "source": [
    "#H0: the data is normally distributed\n",
    "#define alpha level\n",
    "alpha = 0.05"
   ]
  },
  {
   "cell_type": "code",
   "execution_count": null,
   "metadata": {},
   "outputs": [
    {
     "ename": "",
     "evalue": "",
     "output_type": "error",
     "traceback": [
      "\u001b[1;31mnotebook controller is DISPOSED. \n",
      "\u001b[1;31mView Jupyter <a href='command:jupyter.viewOutput'>log</a> for further details."
     ]
    },
    {
     "ename": "",
     "evalue": "",
     "output_type": "error",
     "traceback": [
      "\u001b[1;31mnotebook controller is DISPOSED. \n",
      "\u001b[1;31mView Jupyter <a href='command:jupyter.viewOutput'>log</a> for further details."
     ]
    },
    {
     "ename": "",
     "evalue": "",
     "output_type": "error",
     "traceback": [
      "\u001b[1;31mnotebook controller is DISPOSED. \n",
      "\u001b[1;31mView Jupyter <a href='command:jupyter.viewOutput'>log</a> for further details."
     ]
    }
   ],
   "source": [
    "#generate integer samples from normal distribution\n",
    "norm_samples = np.random.normal(50, 25, 100000).astype(int)"
   ]
  },
  {
   "cell_type": "code",
   "execution_count": null,
   "metadata": {},
   "outputs": [
    {
     "name": "stdout",
     "output_type": "stream",
     "text": [
      "0.012248796881928087\n",
      "Reject the null hypothesis: The data does not appear to be normally distributed.\n"
     ]
    },
    {
     "ename": "",
     "evalue": "",
     "output_type": "error",
     "traceback": [
      "\u001b[1;31mnotebook controller is DISPOSED. \n",
      "\u001b[1;31mView Jupyter <a href='command:jupyter.viewOutput'>log</a> for further details."
     ]
    },
    {
     "ename": "",
     "evalue": "",
     "output_type": "error",
     "traceback": [
      "\u001b[1;31mnotebook controller is DISPOSED. \n",
      "\u001b[1;31mView Jupyter <a href='command:jupyter.viewOutput'>log</a> for further details."
     ]
    },
    {
     "ename": "",
     "evalue": "",
     "output_type": "error",
     "traceback": [
      "\u001b[1;31mnotebook controller is DISPOSED. \n",
      "\u001b[1;31mView Jupyter <a href='command:jupyter.viewOutput'>log</a> for further details."
     ]
    }
   ],
   "source": [
    "_, p_value = stats.normaltest(norm_samples)\n",
    "print(p_value)\n",
    "if p_value > alpha:\n",
    "    print(\"Fail to reject the null hypothesis: The data appears to be normally distributed.\")\n",
    "else:\n",
    "    print(\"Reject the null hypothesis: The data does not appear to be normally distributed.\")"
   ]
  },
  {
   "cell_type": "code",
   "execution_count": null,
   "metadata": {},
   "outputs": [
    {
     "name": "stdout",
     "output_type": "stream",
     "text": [
      "Reject the null hypothesis: The data does not appear to be normally distributed.\n"
     ]
    },
    {
     "name": "stderr",
     "output_type": "stream",
     "text": [
      "/home/chnaeher/.local/lib/python3.10/site-packages/scipy/stats/_axis_nan_policy.py:573: UserWarning: scipy.stats.shapiro: For N > 5000, computed p-value may not be accurate. Current N is 10000.\n",
      "  res = hypotest_fun_out(*samples, **kwds)\n"
     ]
    },
    {
     "ename": "",
     "evalue": "",
     "output_type": "error",
     "traceback": [
      "\u001b[1;31mnotebook controller is DISPOSED. \n",
      "\u001b[1;31mView Jupyter <a href='command:jupyter.viewOutput'>log</a> for further details."
     ]
    },
    {
     "ename": "",
     "evalue": "",
     "output_type": "error",
     "traceback": [
      "\u001b[1;31mnotebook controller is DISPOSED. \n",
      "\u001b[1;31mView Jupyter <a href='command:jupyter.viewOutput'>log</a> for further details."
     ]
    },
    {
     "ename": "",
     "evalue": "",
     "output_type": "error",
     "traceback": [
      "\u001b[1;31mnotebook controller is DISPOSED. \n",
      "\u001b[1;31mView Jupyter <a href='command:jupyter.viewOutput'>log</a> for further details."
     ]
    }
   ],
   "source": [
    "# Warning: for N > 5000, computed p-value may not be accurate.\n",
    "_, p_value = stats.shapiro(results_simple)\n",
    "print(p_value)\n",
    "if p_value > alpha:\n",
    "    print(\"Fail to reject the null hypothesis: The data appears to be normally distributed.\")\n",
    "else:\n",
    "    print(\"Reject the null hypothesis: The data does not appear to be normally distributed.\")"
   ]
  }
 ],
 "metadata": {
  "kernelspec": {
   "display_name": "diplom",
   "language": "python",
   "name": "python3"
  },
  "language_info": {
   "codemirror_mode": {
    "name": "ipython",
    "version": 3
   },
   "file_extension": ".py",
   "mimetype": "text/x-python",
   "name": "python",
   "nbconvert_exporter": "python",
   "pygments_lexer": "ipython3",
   "version": "3.9.21"
  }
 },
 "nbformat": 4,
 "nbformat_minor": 2
}
