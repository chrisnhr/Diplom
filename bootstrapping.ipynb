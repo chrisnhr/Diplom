{
 "cells": [
  {
   "cell_type": "code",
   "execution_count": 705,
   "metadata": {},
   "outputs": [],
   "source": [
    "import numpy as np\n",
    "import matplotlib.pyplot as plt\n",
    "import scipy.stats as stats\n",
    "import pandas as pd\n",
    "from google.cloud import bigquery as bq\n",
    "from tqdm import tqdm\n",
    "import warnings"
   ]
  },
  {
   "cell_type": "code",
   "execution_count": 706,
   "metadata": {},
   "outputs": [],
   "source": [
    "# TODO: Hook, dass die NB Outputs im pre-commit gecleared werden\n",
    "# FIXME: Twins werden nicht korrekt gefiltert, colselection ist falsch wegen excluding ub\n",
    "# NOTE:"
   ]
  },
  {
   "cell_type": "markdown",
   "metadata": {},
   "source": [
    "# Import Data"
   ]
  },
  {
   "cell_type": "code",
   "execution_count": 707,
   "metadata": {},
   "outputs": [],
   "source": [
    "#entweder läd er die Daten aus dem path oder aus BQ, wenn nicht gefunden\n",
    "#definiert dann die Tabelle als globale Variable\n",
    "\n",
    "\n",
    "class InputData:\n",
    "    def __init__(self, data: pd.DataFrame):\n",
    "        self.data = data\n",
    "        self.TEST_ITEM_COMMUNICATIONKEYS = self.data[\"TEST_ITEM_COMMUNICATIONKEY\"].unique()\n",
    "        self.TWIN_ITEM_COMMUNICATIONKEYS = self.data[\"TWIN_ITEM_COMMUNICATIONKEY\"].unique()\n",
    "        \n",
    "    def prepare_data(self, num_twins: int, key: int) -> pd.DataFrame:\n",
    "\n",
    "        #warning, when wanted num_twins higher than twin count\n",
    "        #at one point i should check that the test length is the same as the twin max length\n",
    "        # print out quick summary of the data (start date, end date etc)\n",
    "        # beidees berechnen, nur eines zurückgeben\n",
    "\n",
    "        if num_twins == 0:\n",
    "            #case: test item\n",
    "            df = self.data.loc[\n",
    "                (self.data[\"TEST_ITEM_COMMUNICATIONKEY\"] == key) & \n",
    "                (self.data[\"TEST_ITEM_COMMUNICATIONKEY\"] == self.data[\"TWIN_ITEM_COMMUNICATIONKEY\"]),\n",
    "                [\"CALENDAR_DATE\", \"TWIN_ITEM_COMMUNICATIONKEY\", \"ANSPRACHE\"]\n",
    "            ].reset_index(drop=True)\n",
    "\n",
    "            df = df.pivot(index=\"CALENDAR_DATE\", columns=\"TWIN_ITEM_COMMUNICATIONKEY\", values=\"ANSPRACHE\")\n",
    "        else:\n",
    "            #case: twin items\n",
    "            df = self.data.loc[\n",
    "                (self.data[\"TEST_ITEM_COMMUNICATIONKEY\"] == key) & \n",
    "                (self.data[\"TEST_ITEM_COMMUNICATIONKEY\"] != self.data[\"TWIN_ITEM_COMMUNICATIONKEY\"]),\n",
    "                [\"CALENDAR_DATE\", \"TWIN_ITEM_COMMUNICATIONKEY\", \"ANSPRACHE\"]\n",
    "            ].reset_index(drop=True)\n",
    "\n",
    "            df = df.pivot(index=\"CALENDAR_DATE\", columns=\"TWIN_ITEM_COMMUNICATIONKEY\", values=\"ANSPRACHE\")\n",
    "\n",
    "            # reduce to wanted number of twin items\n",
    "            df = df.iloc[:, :num_twins+1]\n",
    "\n",
    "        #reconsider the method of this step\n",
    "        #print(f\"There are {df.isna().sum().sum()} NaN values in the data which are replaced with 0s.\")\n",
    "        df.fillna(0, inplace=True)\n",
    "        return df\n",
    "    \n",
    "    @staticmethod\n",
    "    def get_bq_table(table_id, file_path=None, project_id: str = \"brain-flash-dev\", dataset_id: str = \"dagster_common\"):\n",
    "        client = bq.Client(project=project_id)\n",
    "        table_ref = f\"{project_id}.{dataset_id}.{table_id}\"\n",
    "\n",
    "        query = f\"SELECT * FROM `{table_ref}`\"\n",
    "        df = client.query(query).to_dataframe()\n",
    "\n",
    "        if file_path is not None:\n",
    "            df.to_csv(file_path, index=False)\n",
    "            print(f\"DataFrame saved to {file_path}\")\n",
    "        \n",
    "        return df"
   ]
  },
  {
   "cell_type": "code",
   "execution_count": 708,
   "metadata": {},
   "outputs": [],
   "source": [
    "input = InputData(df)\n",
    "test = input.prepare_data(5, 716679764)"
   ]
  },
  {
   "cell_type": "code",
   "execution_count": 709,
   "metadata": {},
   "outputs": [
    {
     "data": {
      "text/html": [
       "<div>\n",
       "<style scoped>\n",
       "    .dataframe tbody tr th:only-of-type {\n",
       "        vertical-align: middle;\n",
       "    }\n",
       "\n",
       "    .dataframe tbody tr th {\n",
       "        vertical-align: top;\n",
       "    }\n",
       "\n",
       "    .dataframe thead th {\n",
       "        text-align: right;\n",
       "    }\n",
       "</style>\n",
       "<table border=\"1\" class=\"dataframe\">\n",
       "  <thead>\n",
       "    <tr style=\"text-align: right;\">\n",
       "      <th>TWIN_ITEM_COMMUNICATIONKEY</th>\n",
       "      <th>551971034</th>\n",
       "      <th>585248259</th>\n",
       "      <th>585738281</th>\n",
       "      <th>587081823</th>\n",
       "      <th>596532614</th>\n",
       "      <th>612870460</th>\n",
       "    </tr>\n",
       "    <tr>\n",
       "      <th>CALENDAR_DATE</th>\n",
       "      <th></th>\n",
       "      <th></th>\n",
       "      <th></th>\n",
       "      <th></th>\n",
       "      <th></th>\n",
       "      <th></th>\n",
       "    </tr>\n",
       "  </thead>\n",
       "  <tbody>\n",
       "    <tr>\n",
       "      <th>2018-02-09</th>\n",
       "      <td>1.0</td>\n",
       "      <td>0.0</td>\n",
       "      <td>1.0</td>\n",
       "      <td>1.0</td>\n",
       "      <td>0.0</td>\n",
       "      <td>20.0</td>\n",
       "    </tr>\n",
       "    <tr>\n",
       "      <th>2018-02-10</th>\n",
       "      <td>1.0</td>\n",
       "      <td>0.0</td>\n",
       "      <td>2.0</td>\n",
       "      <td>5.0</td>\n",
       "      <td>1.0</td>\n",
       "      <td>28.0</td>\n",
       "    </tr>\n",
       "    <tr>\n",
       "      <th>2018-02-11</th>\n",
       "      <td>2.0</td>\n",
       "      <td>0.0</td>\n",
       "      <td>6.0</td>\n",
       "      <td>1.0</td>\n",
       "      <td>2.0</td>\n",
       "      <td>43.0</td>\n",
       "    </tr>\n",
       "    <tr>\n",
       "      <th>2018-02-12</th>\n",
       "      <td>0.0</td>\n",
       "      <td>0.0</td>\n",
       "      <td>4.0</td>\n",
       "      <td>1.0</td>\n",
       "      <td>0.0</td>\n",
       "      <td>23.0</td>\n",
       "    </tr>\n",
       "    <tr>\n",
       "      <th>2018-02-13</th>\n",
       "      <td>0.0</td>\n",
       "      <td>0.0</td>\n",
       "      <td>1.0</td>\n",
       "      <td>0.0</td>\n",
       "      <td>3.0</td>\n",
       "      <td>32.0</td>\n",
       "    </tr>\n",
       "    <tr>\n",
       "      <th>...</th>\n",
       "      <td>...</td>\n",
       "      <td>...</td>\n",
       "      <td>...</td>\n",
       "      <td>...</td>\n",
       "      <td>...</td>\n",
       "      <td>...</td>\n",
       "    </tr>\n",
       "    <tr>\n",
       "      <th>2018-12-09</th>\n",
       "      <td>3.0</td>\n",
       "      <td>2.0</td>\n",
       "      <td>0.0</td>\n",
       "      <td>0.0</td>\n",
       "      <td>0.0</td>\n",
       "      <td>6.0</td>\n",
       "    </tr>\n",
       "    <tr>\n",
       "      <th>2018-12-10</th>\n",
       "      <td>1.0</td>\n",
       "      <td>1.0</td>\n",
       "      <td>0.0</td>\n",
       "      <td>0.0</td>\n",
       "      <td>0.0</td>\n",
       "      <td>5.0</td>\n",
       "    </tr>\n",
       "    <tr>\n",
       "      <th>2018-12-11</th>\n",
       "      <td>2.0</td>\n",
       "      <td>2.0</td>\n",
       "      <td>1.0</td>\n",
       "      <td>0.0</td>\n",
       "      <td>0.0</td>\n",
       "      <td>3.0</td>\n",
       "    </tr>\n",
       "    <tr>\n",
       "      <th>2018-12-12</th>\n",
       "      <td>3.0</td>\n",
       "      <td>0.0</td>\n",
       "      <td>1.0</td>\n",
       "      <td>2.0</td>\n",
       "      <td>0.0</td>\n",
       "      <td>2.0</td>\n",
       "    </tr>\n",
       "    <tr>\n",
       "      <th>2018-12-13</th>\n",
       "      <td>3.0</td>\n",
       "      <td>0.0</td>\n",
       "      <td>0.0</td>\n",
       "      <td>0.0</td>\n",
       "      <td>0.0</td>\n",
       "      <td>2.0</td>\n",
       "    </tr>\n",
       "  </tbody>\n",
       "</table>\n",
       "<p>308 rows × 6 columns</p>\n",
       "</div>"
      ],
      "text/plain": [
       "TWIN_ITEM_COMMUNICATIONKEY  551971034  585248259  585738281  587081823  \\\n",
       "CALENDAR_DATE                                                            \n",
       "2018-02-09                        1.0        0.0        1.0        1.0   \n",
       "2018-02-10                        1.0        0.0        2.0        5.0   \n",
       "2018-02-11                        2.0        0.0        6.0        1.0   \n",
       "2018-02-12                        0.0        0.0        4.0        1.0   \n",
       "2018-02-13                        0.0        0.0        1.0        0.0   \n",
       "...                               ...        ...        ...        ...   \n",
       "2018-12-09                        3.0        2.0        0.0        0.0   \n",
       "2018-12-10                        1.0        1.0        0.0        0.0   \n",
       "2018-12-11                        2.0        2.0        1.0        0.0   \n",
       "2018-12-12                        3.0        0.0        1.0        2.0   \n",
       "2018-12-13                        3.0        0.0        0.0        0.0   \n",
       "\n",
       "TWIN_ITEM_COMMUNICATIONKEY  596532614  612870460  \n",
       "CALENDAR_DATE                                     \n",
       "2018-02-09                        0.0       20.0  \n",
       "2018-02-10                        1.0       28.0  \n",
       "2018-02-11                        2.0       43.0  \n",
       "2018-02-12                        0.0       23.0  \n",
       "2018-02-13                        3.0       32.0  \n",
       "...                               ...        ...  \n",
       "2018-12-09                        0.0        6.0  \n",
       "2018-12-10                        0.0        5.0  \n",
       "2018-12-11                        0.0        3.0  \n",
       "2018-12-12                        0.0        2.0  \n",
       "2018-12-13                        0.0        2.0  \n",
       "\n",
       "[308 rows x 6 columns]"
      ]
     },
     "execution_count": 709,
     "metadata": {},
     "output_type": "execute_result"
    }
   ],
   "source": [
    "test"
   ]
  },
  {
   "cell_type": "code",
   "execution_count": 710,
   "metadata": {},
   "outputs": [
    {
     "name": "stdout",
     "output_type": "stream",
     "text": [
      "DataFrame saved to data/twins_100.csv\n"
     ]
    },
    {
     "data": {
      "text/html": [
       "<div>\n",
       "<style scoped>\n",
       "    .dataframe tbody tr th:only-of-type {\n",
       "        vertical-align: middle;\n",
       "    }\n",
       "\n",
       "    .dataframe tbody tr th {\n",
       "        vertical-align: top;\n",
       "    }\n",
       "\n",
       "    .dataframe thead th {\n",
       "        text-align: right;\n",
       "    }\n",
       "</style>\n",
       "<table border=\"1\" class=\"dataframe\">\n",
       "  <thead>\n",
       "    <tr style=\"text-align: right;\">\n",
       "      <th></th>\n",
       "      <th>TEST_ITEM_COMMUNICATIONKEY</th>\n",
       "      <th>NA_QUOTA</th>\n",
       "      <th>TWIN_ITEM_COMMUNICATIONKEY</th>\n",
       "      <th>CALENDAR_DATE</th>\n",
       "      <th>ANSPRACHE</th>\n",
       "      <th>ANSPRACHE_MARKETING_IMPUTED</th>\n",
       "      <th>FRACTION_SOLDOUT</th>\n",
       "      <th>TWIN_COUNT</th>\n",
       "      <th>FIRST_ANSPRACHE_DATE</th>\n",
       "      <th>LAST_ANSPRACHE_DATE</th>\n",
       "      <th>FIRST_SOLDOUT_DATE</th>\n",
       "      <th>FIRST_SOLDOUT20_DATE</th>\n",
       "      <th>NA_COUNT</th>\n",
       "      <th>TEST_PERIOD</th>\n",
       "      <th>TWIN_PERIOD</th>\n",
       "    </tr>\n",
       "  </thead>\n",
       "  <tbody>\n",
       "    <tr>\n",
       "      <th>0</th>\n",
       "      <td>716679764</td>\n",
       "      <td>0.0</td>\n",
       "      <td>551971034</td>\n",
       "      <td>2018-02-09</td>\n",
       "      <td>1</td>\n",
       "      <td>1</td>\n",
       "      <td>0.000000</td>\n",
       "      <td>9</td>\n",
       "      <td>2019-02-08</td>\n",
       "      <td>2019-12-12</td>\n",
       "      <td>2019-09-03</td>\n",
       "      <td>2019-09-06</td>\n",
       "      <td>0</td>\n",
       "      <td>307</td>\n",
       "      <td>307</td>\n",
       "    </tr>\n",
       "    <tr>\n",
       "      <th>1</th>\n",
       "      <td>716679764</td>\n",
       "      <td>0.0</td>\n",
       "      <td>551971034</td>\n",
       "      <td>2018-02-10</td>\n",
       "      <td>1</td>\n",
       "      <td>1</td>\n",
       "      <td>0.000000</td>\n",
       "      <td>9</td>\n",
       "      <td>2019-02-08</td>\n",
       "      <td>2019-12-12</td>\n",
       "      <td>2019-09-03</td>\n",
       "      <td>2019-09-06</td>\n",
       "      <td>0</td>\n",
       "      <td>307</td>\n",
       "      <td>307</td>\n",
       "    </tr>\n",
       "    <tr>\n",
       "      <th>2</th>\n",
       "      <td>716679764</td>\n",
       "      <td>0.0</td>\n",
       "      <td>551971034</td>\n",
       "      <td>2018-02-11</td>\n",
       "      <td>2</td>\n",
       "      <td>2</td>\n",
       "      <td>0.000000</td>\n",
       "      <td>9</td>\n",
       "      <td>2019-02-08</td>\n",
       "      <td>2019-12-12</td>\n",
       "      <td>2019-09-03</td>\n",
       "      <td>2019-09-06</td>\n",
       "      <td>0</td>\n",
       "      <td>307</td>\n",
       "      <td>307</td>\n",
       "    </tr>\n",
       "    <tr>\n",
       "      <th>3</th>\n",
       "      <td>716679764</td>\n",
       "      <td>0.0</td>\n",
       "      <td>551971034</td>\n",
       "      <td>2018-02-12</td>\n",
       "      <td>0</td>\n",
       "      <td>0</td>\n",
       "      <td>0.000000</td>\n",
       "      <td>9</td>\n",
       "      <td>2019-02-08</td>\n",
       "      <td>2019-12-12</td>\n",
       "      <td>2019-09-03</td>\n",
       "      <td>2019-09-06</td>\n",
       "      <td>0</td>\n",
       "      <td>307</td>\n",
       "      <td>307</td>\n",
       "    </tr>\n",
       "    <tr>\n",
       "      <th>4</th>\n",
       "      <td>716679764</td>\n",
       "      <td>0.0</td>\n",
       "      <td>551971034</td>\n",
       "      <td>2018-02-13</td>\n",
       "      <td>0</td>\n",
       "      <td>0</td>\n",
       "      <td>0.000000</td>\n",
       "      <td>9</td>\n",
       "      <td>2019-02-08</td>\n",
       "      <td>2019-12-12</td>\n",
       "      <td>2019-09-03</td>\n",
       "      <td>2019-09-06</td>\n",
       "      <td>0</td>\n",
       "      <td>307</td>\n",
       "      <td>307</td>\n",
       "    </tr>\n",
       "    <tr>\n",
       "      <th>...</th>\n",
       "      <td>...</td>\n",
       "      <td>...</td>\n",
       "      <td>...</td>\n",
       "      <td>...</td>\n",
       "      <td>...</td>\n",
       "      <td>...</td>\n",
       "      <td>...</td>\n",
       "      <td>...</td>\n",
       "      <td>...</td>\n",
       "      <td>...</td>\n",
       "      <td>...</td>\n",
       "      <td>...</td>\n",
       "      <td>...</td>\n",
       "      <td>...</td>\n",
       "      <td>...</td>\n",
       "    </tr>\n",
       "    <tr>\n",
       "      <th>298787</th>\n",
       "      <td>1711757436</td>\n",
       "      <td>0.0</td>\n",
       "      <td>1711757436</td>\n",
       "      <td>2024-08-08</td>\n",
       "      <td>0</td>\n",
       "      <td>0</td>\n",
       "      <td>0.454545</td>\n",
       "      <td>8</td>\n",
       "      <td>2023-08-14</td>\n",
       "      <td>2024-08-26</td>\n",
       "      <td>2023-11-22</td>\n",
       "      <td>2023-12-05</td>\n",
       "      <td>0</td>\n",
       "      <td>364</td>\n",
       "      <td>364</td>\n",
       "    </tr>\n",
       "    <tr>\n",
       "      <th>298788</th>\n",
       "      <td>1711757436</td>\n",
       "      <td>0.0</td>\n",
       "      <td>1711757436</td>\n",
       "      <td>2024-08-09</td>\n",
       "      <td>1</td>\n",
       "      <td>1</td>\n",
       "      <td>0.556273</td>\n",
       "      <td>8</td>\n",
       "      <td>2023-08-14</td>\n",
       "      <td>2024-08-26</td>\n",
       "      <td>2023-11-22</td>\n",
       "      <td>2023-12-05</td>\n",
       "      <td>0</td>\n",
       "      <td>364</td>\n",
       "      <td>364</td>\n",
       "    </tr>\n",
       "    <tr>\n",
       "      <th>298789</th>\n",
       "      <td>1711757436</td>\n",
       "      <td>0.0</td>\n",
       "      <td>1711757436</td>\n",
       "      <td>2024-08-10</td>\n",
       "      <td>0</td>\n",
       "      <td>0</td>\n",
       "      <td>0.545455</td>\n",
       "      <td>8</td>\n",
       "      <td>2023-08-14</td>\n",
       "      <td>2024-08-26</td>\n",
       "      <td>2023-11-22</td>\n",
       "      <td>2023-12-05</td>\n",
       "      <td>0</td>\n",
       "      <td>364</td>\n",
       "      <td>364</td>\n",
       "    </tr>\n",
       "    <tr>\n",
       "      <th>298790</th>\n",
       "      <td>1711757436</td>\n",
       "      <td>0.0</td>\n",
       "      <td>1711757436</td>\n",
       "      <td>2024-08-11</td>\n",
       "      <td>0</td>\n",
       "      <td>0</td>\n",
       "      <td>0.545455</td>\n",
       "      <td>8</td>\n",
       "      <td>2023-08-14</td>\n",
       "      <td>2024-08-26</td>\n",
       "      <td>2023-11-22</td>\n",
       "      <td>2023-12-05</td>\n",
       "      <td>0</td>\n",
       "      <td>364</td>\n",
       "      <td>364</td>\n",
       "    </tr>\n",
       "    <tr>\n",
       "      <th>298791</th>\n",
       "      <td>1711757436</td>\n",
       "      <td>0.0</td>\n",
       "      <td>1711757436</td>\n",
       "      <td>2024-08-12</td>\n",
       "      <td>2</td>\n",
       "      <td>2</td>\n",
       "      <td>0.569727</td>\n",
       "      <td>8</td>\n",
       "      <td>2023-08-14</td>\n",
       "      <td>2024-08-26</td>\n",
       "      <td>2023-11-22</td>\n",
       "      <td>2023-12-05</td>\n",
       "      <td>0</td>\n",
       "      <td>364</td>\n",
       "      <td>364</td>\n",
       "    </tr>\n",
       "  </tbody>\n",
       "</table>\n",
       "<p>298792 rows × 15 columns</p>\n",
       "</div>"
      ],
      "text/plain": [
       "        TEST_ITEM_COMMUNICATIONKEY  NA_QUOTA  TWIN_ITEM_COMMUNICATIONKEY  \\\n",
       "0                        716679764       0.0                   551971034   \n",
       "1                        716679764       0.0                   551971034   \n",
       "2                        716679764       0.0                   551971034   \n",
       "3                        716679764       0.0                   551971034   \n",
       "4                        716679764       0.0                   551971034   \n",
       "...                            ...       ...                         ...   \n",
       "298787                  1711757436       0.0                  1711757436   \n",
       "298788                  1711757436       0.0                  1711757436   \n",
       "298789                  1711757436       0.0                  1711757436   \n",
       "298790                  1711757436       0.0                  1711757436   \n",
       "298791                  1711757436       0.0                  1711757436   \n",
       "\n",
       "       CALENDAR_DATE  ANSPRACHE  ANSPRACHE_MARKETING_IMPUTED  \\\n",
       "0         2018-02-09          1                            1   \n",
       "1         2018-02-10          1                            1   \n",
       "2         2018-02-11          2                            2   \n",
       "3         2018-02-12          0                            0   \n",
       "4         2018-02-13          0                            0   \n",
       "...              ...        ...                          ...   \n",
       "298787    2024-08-08          0                            0   \n",
       "298788    2024-08-09          1                            1   \n",
       "298789    2024-08-10          0                            0   \n",
       "298790    2024-08-11          0                            0   \n",
       "298791    2024-08-12          2                            2   \n",
       "\n",
       "        FRACTION_SOLDOUT  TWIN_COUNT FIRST_ANSPRACHE_DATE LAST_ANSPRACHE_DATE  \\\n",
       "0               0.000000           9           2019-02-08          2019-12-12   \n",
       "1               0.000000           9           2019-02-08          2019-12-12   \n",
       "2               0.000000           9           2019-02-08          2019-12-12   \n",
       "3               0.000000           9           2019-02-08          2019-12-12   \n",
       "4               0.000000           9           2019-02-08          2019-12-12   \n",
       "...                  ...         ...                  ...                 ...   \n",
       "298787          0.454545           8           2023-08-14          2024-08-26   \n",
       "298788          0.556273           8           2023-08-14          2024-08-26   \n",
       "298789          0.545455           8           2023-08-14          2024-08-26   \n",
       "298790          0.545455           8           2023-08-14          2024-08-26   \n",
       "298791          0.569727           8           2023-08-14          2024-08-26   \n",
       "\n",
       "       FIRST_SOLDOUT_DATE FIRST_SOLDOUT20_DATE  NA_COUNT  TEST_PERIOD  \\\n",
       "0              2019-09-03           2019-09-06         0          307   \n",
       "1              2019-09-03           2019-09-06         0          307   \n",
       "2              2019-09-03           2019-09-06         0          307   \n",
       "3              2019-09-03           2019-09-06         0          307   \n",
       "4              2019-09-03           2019-09-06         0          307   \n",
       "...                   ...                  ...       ...          ...   \n",
       "298787         2023-11-22           2023-12-05         0          364   \n",
       "298788         2023-11-22           2023-12-05         0          364   \n",
       "298789         2023-11-22           2023-12-05         0          364   \n",
       "298790         2023-11-22           2023-12-05         0          364   \n",
       "298791         2023-11-22           2023-12-05         0          364   \n",
       "\n",
       "        TWIN_PERIOD  \n",
       "0               307  \n",
       "1               307  \n",
       "2               307  \n",
       "3               307  \n",
       "4               307  \n",
       "...             ...  \n",
       "298787          364  \n",
       "298788          364  \n",
       "298789          364  \n",
       "298790          364  \n",
       "298791          364  \n",
       "\n",
       "[298792 rows x 15 columns]"
      ]
     },
     "execution_count": 710,
     "metadata": {},
     "output_type": "execute_result"
    }
   ],
   "source": [
    "InputData.get_bq_table(\"CN_data_to_fetch\", file_path='data/twins_100.csv')"
   ]
  },
  {
   "cell_type": "code",
   "execution_count": 711,
   "metadata": {},
   "outputs": [],
   "source": [
    "df = pd.read_csv('data/twins_100.csv')"
   ]
  },
  {
   "cell_type": "markdown",
   "metadata": {},
   "source": [
    "### Bootstrap"
   ]
  },
  {
   "cell_type": "code",
   "execution_count": 712,
   "metadata": {},
   "outputs": [],
   "source": [
    "class Sampling:\n",
    "    num_samples = 50000 # maintained on class level to ensure comparability between experiments\n",
    "    \n",
    "    @classmethod\n",
    "    def lb_bootstrap(cls, data: pd.DataFrame, window_size: int, b: int) -> pd.Series:\n",
    "        \"\"\"\n",
    "        Performs the Local Block Bootstrap (LBB) method from Paparoditis and Politis (2002) \n",
    "        in a vectorized manner with NumPy, adapted to work on multiple sample series.\n",
    "        \n",
    "        Parameters:\n",
    "        - data: pd.DataFrame -> Input time series data\n",
    "        - B: float -> Locality parameter to determine window size\n",
    "        - b: int -> Block size for bootstrapping\n",
    "        \n",
    "        Returns:\n",
    "        - pd.Series -> Summed bootstrap samples\n",
    "        \"\"\"\n",
    "        \n",
    "        N, col = data.shape\n",
    "\n",
    "        # Number of blocks\n",
    "        M = int(np.ceil(N / b))\n",
    "\n",
    "        # Precompute column choices for each bootstrap sample\n",
    "        col_choices = np.random.randint(col, size=(cls.num_samples, M))  # Shape: (num_samples, M)\n",
    "\n",
    "        # Compute Neighborhood window starting and ending indices for each block m\n",
    "        #J_1m = np.maximum(1, np.arange(M) * b - N * B)  # Shape: (M,)\n",
    "        #J_2m = np.minimum(N - b + 1, np.arange(M) * b + N * B)  # Shape: (M,)\n",
    "\n",
    "        J_1m = np.maximum(1, np.arange(M) * b - 0.5*window_size)-1  # Shape: (M,) # first argument used to be 1\n",
    "        J_2m = np.minimum(N - b + 1, np.arange(M) * b + 0.5*window_size)-1  # Shape: (M,) # first argument used to be N - b + 1\n",
    "        #adjustments had to be made because the ub in random.randint is exclusive thus trwoing an error when J_1m = J_2m\n",
    "\n",
    "        # print(b)\n",
    "        # print(M)\n",
    "        # print(N)\n",
    "        # print(J_1m)\n",
    "        # print(J_2m)\n",
    "\n",
    "        # Generate block starting indices for each block m\n",
    "        I_m = np.random.randint(J_1m, J_2m+1, size=(cls.num_samples, M))  # Shape: (num_samples, M)\n",
    "\n",
    "        # Generate row index ranges for each block (vectorized)\n",
    "        row_ranges = I_m[:, :, None] + np.arange(b)  # Shape: (num_samples, M, b)\n",
    "\n",
    "        # print(row_ranges)\n",
    "\n",
    "        # Extract sampled blocks from data using NumPy advanced indexing\n",
    "        sampled_blocks = data.values[row_ranges, col_choices[:, :, None]]  # Shape: (num_samples, M, b)\n",
    "\n",
    "        # Flatten each sample into a 1D time series and truncate to length N\n",
    "        bootstrap_samples = sampled_blocks.reshape(cls.num_samples, -1)[:, :N]  # Shape: (num_samples, N)\n",
    "        #Christian: soll lieber Zeitreihe vorher auf Vielfaches von b kürzen, als unvollständige Blöcke zu verwenden\n",
    "\n",
    "        return pd.Series(np.sum(bootstrap_samples, axis=1), name=\"Bootstrap_Sums\")\n",
    "    \n",
    "    @classmethod\n",
    "    def iid_bootstrap(cls, data: pd.DataFrame) -> pd.Series:\n",
    "        \"\"\"Performs IID bootstrap resampling method on the dataset, adapted to work on multiple sample series.\n",
    "            By defining B as 1 the window size is equal N and with blocksize = 1, we sample individual obersevations.\"\"\"\n",
    "        return Sampling.lb_bootstrap(data, B = 1, b = 1)"
   ]
  },
  {
   "cell_type": "markdown",
   "metadata": {},
   "source": [
    "### Evaluation\n",
    "\n",
    "$$\n",
    "W_p(\\mu_1, \\mu_2) = \\left( \\int_0^1 \\left| F_1^{-1}(q) - F_2^{-1}(q) \\right|^p \\, dq \\right)^{\\frac{1}{p}}\n",
    "$$\n"
   ]
  },
  {
   "cell_type": "code",
   "execution_count": 713,
   "metadata": {},
   "outputs": [],
   "source": [
    "class Evaluation:\n",
    "\n",
    "    @staticmethod\n",
    "    def mse(test_data: pd.Series, bootstrap_samples: pd.Series) -> float:\n",
    "        \"\"\"\n",
    "        Computes the Mean Squared Error (MSE) as decomposed into bias^2 and variance.\n",
    "        \n",
    "        Parameters:\n",
    "        - test_data: The ground truth value for comparison (assumed seasonal demand sum).\n",
    "        - bootstrap_samples: A Pandas Series of bootstrap sample estimates.\n",
    "        \n",
    "        Returns:\n",
    "        - MSE value as a float.\n",
    "        \"\"\"\n",
    "        bias = (np.mean(bootstrap_samples) - np.sum(test_data, axis=0)) ** 2\n",
    "        \n",
    "        variance = np.var(bootstrap_samples, ddof=1)  # Using sample variance (ddof=1 for unbiased estimator)\n",
    "        \n",
    "        mse = bias + variance\n",
    "        return mse\n",
    "    \n",
    "    @staticmethod\n",
    "    def mape(test_data: pd.Series, bootstrap_samples: pd.Series) -> float:\n",
    "        \"\"\"\n",
    "        Computes the Mean Absolute Percentage Error (MAPE) as a percentage value.\n",
    "        \"\"\"\n",
    "        return np.mean(np.abs(bootstrap_samples - np.sum(test_data)) / np.sum(test_data)) * 100\n",
    "\n",
    "    @staticmethod\n",
    "    def mae(test_data: pd.Series, bootstrap_samples: pd.Series) -> float:\n",
    "        \"\"\"\n",
    "        Computes the Mean Absolute Error (MAE).\n",
    "        \"\"\"\n",
    "        return np.mean(np.abs(bootstrap_samples - np.sum(test_data)))\n",
    "\n",
    "    @staticmethod\n",
    "    def discrete_wasserstein(dist1: pd.Series, dist2:pd.Series, p: int= 2):\n",
    "        \"\"\"\n",
    "        Compute the p-Wasserstein distance between two discrete one dimensional distributions.\n",
    "        \n",
    "        Parameters:\n",
    "        - dist1: np.array, first distribution samples\n",
    "        - dist2: np.array, second distribution samples\n",
    "        - p: int, order of Wasserstein distance\n",
    "        \n",
    "        Returns:\n",
    "        - Wasserstein-p distance (float)\n",
    "        \"\"\"\n",
    "        dist1_sorted = np.sort(dist1)\n",
    "        dist2_sorted = np.sort(dist2)\n",
    "\n",
    "        return np.power(np.sum(np.abs(dist1_sorted - dist2_sorted) ** p) / len(dist1), 1 / p)"
   ]
  },
  {
   "cell_type": "markdown",
   "metadata": {},
   "source": [
    "### Determine values for locality factor B"
   ]
  },
  {
   "cell_type": "code",
   "execution_count": 714,
   "metadata": {},
   "outputs": [
    {
     "data": {
      "image/png": "[encoded data removed]",
      "text/plain": [
       "<Figure size 1000x500 with 1 Axes>"
      ]
     },
     "metadata": {},
     "output_type": "display_data"
    }
   ],
   "source": [
    "N = 364\n",
    "# -> which values of B create the window sizes of 60 days? (also include B = 1 because its our benchmark)\n",
    "max_window_size = 60\n",
    "# Compute B values\n",
    "B_for_int = np.arange(2, max_window_size + 1) / (2 * N)# achtung habe hier start auf 2 gesetzt!!!!\n",
    "\n",
    "# Create the figure and axis\n",
    "fig, ax1 = plt.subplots(figsize=(10, 5))\n",
    "\n",
    "# Plot the stair function in black and white\n",
    "ax1.plot(B_for_int, B_for_int * N * 2, drawstyle='steps-post', color='black')\n",
    "\n",
    "# Set labels and title with correct LaTeX formatting\n",
    "ax1.set_xlabel(r'$B$', fontsize=12)\n",
    "ax1.set_ylabel(\"Window Size\", fontsize=12, color='black')  # Updated y-axis label\n",
    "ax1.tick_params(axis='y', labelcolor='black')\n",
    "\n",
    "# Update title with definition that window size must be a natural number (not including 0)\n",
    "ax1.set_title(r'Stair-Step Plot of $B$ against Window Size ($\\mathbb{N}^+$ constraint)', fontsize=14)\n",
    "\n",
    "# Set grid and show plot\n",
    "ax1.grid(True, linestyle='--', color='gray', alpha=0.6)\n",
    "plt.show()"
   ]
  },
  {
   "cell_type": "markdown",
   "metadata": {},
   "source": [
    "### Determine values for window size b"
   ]
  },
  {
   "cell_type": "code",
   "execution_count": 715,
   "metadata": {},
   "outputs": [],
   "source": [
    "#reasonable max block size?\n",
    "max_block_size = 30\n",
    "block_sizes = np.arange(2, max_block_size + 1) #starting at 2 because otherwise sampling will throw an error\n",
    "max_window_size = 60\n",
    "window_size = np.arange(2, max_window_size + 1) #starting at 2 because otherwise sampling will throw an error\n",
    "param_grid = [(w, b, 10) for w in window_size for b in block_sizes]"
   ]
  },
  {
   "cell_type": "markdown",
   "metadata": {},
   "source": [
    "### Parameter grid tuning"
   ]
  },
  {
   "cell_type": "code",
   "execution_count": 716,
   "metadata": {},
   "outputs": [],
   "source": [
    "def run_evalutation(input_data, window_size: int, num_twins: int, b: int) -> pd.DataFrame:\n",
    "    results_list = []  # Use a list to store results\n",
    "\n",
    "    for testitems in input_data.TEST_ITEM_COMMUNICATIONKEYS:\n",
    "        # Compute bootstrap result\n",
    "        result = Sampling.lb_bootstrap(input_data.prepare_data(num_twins, testitems), window_size, b)\n",
    "\n",
    "        # Compute MSE\n",
    "        mse = Evaluation.mse(input_data.prepare_data(0, testitems), result)\n",
    "\n",
    "        # Append result as a dictionary\n",
    "        results_list.append({\n",
    "            \"TEST_ITEM_COMMUNICATIONKEY\": testitems,\n",
    "            \"window_size\": window_size,\n",
    "            \"b\": b,\n",
    "            \"num_twins\": num_twins,\n",
    "            \"MSE\": np.mean(mse)\n",
    "        })\n",
    "\n",
    "    # Convert list of results into a DataFrame (efficient)\n",
    "    results_df = pd.DataFrame(results_list)\n",
    "    return results_df"
   ]
  },
  {
   "cell_type": "code",
   "execution_count": 717,
   "metadata": {},
   "outputs": [
    {
     "data": {
      "text/html": [
       "<div>\n",
       "<style scoped>\n",
       "    .dataframe tbody tr th:only-of-type {\n",
       "        vertical-align: middle;\n",
       "    }\n",
       "\n",
       "    .dataframe tbody tr th {\n",
       "        vertical-align: top;\n",
       "    }\n",
       "\n",
       "    .dataframe thead th {\n",
       "        text-align: right;\n",
       "    }\n",
       "</style>\n",
       "<table border=\"1\" class=\"dataframe\">\n",
       "  <thead>\n",
       "    <tr style=\"text-align: right;\">\n",
       "      <th></th>\n",
       "      <th>TEST_ITEM_COMMUNICATIONKEY</th>\n",
       "      <th>B</th>\n",
       "      <th>b</th>\n",
       "      <th>num_twins</th>\n",
       "      <th>MSE</th>\n",
       "    </tr>\n",
       "  </thead>\n",
       "  <tbody>\n",
       "    <tr>\n",
       "      <th>0</th>\n",
       "      <td>716679764</td>\n",
       "      <td>0.097403</td>\n",
       "      <td>7</td>\n",
       "      <td>10</td>\n",
       "      <td>TWIN_ITEM_COMMUNICATIONKEY\n",
       "716679764    256720...</td>\n",
       "    </tr>\n",
       "    <tr>\n",
       "      <th>1</th>\n",
       "      <td>735286989</td>\n",
       "      <td>0.097403</td>\n",
       "      <td>7</td>\n",
       "      <td>10</td>\n",
       "      <td>TWIN_ITEM_COMMUNICATIONKEY\n",
       "735286989    33561....</td>\n",
       "    </tr>\n",
       "    <tr>\n",
       "      <th>2</th>\n",
       "      <td>796628327</td>\n",
       "      <td>0.097403</td>\n",
       "      <td>7</td>\n",
       "      <td>10</td>\n",
       "      <td>TWIN_ITEM_COMMUNICATIONKEY\n",
       "796628327    13065....</td>\n",
       "    </tr>\n",
       "    <tr>\n",
       "      <th>3</th>\n",
       "      <td>803656013</td>\n",
       "      <td>0.097403</td>\n",
       "      <td>7</td>\n",
       "      <td>10</td>\n",
       "      <td>TWIN_ITEM_COMMUNICATIONKEY\n",
       "803656013    736343...</td>\n",
       "    </tr>\n",
       "    <tr>\n",
       "      <th>4</th>\n",
       "      <td>804245827</td>\n",
       "      <td>0.097403</td>\n",
       "      <td>7</td>\n",
       "      <td>10</td>\n",
       "      <td>TWIN_ITEM_COMMUNICATIONKEY\n",
       "804245827    10567....</td>\n",
       "    </tr>\n",
       "  </tbody>\n",
       "</table>\n",
       "</div>"
      ],
      "text/plain": [
       "   TEST_ITEM_COMMUNICATIONKEY         B  b  num_twins  \\\n",
       "0                   716679764  0.097403  7         10   \n",
       "1                   735286989  0.097403  7         10   \n",
       "2                   796628327  0.097403  7         10   \n",
       "3                   803656013  0.097403  7         10   \n",
       "4                   804245827  0.097403  7         10   \n",
       "\n",
       "                                                 MSE  \n",
       "0  TWIN_ITEM_COMMUNICATIONKEY\n",
       "716679764    256720...  \n",
       "1  TWIN_ITEM_COMMUNICATIONKEY\n",
       "735286989    33561....  \n",
       "2  TWIN_ITEM_COMMUNICATIONKEY\n",
       "796628327    13065....  \n",
       "3  TWIN_ITEM_COMMUNICATIONKEY\n",
       "803656013    736343...  \n",
       "4  TWIN_ITEM_COMMUNICATIONKEY\n",
       "804245827    10567....  "
      ]
     },
     "execution_count": 717,
     "metadata": {},
     "output_type": "execute_result"
    }
   ],
   "source": [
    "evaluation.head()"
   ]
  },
  {
   "cell_type": "code",
   "execution_count": 718,
   "metadata": {},
   "outputs": [],
   "source": [
    "def run_grid_search (param_grid, input_data):\n",
    "    \n",
    "    grid_search_results = pd.DataFrame()\n",
    "    for w, b , num_twins in tqdm(param_grid, desc=\"Grid Search Evaluation\"):\n",
    "        try:\n",
    "            run_results = run_evalutation(input_data, w, num_twins, b)\n",
    "            print(f\"Succes for window_size = {w}, b = {b}, Twins = {num_twins}\")\n",
    "        except Exception as e:\n",
    "            print(f\"Failed for window_size = {w}, b = {b}, Twins = {num_twins}\")\n",
    "        grid_search_results = pd.concat([grid_search_results, run_results], ignore_index=True)\n",
    "\n",
    "    return grid_search_results\n"
   ]
  },
  {
   "cell_type": "code",
   "execution_count": 719,
   "metadata": {},
   "outputs": [
    {
     "name": "stderr",
     "output_type": "stream",
     "text": [
      "Grid Search Evaluation:   0%|          | 1/1711 [01:09<33:04:13, 69.62s/it]"
     ]
    },
    {
     "name": "stdout",
     "output_type": "stream",
     "text": [
      "Succes for window_size = 2, b = 2, Twins = 10\n"
     ]
    },
    {
     "name": "stderr",
     "output_type": "stream",
     "text": [
      "Grid Search Evaluation:   0%|          | 2/1711 [02:04<29:00:55, 61.12s/it]"
     ]
    },
    {
     "name": "stdout",
     "output_type": "stream",
     "text": [
      "Succes for window_size = 2, b = 3, Twins = 10\n"
     ]
    },
    {
     "name": "stderr",
     "output_type": "stream",
     "text": [
      "Grid Search Evaluation:   0%|          | 3/1711 [02:08<16:35:40, 34.98s/it]"
     ]
    },
    {
     "name": "stdout",
     "output_type": "stream",
     "text": [
      "Failed for window_size = 2, b = 4, Twins = 10\n"
     ]
    },
    {
     "name": "stderr",
     "output_type": "stream",
     "text": [
      "Grid Search Evaluation:   0%|          | 4/1711 [02:11<10:34:24, 22.30s/it]"
     ]
    },
    {
     "name": "stdout",
     "output_type": "stream",
     "text": [
      "Failed for window_size = 2, b = 5, Twins = 10\n",
      "Failed for window_size = 2, b = 6, Twins = 10\n"
     ]
    },
    {
     "name": "stderr",
     "output_type": "stream",
     "text": [
      "Grid Search Evaluation:   0%|          | 6/1711 [02:15<5:24:21, 11.41s/it] "
     ]
    },
    {
     "name": "stdout",
     "output_type": "stream",
     "text": [
      "Failed for window_size = 2, b = 7, Twins = 10\n",
      "Failed for window_size = 2, b = 8, Twins = 10\n",
      "Failed for window_size = 2, b = 9, Twins = 10\n"
     ]
    },
    {
     "name": "stderr",
     "output_type": "stream",
     "text": [
      "Grid Search Evaluation:   1%|          | 9/1711 [02:15<2:34:18,  5.44s/it]"
     ]
    },
    {
     "name": "stdout",
     "output_type": "stream",
     "text": [
      "Failed for window_size = 2, b = 10, Twins = 10\n"
     ]
    },
    {
     "name": "stderr",
     "output_type": "stream",
     "text": [
      "Grid Search Evaluation:   1%|          | 10/1711 [02:15<2:04:59,  4.41s/it]"
     ]
    },
    {
     "name": "stdout",
     "output_type": "stream",
     "text": [
      "Failed for window_size = 2, b = 11, Twins = 10\n",
      "Failed for window_size = 2, b = 12, Twins = 10\n",
      "Failed for window_size = 2, b = 13, Twins = 10\n"
     ]
    },
    {
     "name": "stderr",
     "output_type": "stream",
     "text": [
      "Grid Search Evaluation:   1%|          | 16/1711 [02:18<47:02,  1.67s/it]  "
     ]
    },
    {
     "name": "stdout",
     "output_type": "stream",
     "text": [
      "Failed for window_size = 2, b = 14, Twins = 10\n",
      "Failed for window_size = 2, b = 15, Twins = 10\n",
      "Failed for window_size = 2, b = 16, Twins = 10\n",
      "Failed for window_size = 2, b = 17, Twins = 10\n",
      "Failed for window_size = 2, b = 18, Twins = 10\n",
      "Failed for window_size = 2, b = 19, Twins = 10\n"
     ]
    },
    {
     "name": "stderr",
     "output_type": "stream",
     "text": [
      "Grid Search Evaluation:   1%|          | 19/1711 [02:18<30:16,  1.07s/it]"
     ]
    },
    {
     "name": "stdout",
     "output_type": "stream",
     "text": [
      "Failed for window_size = 2, b = 20, Twins = 10\n",
      "Failed for window_size = 2, b = 21, Twins = 10\n"
     ]
    },
    {
     "name": "stderr",
     "output_type": "stream",
     "text": [
      "Grid Search Evaluation:   1%|▏         | 25/1711 [02:19<13:56,  2.02it/s]"
     ]
    },
    {
     "name": "stdout",
     "output_type": "stream",
     "text": [
      "Failed for window_size = 2, b = 22, Twins = 10\n",
      "Failed for window_size = 2, b = 23, Twins = 10\n",
      "Failed for window_size = 2, b = 24, Twins = 10\n",
      "Failed for window_size = 2, b = 25, Twins = 10\n",
      "Failed for window_size = 2, b = 26, Twins = 10\n",
      "Failed for window_size = 2, b = 27, Twins = 10\n"
     ]
    },
    {
     "name": "stderr",
     "output_type": "stream",
     "text": [
      "Grid Search Evaluation:   2%|▏         | 28/1711 [02:20<14:30,  1.93it/s]"
     ]
    },
    {
     "name": "stdout",
     "output_type": "stream",
     "text": [
      "Failed for window_size = 2, b = 28, Twins = 10\n",
      "Failed for window_size = 2, b = 29, Twins = 10\n",
      "Failed for window_size = 2, b = 30, Twins = 10\n"
     ]
    },
    {
     "name": "stderr",
     "output_type": "stream",
     "text": [
      "Grid Search Evaluation:   2%|▏         | 30/1711 [03:33<4:04:21,  8.72s/it]"
     ]
    },
    {
     "name": "stdout",
     "output_type": "stream",
     "text": [
      "Succes for window_size = 3, b = 2, Twins = 10\n"
     ]
    },
    {
     "name": "stderr",
     "output_type": "stream",
     "text": [
      "Grid Search Evaluation:   2%|▏         | 31/1711 [04:32<7:22:20, 15.80s/it]"
     ]
    },
    {
     "name": "stdout",
     "output_type": "stream",
     "text": [
      "Succes for window_size = 3, b = 3, Twins = 10\n"
     ]
    },
    {
     "name": "stderr",
     "output_type": "stream",
     "text": [
      "Grid Search Evaluation:   2%|▏         | 31/1711 [05:07<4:37:18,  9.90s/it]\n"
     ]
    },
    {
     "ename": "KeyboardInterrupt",
     "evalue": "",
     "output_type": "error",
     "traceback": [
      "\u001b[0;31m---------------------------------------------------------------------------\u001b[0m",
      "\u001b[0;31mKeyboardInterrupt\u001b[0m                         Traceback (most recent call last)",
      "Cell \u001b[0;32mIn[719], line 1\u001b[0m\n\u001b[0;32m----> 1\u001b[0m grid_search_results \u001b[38;5;241m=\u001b[39m \u001b[43mrun_grid_search\u001b[49m\u001b[43m(\u001b[49m\u001b[43mparam_grid\u001b[49m\u001b[43m,\u001b[49m\u001b[43m \u001b[49m\u001b[43mInputData\u001b[49m\u001b[43m(\u001b[49m\u001b[43mdf\u001b[49m\u001b[43m)\u001b[49m\u001b[43m)\u001b[49m\n",
      "Cell \u001b[0;32mIn[718], line 6\u001b[0m, in \u001b[0;36mrun_grid_search\u001b[0;34m(param_grid, input_data)\u001b[0m\n\u001b[1;32m      4\u001b[0m \u001b[38;5;28;01mfor\u001b[39;00m w, b , num_twins \u001b[38;5;129;01min\u001b[39;00m tqdm(param_grid, desc\u001b[38;5;241m=\u001b[39m\u001b[38;5;124m\"\u001b[39m\u001b[38;5;124mGrid Search Evaluation\u001b[39m\u001b[38;5;124m\"\u001b[39m):\n\u001b[1;32m      5\u001b[0m     \u001b[38;5;28;01mtry\u001b[39;00m:\n\u001b[0;32m----> 6\u001b[0m         run_results \u001b[38;5;241m=\u001b[39m \u001b[43mrun_evalutation\u001b[49m\u001b[43m(\u001b[49m\u001b[43minput_data\u001b[49m\u001b[43m,\u001b[49m\u001b[43m \u001b[49m\u001b[43mw\u001b[49m\u001b[43m,\u001b[49m\u001b[43m \u001b[49m\u001b[43mnum_twins\u001b[49m\u001b[43m,\u001b[49m\u001b[43m \u001b[49m\u001b[43mb\u001b[49m\u001b[43m)\u001b[49m\n\u001b[1;32m      7\u001b[0m         \u001b[38;5;28mprint\u001b[39m(\u001b[38;5;124mf\u001b[39m\u001b[38;5;124m\"\u001b[39m\u001b[38;5;124mSucces for window_size = \u001b[39m\u001b[38;5;132;01m{\u001b[39;00mw\u001b[38;5;132;01m}\u001b[39;00m\u001b[38;5;124m, b = \u001b[39m\u001b[38;5;132;01m{\u001b[39;00mb\u001b[38;5;132;01m}\u001b[39;00m\u001b[38;5;124m, Twins = \u001b[39m\u001b[38;5;132;01m{\u001b[39;00mnum_twins\u001b[38;5;132;01m}\u001b[39;00m\u001b[38;5;124m\"\u001b[39m)\n\u001b[1;32m      8\u001b[0m     \u001b[38;5;28;01mexcept\u001b[39;00m \u001b[38;5;167;01mException\u001b[39;00m \u001b[38;5;28;01mas\u001b[39;00m e:\n",
      "Cell \u001b[0;32mIn[716], line 6\u001b[0m, in \u001b[0;36mrun_evalutation\u001b[0;34m(input_data, window_size, num_twins, b)\u001b[0m\n\u001b[1;32m      2\u001b[0m results_list \u001b[38;5;241m=\u001b[39m []  \u001b[38;5;66;03m# Use a list to store results\u001b[39;00m\n\u001b[1;32m      4\u001b[0m \u001b[38;5;28;01mfor\u001b[39;00m testitems \u001b[38;5;129;01min\u001b[39;00m input_data\u001b[38;5;241m.\u001b[39mTEST_ITEM_COMMUNICATIONKEYS:\n\u001b[1;32m      5\u001b[0m     \u001b[38;5;66;03m# Compute bootstrap result\u001b[39;00m\n\u001b[0;32m----> 6\u001b[0m     result \u001b[38;5;241m=\u001b[39m \u001b[43mSampling\u001b[49m\u001b[38;5;241;43m.\u001b[39;49m\u001b[43mlb_bootstrap\u001b[49m\u001b[43m(\u001b[49m\u001b[43minput_data\u001b[49m\u001b[38;5;241;43m.\u001b[39;49m\u001b[43mprepare_data\u001b[49m\u001b[43m(\u001b[49m\u001b[43mnum_twins\u001b[49m\u001b[43m,\u001b[49m\u001b[43m \u001b[49m\u001b[43mtestitems\u001b[49m\u001b[43m)\u001b[49m\u001b[43m,\u001b[49m\u001b[43m \u001b[49m\u001b[43mwindow_size\u001b[49m\u001b[43m,\u001b[49m\u001b[43m \u001b[49m\u001b[43mb\u001b[49m\u001b[43m)\u001b[49m\n\u001b[1;32m      8\u001b[0m     \u001b[38;5;66;03m# Compute MSE\u001b[39;00m\n\u001b[1;32m      9\u001b[0m     mse \u001b[38;5;241m=\u001b[39m Evaluation\u001b[38;5;241m.\u001b[39mmse(input_data\u001b[38;5;241m.\u001b[39mprepare_data(\u001b[38;5;241m0\u001b[39m, testitems), result)\n",
      "Cell \u001b[0;32mIn[712], line 56\u001b[0m, in \u001b[0;36mSampling.lb_bootstrap\u001b[0;34m(cls, data, window_size, b)\u001b[0m\n\u001b[1;32m     53\u001b[0m bootstrap_samples \u001b[38;5;241m=\u001b[39m sampled_blocks\u001b[38;5;241m.\u001b[39mreshape(\u001b[38;5;28mcls\u001b[39m\u001b[38;5;241m.\u001b[39mnum_samples, \u001b[38;5;241m-\u001b[39m\u001b[38;5;241m1\u001b[39m)[:, :N]  \u001b[38;5;66;03m# Shape: (num_samples, N)\u001b[39;00m\n\u001b[1;32m     54\u001b[0m \u001b[38;5;66;03m#Christian: soll lieber Zeitreihe vorher auf Vielfaches von b kürzen, als unvollständige Blöcke zu verwenden\u001b[39;00m\n\u001b[0;32m---> 56\u001b[0m \u001b[38;5;28;01mreturn\u001b[39;00m pd\u001b[38;5;241m.\u001b[39mSeries(\u001b[43mnp\u001b[49m\u001b[38;5;241;43m.\u001b[39;49m\u001b[43msum\u001b[49m\u001b[43m(\u001b[49m\u001b[43mbootstrap_samples\u001b[49m\u001b[43m,\u001b[49m\u001b[43m \u001b[49m\u001b[43maxis\u001b[49m\u001b[38;5;241;43m=\u001b[39;49m\u001b[38;5;241;43m1\u001b[39;49m\u001b[43m)\u001b[49m, name\u001b[38;5;241m=\u001b[39m\u001b[38;5;124m\"\u001b[39m\u001b[38;5;124mBootstrap_Sums\u001b[39m\u001b[38;5;124m\"\u001b[39m)\n",
      "File \u001b[0;32m~/.local/lib/python3.10/site-packages/numpy/core/fromnumeric.py:2313\u001b[0m, in \u001b[0;36msum\u001b[0;34m(a, axis, dtype, out, keepdims, initial, where)\u001b[0m\n\u001b[1;32m   2310\u001b[0m         \u001b[38;5;28;01mreturn\u001b[39;00m out\n\u001b[1;32m   2311\u001b[0m     \u001b[38;5;28;01mreturn\u001b[39;00m res\n\u001b[0;32m-> 2313\u001b[0m \u001b[38;5;28;01mreturn\u001b[39;00m \u001b[43m_wrapreduction\u001b[49m\u001b[43m(\u001b[49m\u001b[43ma\u001b[49m\u001b[43m,\u001b[49m\u001b[43m \u001b[49m\u001b[43mnp\u001b[49m\u001b[38;5;241;43m.\u001b[39;49m\u001b[43madd\u001b[49m\u001b[43m,\u001b[49m\u001b[43m \u001b[49m\u001b[38;5;124;43m'\u001b[39;49m\u001b[38;5;124;43msum\u001b[39;49m\u001b[38;5;124;43m'\u001b[39;49m\u001b[43m,\u001b[49m\u001b[43m \u001b[49m\u001b[43maxis\u001b[49m\u001b[43m,\u001b[49m\u001b[43m \u001b[49m\u001b[43mdtype\u001b[49m\u001b[43m,\u001b[49m\u001b[43m \u001b[49m\u001b[43mout\u001b[49m\u001b[43m,\u001b[49m\u001b[43m \u001b[49m\u001b[43mkeepdims\u001b[49m\u001b[38;5;241;43m=\u001b[39;49m\u001b[43mkeepdims\u001b[49m\u001b[43m,\u001b[49m\n\u001b[1;32m   2314\u001b[0m \u001b[43m                      \u001b[49m\u001b[43minitial\u001b[49m\u001b[38;5;241;43m=\u001b[39;49m\u001b[43minitial\u001b[49m\u001b[43m,\u001b[49m\u001b[43m \u001b[49m\u001b[43mwhere\u001b[49m\u001b[38;5;241;43m=\u001b[39;49m\u001b[43mwhere\u001b[49m\u001b[43m)\u001b[49m\n",
      "File \u001b[0;32m~/.local/lib/python3.10/site-packages/numpy/core/fromnumeric.py:88\u001b[0m, in \u001b[0;36m_wrapreduction\u001b[0;34m(obj, ufunc, method, axis, dtype, out, **kwargs)\u001b[0m\n\u001b[1;32m     85\u001b[0m         \u001b[38;5;28;01melse\u001b[39;00m:\n\u001b[1;32m     86\u001b[0m             \u001b[38;5;28;01mreturn\u001b[39;00m reduction(axis\u001b[38;5;241m=\u001b[39maxis, out\u001b[38;5;241m=\u001b[39mout, \u001b[38;5;241m*\u001b[39m\u001b[38;5;241m*\u001b[39mpasskwargs)\n\u001b[0;32m---> 88\u001b[0m \u001b[38;5;28;01mreturn\u001b[39;00m \u001b[43mufunc\u001b[49m\u001b[38;5;241;43m.\u001b[39;49m\u001b[43mreduce\u001b[49m\u001b[43m(\u001b[49m\u001b[43mobj\u001b[49m\u001b[43m,\u001b[49m\u001b[43m \u001b[49m\u001b[43maxis\u001b[49m\u001b[43m,\u001b[49m\u001b[43m \u001b[49m\u001b[43mdtype\u001b[49m\u001b[43m,\u001b[49m\u001b[43m \u001b[49m\u001b[43mout\u001b[49m\u001b[43m,\u001b[49m\u001b[43m \u001b[49m\u001b[38;5;241;43m*\u001b[39;49m\u001b[38;5;241;43m*\u001b[39;49m\u001b[43mpasskwargs\u001b[49m\u001b[43m)\u001b[49m\n",
      "\u001b[0;31mKeyboardInterrupt\u001b[0m: "
     ]
    }
   ],
   "source": [
    "grid_search_results = run_grid_search(param_grid, InputData(df))"
   ]
  },
  {
   "cell_type": "markdown",
   "metadata": {},
   "source": [
    "### Test Area"
   ]
  },
  {
   "cell_type": "code",
   "execution_count": 439,
   "metadata": {},
   "outputs": [
    {
     "name": "stderr",
     "output_type": "stream",
     "text": [
      "Bootstrap Evaluations:   0%|          | 0/100 [00:00<?, ?it/s]"
     ]
    },
    {
     "name": "stdout",
     "output_type": "stream",
     "text": [
      "There are 0 NaN values in the data which are replaced with 0s.\n",
      "There are 0 NaN values in the data which are replaced with 0s.\n",
      "MSE of test item 716679764: TWIN_ITEM_COMMUNICATIONKEY\n",
      "716679764    13485.701939\n",
      "dtype: float64\n",
      "There are 66 NaN values in the data which are replaced with 0s.\n",
      "There are 0 NaN values in the data which are replaced with 0s.\n",
      "MSE of test item 735286989: TWIN_ITEM_COMMUNICATIONKEY\n",
      "735286989    70407.280076\n",
      "dtype: float64\n",
      "There are 0 NaN values in the data which are replaced with 0s.\n",
      "There are 0 NaN values in the data which are replaced with 0s.\n",
      "MSE of test item 796628327: TWIN_ITEM_COMMUNICATIONKEY\n",
      "796628327    26194.26214\n",
      "dtype: float64\n",
      "There are 10 NaN values in the data which are replaced with 0s.\n",
      "There are 0 NaN values in the data which are replaced with 0s.\n",
      "MSE of test item 803656013: TWIN_ITEM_COMMUNICATIONKEY\n",
      "803656013    1.209593e+06\n",
      "dtype: float64\n",
      "There are 0 NaN values in the data which are replaced with 0s.\n",
      "There are 0 NaN values in the data which are replaced with 0s.\n",
      "MSE of test item 804245827: TWIN_ITEM_COMMUNICATIONKEY\n",
      "804245827    17135.601112\n",
      "dtype: float64\n",
      "There are 0 NaN values in the data which are replaced with 0s.\n",
      "There are 0 NaN values in the data which are replaced with 0s.\n",
      "MSE of test item 807444298: TWIN_ITEM_COMMUNICATIONKEY\n",
      "807444298    6134.36915\n",
      "dtype: float64\n",
      "There are 0 NaN values in the data which are replaced with 0s.\n",
      "There are 0 NaN values in the data which are replaced with 0s.\n",
      "MSE of test item 811224241: TWIN_ITEM_COMMUNICATIONKEY\n",
      "811224241    180123.80644\n",
      "dtype: float64\n",
      "There are 0 NaN values in the data which are replaced with 0s.\n",
      "There are 0 NaN values in the data which are replaced with 0s.\n",
      "MSE of test item 811350832: TWIN_ITEM_COMMUNICATIONKEY\n",
      "811350832    597385.624749\n",
      "dtype: float64\n",
      "There are 64 NaN values in the data which are replaced with 0s.\n",
      "There are 0 NaN values in the data which are replaced with 0s.\n",
      "MSE of test item 811405342: TWIN_ITEM_COMMUNICATIONKEY\n",
      "811405342    36268.368066\n",
      "dtype: float64\n",
      "There are 0 NaN values in the data which are replaced with 0s.\n"
     ]
    },
    {
     "name": "stderr",
     "output_type": "stream",
     "text": [
      "Bootstrap Evaluations:  10%|█         | 10/100 [00:04<00:42,  2.12it/s]"
     ]
    },
    {
     "name": "stdout",
     "output_type": "stream",
     "text": [
      "There are 0 NaN values in the data which are replaced with 0s.\n",
      "MSE of test item 813036796: TWIN_ITEM_COMMUNICATIONKEY\n",
      "813036796    23959.067648\n",
      "dtype: float64\n",
      "There are 0 NaN values in the data which are replaced with 0s.\n",
      "There are 0 NaN values in the data which are replaced with 0s.\n",
      "MSE of test item 815378026: TWIN_ITEM_COMMUNICATIONKEY\n",
      "815378026    293586.8515\n",
      "dtype: float64\n",
      "There are 0 NaN values in the data which are replaced with 0s.\n",
      "There are 0 NaN values in the data which are replaced with 0s.\n",
      "MSE of test item 821340660: TWIN_ITEM_COMMUNICATIONKEY\n",
      "821340660    63908.698376\n",
      "dtype: float64\n",
      "There are 20 NaN values in the data which are replaced with 0s.\n",
      "There are 0 NaN values in the data which are replaced with 0s.\n",
      "MSE of test item 821851364: TWIN_ITEM_COMMUNICATIONKEY\n",
      "821851364    868818.561529\n",
      "dtype: float64\n",
      "There are 0 NaN values in the data which are replaced with 0s.\n",
      "There are 0 NaN values in the data which are replaced with 0s.\n",
      "MSE of test item 824008632: TWIN_ITEM_COMMUNICATIONKEY\n",
      "824008632    888066.394513\n",
      "dtype: float64\n",
      "There are 0 NaN values in the data which are replaced with 0s.\n",
      "There are 0 NaN values in the data which are replaced with 0s.\n",
      "MSE of test item 824014002: TWIN_ITEM_COMMUNICATIONKEY\n",
      "824014002    7396.337929\n",
      "dtype: float64\n",
      "There are 0 NaN values in the data which are replaced with 0s.\n",
      "There are 0 NaN values in the data which are replaced with 0s.\n",
      "MSE of test item 824093461: TWIN_ITEM_COMMUNICATIONKEY\n",
      "824093461    42339.520457\n",
      "dtype: float64\n",
      "There are 93 NaN values in the data which are replaced with 0s.\n",
      "There are 0 NaN values in the data which are replaced with 0s.\n",
      "MSE of test item 829628090: TWIN_ITEM_COMMUNICATIONKEY\n",
      "829628090    5.097909e+06\n",
      "dtype: float64\n",
      "There are 0 NaN values in the data which are replaced with 0s.\n",
      "There are 0 NaN values in the data which are replaced with 0s.\n",
      "MSE of test item 830443285: TWIN_ITEM_COMMUNICATIONKEY\n",
      "830443285    147961.508033\n",
      "dtype: float64\n",
      "There are 99 NaN values in the data which are replaced with 0s.\n"
     ]
    },
    {
     "name": "stderr",
     "output_type": "stream",
     "text": [
      "Bootstrap Evaluations:  20%|██        | 20/100 [00:07<00:29,  2.73it/s]"
     ]
    },
    {
     "name": "stdout",
     "output_type": "stream",
     "text": [
      "There are 0 NaN values in the data which are replaced with 0s.\n",
      "MSE of test item 831771058: TWIN_ITEM_COMMUNICATIONKEY\n",
      "831771058    189315.854479\n",
      "dtype: float64\n",
      "There are 0 NaN values in the data which are replaced with 0s.\n",
      "There are 0 NaN values in the data which are replaced with 0s.\n",
      "MSE of test item 831990789: TWIN_ITEM_COMMUNICATIONKEY\n",
      "831990789    610323.43592\n",
      "dtype: float64\n",
      "There are 0 NaN values in the data which are replaced with 0s.\n",
      "There are 0 NaN values in the data which are replaced with 0s.\n",
      "MSE of test item 832793358: TWIN_ITEM_COMMUNICATIONKEY\n",
      "832793358    189042.059581\n",
      "dtype: float64\n",
      "There are 0 NaN values in the data which are replaced with 0s.\n",
      "There are 0 NaN values in the data which are replaced with 0s.\n",
      "MSE of test item 832928980: TWIN_ITEM_COMMUNICATIONKEY\n",
      "832928980    13304.205962\n",
      "dtype: float64\n",
      "There are 0 NaN values in the data which are replaced with 0s.\n",
      "There are 0 NaN values in the data which are replaced with 0s.\n",
      "MSE of test item 832932915: TWIN_ITEM_COMMUNICATIONKEY\n",
      "832932915    62170.400142\n",
      "dtype: float64\n",
      "There are 0 NaN values in the data which are replaced with 0s.\n",
      "There are 0 NaN values in the data which are replaced with 0s.\n",
      "MSE of test item 832947522: TWIN_ITEM_COMMUNICATIONKEY\n",
      "832947522    36467.212817\n",
      "dtype: float64\n",
      "There are 0 NaN values in the data which are replaced with 0s.\n",
      "There are 0 NaN values in the data which are replaced with 0s.\n",
      "MSE of test item 832962701: TWIN_ITEM_COMMUNICATIONKEY\n",
      "832962701    397313.149522\n",
      "dtype: float64\n",
      "There are 0 NaN values in the data which are replaced with 0s.\n",
      "There are 0 NaN values in the data which are replaced with 0s.\n",
      "MSE of test item 833085457: TWIN_ITEM_COMMUNICATIONKEY\n",
      "833085457    118925.175765\n",
      "dtype: float64\n",
      "There are 19 NaN values in the data which are replaced with 0s.\n",
      "There are 0 NaN values in the data which are replaced with 0s.\n",
      "MSE of test item 833087665: TWIN_ITEM_COMMUNICATIONKEY\n",
      "833087665    47052.349827\n",
      "dtype: float64\n",
      "There are 0 NaN values in the data which are replaced with 0s.\n",
      "There are 0 NaN values in the data which are replaced with 0s.\n",
      "MSE of test item 836346869: TWIN_ITEM_COMMUNICATIONKEY\n",
      "836346869    14361.315767\n",
      "dtype: float64\n",
      "There are 0 NaN values in the data which are replaced with 0s.\n",
      "There are 0 NaN values in the data which are replaced with 0s.\n",
      "MSE of test item 836353167: TWIN_ITEM_COMMUNICATIONKEY\n",
      "836353167    2.131608e+06\n",
      "dtype: float64\n",
      "There are 0 NaN values in the data which are replaced with 0s.\n"
     ]
    },
    {
     "name": "stderr",
     "output_type": "stream",
     "text": [
      "Bootstrap Evaluations:  30%|███       | 30/100 [00:09<00:20,  3.42it/s]"
     ]
    },
    {
     "name": "stdout",
     "output_type": "stream",
     "text": [
      "There are 0 NaN values in the data which are replaced with 0s.\n",
      "MSE of test item 837663879: TWIN_ITEM_COMMUNICATIONKEY\n",
      "837663879    362413.97055\n",
      "dtype: float64\n",
      "There are 0 NaN values in the data which are replaced with 0s.\n",
      "There are 0 NaN values in the data which are replaced with 0s.\n",
      "MSE of test item 837668025: TWIN_ITEM_COMMUNICATIONKEY\n",
      "837668025    84360.783598\n",
      "dtype: float64\n",
      "There are 0 NaN values in the data which are replaced with 0s.\n",
      "There are 0 NaN values in the data which are replaced with 0s.\n",
      "MSE of test item 837717257: TWIN_ITEM_COMMUNICATIONKEY\n",
      "837717257    7931.471025\n",
      "dtype: float64\n",
      "There are 0 NaN values in the data which are replaced with 0s.\n",
      "There are 0 NaN values in the data which are replaced with 0s.\n",
      "MSE of test item 842058910: TWIN_ITEM_COMMUNICATIONKEY\n",
      "842058910    1.251282e+06\n",
      "dtype: float64\n",
      "There are 0 NaN values in the data which are replaced with 0s.\n",
      "There are 0 NaN values in the data which are replaced with 0s.\n",
      "MSE of test item 845044335: TWIN_ITEM_COMMUNICATIONKEY\n",
      "845044335    504159.032858\n",
      "dtype: float64\n",
      "There are 0 NaN values in the data which are replaced with 0s.\n",
      "There are 0 NaN values in the data which are replaced with 0s.\n",
      "MSE of test item 847162421: TWIN_ITEM_COMMUNICATIONKEY\n",
      "847162421    27384.021778\n",
      "dtype: float64\n",
      "There are 0 NaN values in the data which are replaced with 0s.\n",
      "There are 0 NaN values in the data which are replaced with 0s.\n",
      "MSE of test item 848151556: TWIN_ITEM_COMMUNICATIONKEY\n",
      "848151556    498327.985795\n",
      "dtype: float64\n",
      "There are 0 NaN values in the data which are replaced with 0s.\n",
      "There are 0 NaN values in the data which are replaced with 0s.\n",
      "MSE of test item 848764870: TWIN_ITEM_COMMUNICATIONKEY\n",
      "848764870    193717.171674\n",
      "dtype: float64\n",
      "There are 97 NaN values in the data which are replaced with 0s.\n",
      "There are 0 NaN values in the data which are replaced with 0s.\n",
      "MSE of test item 850549205: TWIN_ITEM_COMMUNICATIONKEY\n",
      "850549205    52295.307743\n",
      "dtype: float64\n",
      "There are 0 NaN values in the data which are replaced with 0s.\n",
      "There are 0 NaN values in the data which are replaced with 0s.\n",
      "MSE of test item 850562202: TWIN_ITEM_COMMUNICATIONKEY\n",
      "850562202    62199.719915\n",
      "dtype: float64\n",
      "There are 0 NaN values in the data which are replaced with 0s.\n"
     ]
    },
    {
     "name": "stderr",
     "output_type": "stream",
     "text": [
      "Bootstrap Evaluations:  40%|████      | 40/100 [00:13<00:20,  2.92it/s]"
     ]
    },
    {
     "name": "stdout",
     "output_type": "stream",
     "text": [
      "There are 0 NaN values in the data which are replaced with 0s.\n",
      "MSE of test item 850564755: TWIN_ITEM_COMMUNICATIONKEY\n",
      "850564755    367340.261739\n",
      "dtype: float64\n",
      "There are 78 NaN values in the data which are replaced with 0s.\n",
      "There are 0 NaN values in the data which are replaced with 0s.\n",
      "MSE of test item 850575936: TWIN_ITEM_COMMUNICATIONKEY\n",
      "850575936    824684.501085\n",
      "dtype: float64\n",
      "There are 0 NaN values in the data which are replaced with 0s.\n",
      "There are 0 NaN values in the data which are replaced with 0s.\n",
      "MSE of test item 856030354: TWIN_ITEM_COMMUNICATIONKEY\n",
      "856030354    3837.498807\n",
      "dtype: float64\n",
      "There are 0 NaN values in the data which are replaced with 0s.\n",
      "There are 0 NaN values in the data which are replaced with 0s.\n",
      "MSE of test item 856030824: TWIN_ITEM_COMMUNICATIONKEY\n",
      "856030824    22925.750569\n",
      "dtype: float64\n",
      "There are 0 NaN values in the data which are replaced with 0s.\n",
      "There are 0 NaN values in the data which are replaced with 0s.\n",
      "MSE of test item 856065671: TWIN_ITEM_COMMUNICATIONKEY\n",
      "856065671    8111.687711\n",
      "dtype: float64\n",
      "There are 0 NaN values in the data which are replaced with 0s.\n",
      "There are 0 NaN values in the data which are replaced with 0s.\n",
      "MSE of test item 860861951: TWIN_ITEM_COMMUNICATIONKEY\n",
      "860861951    120152.393814\n",
      "dtype: float64\n",
      "There are 0 NaN values in the data which are replaced with 0s.\n",
      "There are 0 NaN values in the data which are replaced with 0s.\n",
      "MSE of test item 863526628: TWIN_ITEM_COMMUNICATIONKEY\n",
      "863526628    695483.797818\n",
      "dtype: float64\n",
      "There are 0 NaN values in the data which are replaced with 0s.\n",
      "There are 0 NaN values in the data which are replaced with 0s.\n",
      "MSE of test item 868192553: TWIN_ITEM_COMMUNICATIONKEY\n",
      "868192553    3277.925893\n",
      "dtype: float64\n",
      "There are 0 NaN values in the data which are replaced with 0s.\n",
      "There are 0 NaN values in the data which are replaced with 0s.\n",
      "MSE of test item 869459445: TWIN_ITEM_COMMUNICATIONKEY\n",
      "869459445    63674.678063\n",
      "dtype: float64\n",
      "There are 66 NaN values in the data which are replaced with 0s.\n",
      "There are 0 NaN values in the data which are replaced with 0s.\n",
      "MSE of test item 929877038: TWIN_ITEM_COMMUNICATIONKEY\n",
      "929877038    63607.118327\n",
      "dtype: float64\n",
      "There are 40 NaN values in the data which are replaced with 0s.\n"
     ]
    },
    {
     "name": "stderr",
     "output_type": "stream",
     "text": [
      "Bootstrap Evaluations:  50%|█████     | 50/100 [00:17<00:16,  2.97it/s]"
     ]
    },
    {
     "name": "stdout",
     "output_type": "stream",
     "text": [
      "There are 0 NaN values in the data which are replaced with 0s.\n",
      "MSE of test item 943969594: TWIN_ITEM_COMMUNICATIONKEY\n",
      "943969594    304793.055695\n",
      "dtype: float64\n",
      "There are 41 NaN values in the data which are replaced with 0s.\n",
      "There are 0 NaN values in the data which are replaced with 0s.\n",
      "MSE of test item 943981017: TWIN_ITEM_COMMUNICATIONKEY\n",
      "943981017    115193.093882\n",
      "dtype: float64\n",
      "There are 0 NaN values in the data which are replaced with 0s.\n",
      "There are 0 NaN values in the data which are replaced with 0s.\n",
      "MSE of test item 1030393072: TWIN_ITEM_COMMUNICATIONKEY\n",
      "1030393072    8219.006622\n",
      "dtype: float64\n",
      "There are 0 NaN values in the data which are replaced with 0s.\n",
      "There are 0 NaN values in the data which are replaced with 0s.\n",
      "MSE of test item 1035064903: TWIN_ITEM_COMMUNICATIONKEY\n",
      "1035064903    33935.774167\n",
      "dtype: float64\n",
      "There are 0 NaN values in the data which are replaced with 0s.\n",
      "There are 0 NaN values in the data which are replaced with 0s.\n",
      "MSE of test item 1035065755: TWIN_ITEM_COMMUNICATIONKEY\n",
      "1035065755    36360.743367\n",
      "dtype: float64\n",
      "There are 114 NaN values in the data which are replaced with 0s.\n",
      "There are 0 NaN values in the data which are replaced with 0s.\n",
      "MSE of test item 1035556462: TWIN_ITEM_COMMUNICATIONKEY\n",
      "1035556462    1705.73602\n",
      "dtype: float64\n",
      "There are 108 NaN values in the data which are replaced with 0s.\n",
      "There are 0 NaN values in the data which are replaced with 0s.\n",
      "MSE of test item 1037689383: TWIN_ITEM_COMMUNICATIONKEY\n",
      "1037689383    138385.735321\n",
      "dtype: float64\n",
      "There are 0 NaN values in the data which are replaced with 0s.\n",
      "There are 0 NaN values in the data which are replaced with 0s.\n",
      "MSE of test item 1061289615: TWIN_ITEM_COMMUNICATIONKEY\n",
      "1061289615    296691.109986\n",
      "dtype: float64\n",
      "There are 105 NaN values in the data which are replaced with 0s.\n",
      "There are 0 NaN values in the data which are replaced with 0s.\n",
      "MSE of test item 1062867487: TWIN_ITEM_COMMUNICATIONKEY\n",
      "1062867487    18446.346903\n",
      "dtype: float64\n",
      "There are 0 NaN values in the data which are replaced with 0s.\n",
      "There are 0 NaN values in the data which are replaced with 0s.\n",
      "MSE of test item 1063668113: TWIN_ITEM_COMMUNICATIONKEY\n",
      "1063668113    15814.39122\n",
      "dtype: float64\n",
      "There are 0 NaN values in the data which are replaced with 0s.\n"
     ]
    },
    {
     "name": "stderr",
     "output_type": "stream",
     "text": [
      "Bootstrap Evaluations:  60%|██████    | 60/100 [00:20<00:12,  3.12it/s]"
     ]
    },
    {
     "name": "stdout",
     "output_type": "stream",
     "text": [
      "There are 0 NaN values in the data which are replaced with 0s.\n",
      "MSE of test item 1063721481: TWIN_ITEM_COMMUNICATIONKEY\n",
      "1063721481    483833.066886\n",
      "dtype: float64\n",
      "There are 102 NaN values in the data which are replaced with 0s.\n",
      "There are 0 NaN values in the data which are replaced with 0s.\n",
      "MSE of test item 1064483626: TWIN_ITEM_COMMUNICATIONKEY\n",
      "1064483626    18406.418592\n",
      "dtype: float64\n",
      "There are 0 NaN values in the data which are replaced with 0s.\n",
      "There are 0 NaN values in the data which are replaced with 0s.\n",
      "MSE of test item 1064587225: TWIN_ITEM_COMMUNICATIONKEY\n",
      "1064587225    23278.500681\n",
      "dtype: float64\n",
      "There are 0 NaN values in the data which are replaced with 0s.\n",
      "There are 0 NaN values in the data which are replaced with 0s.\n",
      "MSE of test item 1064614421: TWIN_ITEM_COMMUNICATIONKEY\n",
      "1064614421    182573.176008\n",
      "dtype: float64\n",
      "There are 92 NaN values in the data which are replaced with 0s.\n",
      "There are 0 NaN values in the data which are replaced with 0s.\n",
      "MSE of test item 1064646595: TWIN_ITEM_COMMUNICATIONKEY\n",
      "1064646595    131958.854979\n",
      "dtype: float64\n",
      "There are 108 NaN values in the data which are replaced with 0s.\n",
      "There are 0 NaN values in the data which are replaced with 0s.\n",
      "MSE of test item 1066797131: TWIN_ITEM_COMMUNICATIONKEY\n",
      "1066797131    65646.580518\n",
      "dtype: float64\n",
      "There are 0 NaN values in the data which are replaced with 0s.\n",
      "There are 0 NaN values in the data which are replaced with 0s.\n",
      "MSE of test item 1069872187: TWIN_ITEM_COMMUNICATIONKEY\n",
      "1069872187    95964.283668\n",
      "dtype: float64\n",
      "There are 87 NaN values in the data which are replaced with 0s.\n",
      "There are 0 NaN values in the data which are replaced with 0s.\n",
      "MSE of test item 1085391770: TWIN_ITEM_COMMUNICATIONKEY\n",
      "1085391770    28436.30697\n",
      "dtype: float64\n",
      "There are 0 NaN values in the data which are replaced with 0s.\n",
      "There are 0 NaN values in the data which are replaced with 0s.\n",
      "MSE of test item 1088105426: TWIN_ITEM_COMMUNICATIONKEY\n",
      "1088105426    23091.916232\n",
      "dtype: float64\n",
      "There are 81 NaN values in the data which are replaced with 0s.\n",
      "There are 0 NaN values in the data which are replaced with 0s.\n",
      "MSE of test item 1088112515: TWIN_ITEM_COMMUNICATIONKEY\n",
      "1088112515    113401.191449\n",
      "dtype: float64\n",
      "There are 108 NaN values in the data which are replaced with 0s.\n"
     ]
    },
    {
     "name": "stderr",
     "output_type": "stream",
     "text": [
      "Bootstrap Evaluations:  70%|███████   | 70/100 [00:23<00:09,  3.13it/s]"
     ]
    },
    {
     "name": "stdout",
     "output_type": "stream",
     "text": [
      "There are 0 NaN values in the data which are replaced with 0s.\n",
      "MSE of test item 1088136910: TWIN_ITEM_COMMUNICATIONKEY\n",
      "1088136910    103711.701512\n",
      "dtype: float64\n",
      "There are 7 NaN values in the data which are replaced with 0s.\n",
      "There are 0 NaN values in the data which are replaced with 0s.\n",
      "MSE of test item 1088218093: TWIN_ITEM_COMMUNICATIONKEY\n",
      "1088218093    12662.209904\n",
      "dtype: float64\n",
      "There are 0 NaN values in the data which are replaced with 0s.\n",
      "There are 0 NaN values in the data which are replaced with 0s.\n",
      "MSE of test item 1089781589: TWIN_ITEM_COMMUNICATIONKEY\n",
      "1089781589    212175.537068\n",
      "dtype: float64\n",
      "There are 0 NaN values in the data which are replaced with 0s.\n",
      "There are 0 NaN values in the data which are replaced with 0s.\n",
      "MSE of test item 1089827822: TWIN_ITEM_COMMUNICATIONKEY\n",
      "1089827822    69895.373615\n",
      "dtype: float64\n",
      "There are 0 NaN values in the data which are replaced with 0s.\n",
      "There are 0 NaN values in the data which are replaced with 0s.\n",
      "MSE of test item 1091814217: TWIN_ITEM_COMMUNICATIONKEY\n",
      "1091814217    323840.90753\n",
      "dtype: float64\n",
      "There are 0 NaN values in the data which are replaced with 0s.\n",
      "There are 0 NaN values in the data which are replaced with 0s.\n",
      "MSE of test item 1093205481: TWIN_ITEM_COMMUNICATIONKEY\n",
      "1093205481    177572.326105\n",
      "dtype: float64\n",
      "There are 0 NaN values in the data which are replaced with 0s.\n",
      "There are 0 NaN values in the data which are replaced with 0s.\n",
      "MSE of test item 1093460235: TWIN_ITEM_COMMUNICATIONKEY\n",
      "1093460235    97962.195448\n",
      "dtype: float64\n",
      "There are 114 NaN values in the data which are replaced with 0s.\n",
      "There are 0 NaN values in the data which are replaced with 0s.\n",
      "MSE of test item 1100406492: TWIN_ITEM_COMMUNICATIONKEY\n",
      "1100406492    45532.323434\n",
      "dtype: float64\n",
      "There are 38 NaN values in the data which are replaced with 0s.\n",
      "There are 0 NaN values in the data which are replaced with 0s.\n",
      "MSE of test item 1104772642: TWIN_ITEM_COMMUNICATIONKEY\n",
      "1104772642    37511.182669\n",
      "dtype: float64\n",
      "There are 0 NaN values in the data which are replaced with 0s.\n",
      "There are 0 NaN values in the data which are replaced with 0s.\n",
      "MSE of test item 1105145372: TWIN_ITEM_COMMUNICATIONKEY\n",
      "1105145372    19356.544301\n",
      "dtype: float64\n",
      "There are 0 NaN values in the data which are replaced with 0s.\n"
     ]
    },
    {
     "name": "stderr",
     "output_type": "stream",
     "text": [
      "Bootstrap Evaluations:  80%|████████  | 80/100 [00:26<00:06,  3.12it/s]"
     ]
    },
    {
     "name": "stdout",
     "output_type": "stream",
     "text": [
      "There are 0 NaN values in the data which are replaced with 0s.\n",
      "MSE of test item 1105151446: TWIN_ITEM_COMMUNICATIONKEY\n",
      "1105151446    12013.531509\n",
      "dtype: float64\n",
      "There are 0 NaN values in the data which are replaced with 0s.\n",
      "There are 0 NaN values in the data which are replaced with 0s.\n",
      "MSE of test item 1105152913: TWIN_ITEM_COMMUNICATIONKEY\n",
      "1105152913    9073.715855\n",
      "dtype: float64\n",
      "There are 318 NaN values in the data which are replaced with 0s.\n",
      "There are 0 NaN values in the data which are replaced with 0s.\n",
      "MSE of test item 1107699346: TWIN_ITEM_COMMUNICATIONKEY\n",
      "1107699346    169921.142327\n",
      "dtype: float64\n",
      "There are 0 NaN values in the data which are replaced with 0s.\n",
      "There are 0 NaN values in the data which are replaced with 0s.\n",
      "MSE of test item 1107705014: TWIN_ITEM_COMMUNICATIONKEY\n",
      "1107705014    154790.464494\n",
      "dtype: float64\n",
      "There are 0 NaN values in the data which are replaced with 0s.\n",
      "There are 0 NaN values in the data which are replaced with 0s.\n",
      "MSE of test item 1108166267: TWIN_ITEM_COMMUNICATIONKEY\n",
      "1108166267    168393.825696\n",
      "dtype: float64\n",
      "There are 0 NaN values in the data which are replaced with 0s.\n",
      "There are 0 NaN values in the data which are replaced with 0s.\n",
      "MSE of test item 1178366721: TWIN_ITEM_COMMUNICATIONKEY\n",
      "1178366721    128693.69742\n",
      "dtype: float64\n",
      "There are 0 NaN values in the data which are replaced with 0s.\n",
      "There are 0 NaN values in the data which are replaced with 0s.\n",
      "MSE of test item 1182041425: TWIN_ITEM_COMMUNICATIONKEY\n",
      "1182041425    118391.724487\n",
      "dtype: float64\n",
      "There are 0 NaN values in the data which are replaced with 0s.\n",
      "There are 0 NaN values in the data which are replaced with 0s.\n",
      "MSE of test item 1276335264: TWIN_ITEM_COMMUNICATIONKEY\n",
      "1276335264    910866.361794\n",
      "dtype: float64\n",
      "There are 0 NaN values in the data which are replaced with 0s.\n",
      "There are 0 NaN values in the data which are replaced with 0s.\n",
      "MSE of test item 1285920100: TWIN_ITEM_COMMUNICATIONKEY\n",
      "1285920100    279640.846486\n",
      "dtype: float64\n",
      "There are 4 NaN values in the data which are replaced with 0s.\n",
      "There are 0 NaN values in the data which are replaced with 0s.\n",
      "MSE of test item 1354957437: TWIN_ITEM_COMMUNICATIONKEY\n",
      "1354957437    734539.282755\n",
      "dtype: float64\n",
      "There are 0 NaN values in the data which are replaced with 0s.\n"
     ]
    },
    {
     "name": "stderr",
     "output_type": "stream",
     "text": [
      "Bootstrap Evaluations:  90%|█████████ | 90/100 [00:29<00:03,  3.15it/s]"
     ]
    },
    {
     "name": "stdout",
     "output_type": "stream",
     "text": [
      "There are 0 NaN values in the data which are replaced with 0s.\n",
      "MSE of test item 1402591736: TWIN_ITEM_COMMUNICATIONKEY\n",
      "1402591736    241625.242959\n",
      "dtype: float64\n",
      "There are 0 NaN values in the data which are replaced with 0s.\n",
      "There are 0 NaN values in the data which are replaced with 0s.\n",
      "MSE of test item 1556889332: TWIN_ITEM_COMMUNICATIONKEY\n",
      "1556889332    178406.770998\n",
      "dtype: float64\n",
      "There are 0 NaN values in the data which are replaced with 0s.\n",
      "There are 0 NaN values in the data which are replaced with 0s.\n",
      "MSE of test item 1561695466: TWIN_ITEM_COMMUNICATIONKEY\n",
      "1561695466    23171.071965\n",
      "dtype: float64\n",
      "There are 0 NaN values in the data which are replaced with 0s.\n",
      "There are 0 NaN values in the data which are replaced with 0s.\n",
      "MSE of test item 1574713555: TWIN_ITEM_COMMUNICATIONKEY\n",
      "1574713555    2.872825e+06\n",
      "dtype: float64\n",
      "There are 0 NaN values in the data which are replaced with 0s.\n",
      "There are 0 NaN values in the data which are replaced with 0s.\n",
      "MSE of test item 1582267634: TWIN_ITEM_COMMUNICATIONKEY\n",
      "1582267634    290581.734271\n",
      "dtype: float64\n",
      "There are 0 NaN values in the data which are replaced with 0s.\n",
      "There are 0 NaN values in the data which are replaced with 0s.\n",
      "MSE of test item 1585619152: TWIN_ITEM_COMMUNICATIONKEY\n",
      "1585619152    31822.291905\n",
      "dtype: float64\n",
      "There are 0 NaN values in the data which are replaced with 0s.\n",
      "There are 0 NaN values in the data which are replaced with 0s.\n",
      "MSE of test item 1594262232: TWIN_ITEM_COMMUNICATIONKEY\n",
      "1594262232    178278.723043\n",
      "dtype: float64\n",
      "There are 0 NaN values in the data which are replaced with 0s.\n",
      "There are 0 NaN values in the data which are replaced with 0s.\n",
      "MSE of test item 1594263670: TWIN_ITEM_COMMUNICATIONKEY\n",
      "1594263670    186025.219442\n",
      "dtype: float64\n",
      "There are 109 NaN values in the data which are replaced with 0s.\n",
      "There are 0 NaN values in the data which are replaced with 0s.\n",
      "MSE of test item 1594271549: TWIN_ITEM_COMMUNICATIONKEY\n",
      "1594271549    512801.646297\n",
      "dtype: float64\n",
      "There are 0 NaN values in the data which are replaced with 0s.\n",
      "There are 0 NaN values in the data which are replaced with 0s.\n",
      "MSE of test item 1617994924: TWIN_ITEM_COMMUNICATIONKEY\n",
      "1617994924    265200.889215\n",
      "dtype: float64\n",
      "There are 0 NaN values in the data which are replaced with 0s.\n"
     ]
    },
    {
     "name": "stderr",
     "output_type": "stream",
     "text": [
      "Bootstrap Evaluations: 100%|██████████| 100/100 [00:33<00:00,  3.02it/s]"
     ]
    },
    {
     "name": "stdout",
     "output_type": "stream",
     "text": [
      "There are 0 NaN values in the data which are replaced with 0s.\n",
      "MSE of test item 1711757436: TWIN_ITEM_COMMUNICATIONKEY\n",
      "1711757436    228448.73986\n",
      "dtype: float64\n"
     ]
    },
    {
     "name": "stderr",
     "output_type": "stream",
     "text": [
      "\n"
     ]
    }
   ],
   "source": [
    "input_data = InputData(df)\n",
    "\n",
    "for testitems in tqdm(input_data.TEST_ITEM_COMMUNICATIONKEYS, miniters = 10, desc = \"Bootstrap Evaluations\"):\n",
    "    result = Sampling.lb_bootstrap(input_data.prepare_data(4, testitems), B = 30/308)\n",
    "    mse = Evaluation.mse(input_data.prepare_data(0, testitems), result)\n",
    "    print(f\"MSE of test item {testitems}: {mse}\")"
   ]
  },
  {
   "cell_type": "code",
   "execution_count": 440,
   "metadata": {},
   "outputs": [
    {
     "name": "stdout",
     "output_type": "stream",
     "text": [
      "There are 0 NaN values in the data which are replaced with 0s.\n"
     ]
    },
    {
     "data": {
      "text/plain": [
       "TWIN_ITEM_COMMUNICATIONKEY\n",
       "716679764    564\n",
       "dtype: int64"
      ]
     },
     "execution_count": 440,
     "metadata": {},
     "output_type": "execute_result"
    }
   ],
   "source": [
    "input_data.prepare_data(0, 716679764).sum()"
   ]
  },
  {
   "cell_type": "code",
   "execution_count": null,
   "metadata": {},
   "outputs": [
    {
     "name": "stdout",
     "output_type": "stream",
     "text": [
      "There are 0 NaN values in the data which are replaced with 0s.\n",
      "There are 11 NaN values in the data which are replaced with 0s.\n",
      "TWIN_ITEM_COMMUNICATIONKEY\n",
      "716679764    564\n",
      "dtype: int64\n"
     ]
    }
   ],
   "source": [
    "data = InputData(df)\n",
    "test = data.prepare_data(0, 716679764)\n",
    "twin = data.prepare_data(5, 716679764)\n",
    "print(test.sum())"
   ]
  },
  {
   "cell_type": "code",
   "execution_count": null,
   "metadata": {},
   "outputs": [
    {
     "data": {
      "image/png": "[encoded data removed]",
      "text/plain": [
       "<Figure size 640x480 with 1 Axes>"
      ]
     },
     "metadata": {},
     "output_type": "display_data"
    }
   ],
   "source": [
    "bootstrap_results = Sampling.lb_bootstrap(test, B=0.1, b=7)\n",
    "bootstrap_results.plot(kind=\"hist\", bins=50, title=\"Local Block Bootstrap\", edgecolor=\"black\")\n",
    "plt.show()"
   ]
  },
  {
   "cell_type": "code",
   "execution_count": 443,
   "metadata": {},
   "outputs": [
    {
     "data": {
      "text/plain": [
       "count    50000.000000\n",
       "mean       536.748180\n",
       "std         49.403277\n",
       "min        343.000000\n",
       "25%        503.000000\n",
       "50%        536.000000\n",
       "75%        569.000000\n",
       "max        755.000000\n",
       "Name: Bootstrap_Sums, dtype: float64"
      ]
     },
     "metadata": {},
     "output_type": "display_data"
    },
    {
     "data": {
      "image/png": "[encoded data removed]",
      "text/plain": [
       "<Figure size 640x480 with 1 Axes>"
      ]
     },
     "metadata": {},
     "output_type": "display_data"
    }
   ],
   "source": [
    "results_simple = Sampling.iid_bootstrap(twin)\n",
    "display(results_simple.describe())\n",
    "results_simple.plot(kind=\"hist\", title=\"standard bootstrap\", bins=50, color=\"skyblue\", edgecolor=\"black\");"
   ]
  },
  {
   "cell_type": "code",
   "execution_count": 445,
   "metadata": {},
   "outputs": [
    {
     "name": "stdout",
     "output_type": "stream",
     "text": [
      "count    50000.000000\n",
      "mean       540.354680\n",
      "std        101.673639\n",
      "min        185.000000\n",
      "25%        469.000000\n",
      "50%        536.000000\n",
      "75%        606.000000\n",
      "max       1013.000000\n",
      "Name: Bootstrap_Sums, dtype: float64\n"
     ]
    },
    {
     "data": {
      "image/png": "[encoded data removed]",
      "text/plain": [
       "<Figure size 640x480 with 1 Axes>"
      ]
     },
     "metadata": {},
     "output_type": "display_data"
    }
   ],
   "source": [
    "results_lbb = Sampling.lb_bootstrap(twin, B=0.1, b=7)\n",
    "print(results_lbb.describe())\n",
    "results_lbb.plot(kind=\"hist\", bins=50, title=\"llb bootstrap\",color=\"skyblue\", edgecolor=\"black\");"
   ]
  },
  {
   "cell_type": "markdown",
   "metadata": {},
   "source": [
    "# Normality test\n",
    "- tune number of iteration until distribution is normal"
   ]
  },
  {
   "cell_type": "code",
   "execution_count": 145,
   "metadata": {},
   "outputs": [
    {
     "data": {
      "image/png": "[encoded data removed]",
      "text/plain": [
       "<Figure size 1200x500 with 2 Axes>"
      ]
     },
     "metadata": {},
     "output_type": "display_data"
    }
   ],
   "source": [
    "fig, (ax1, ax2) = plt.subplots(1, 2, figsize=(12, 5))\n",
    "\n",
    "# Plot the histogram\n",
    "ax1.hist(results_simple, bins=50, density=True, alpha=0.6, color='grey', edgecolor='black', label='Bootstrap PDF')\n",
    "ax1.set_title('Histogram of Bootstrapped Values')\n",
    "ax1.set_xlabel('Value')\n",
    "ax1.set_ylabel('Density')\n",
    "\n",
    "# Remove top and right spines for the histogram\n",
    "ax1.spines['top'].set_visible(False)\n",
    "ax1.spines['right'].set_visible(False)\n",
    "\n",
    "# Calculate the normal PDF\n",
    "x = np.linspace(min(results_simple), max(results_simple), 100)\n",
    "normal_pdf = stats.norm.pdf(x, loc=np.mean(results_simple), scale=np.sqrt(np.var(results_simple, ddof = 1)))\n",
    "\n",
    "# Plot the normal PDF\n",
    "ax1.plot(x, normal_pdf, label='Normal PDF', color='black', linestyle='-')\n",
    "\n",
    "# Plot the empirical CDF\n",
    "data_sorted = np.sort(results_simple)\n",
    "# Calculate the ECDF values\n",
    "ecdf = np.arange(1, len(data_sorted) + 1) / len(data_sorted)\n",
    "ax2.plot(data_sorted, ecdf, marker='o', linestyle='none', color='grey', label='Bootstrap CDF')\n",
    "\n",
    "# Remove top and right spines for the CDF\n",
    "ax2.spines['top'].set_visible(False)\n",
    "ax2.spines['right'].set_visible(False)\n",
    "\n",
    "# Calculate the normal CDF\n",
    "normal_cdf = stats.norm.cdf(x, loc=np.mean(results_simple), scale=np.sqrt(np.var(results_simple, ddof = 1)))\n",
    "\n",
    "# Plot the normal CDF\n",
    "ax2.plot(x, normal_cdf, label='Normal CDF', color='black', linestyle='-')\n",
    "\n",
    "ax2.set_title('Empirical CDF vs Normal CDF')\n",
    "ax2.set_xlabel('Value')\n",
    "ax2.set_ylabel('Cumulative Probability')\n",
    "\n",
    "# Add legends\n",
    "ax1.legend()\n",
    "ax2.legend()\n",
    "\n",
    "plt.tight_layout()\n",
    "plt.savefig('plots/bootstrap_joint_distribution.svg')\n",
    "plt.show()\n"
   ]
  },
  {
   "cell_type": "code",
   "execution_count": 140,
   "metadata": {},
   "outputs": [],
   "source": [
    "#H0: the data is normally distributed\n",
    "#define alpha level\n",
    "alpha = 0.05"
   ]
  },
  {
   "cell_type": "code",
   "execution_count": 260,
   "metadata": {},
   "outputs": [],
   "source": [
    "#generate integer samples from normal distribution\n",
    "norm_samples = np.random.normal(50, 25, 100000).astype(int)"
   ]
  },
  {
   "cell_type": "code",
   "execution_count": 261,
   "metadata": {},
   "outputs": [
    {
     "name": "stdout",
     "output_type": "stream",
     "text": [
      "0.012248796881928087\n",
      "Reject the null hypothesis: The data does not appear to be normally distributed.\n"
     ]
    }
   ],
   "source": [
    "_, p_value = stats.normaltest(norm_samples)\n",
    "print(p_value)\n",
    "if p_value > alpha:\n",
    "    print(\"Fail to reject the null hypothesis: The data appears to be normally distributed.\")\n",
    "else:\n",
    "    print(\"Reject the null hypothesis: The data does not appear to be normally distributed.\")"
   ]
  },
  {
   "cell_type": "code",
   "execution_count": 143,
   "metadata": {},
   "outputs": [
    {
     "name": "stdout",
     "output_type": "stream",
     "text": [
      "Reject the null hypothesis: The data does not appear to be normally distributed.\n"
     ]
    },
    {
     "name": "stderr",
     "output_type": "stream",
     "text": [
      "/home/chnaeher/.local/lib/python3.10/site-packages/scipy/stats/_axis_nan_policy.py:573: UserWarning: scipy.stats.shapiro: For N > 5000, computed p-value may not be accurate. Current N is 10000.\n",
      "  res = hypotest_fun_out(*samples, **kwds)\n"
     ]
    }
   ],
   "source": [
    "# Warning: for N > 5000, computed p-value may not be accurate.\n",
    "_, p_value = stats.shapiro(results_simple)\n",
    "print(p_value)\n",
    "if p_value > alpha:\n",
    "    print(\"Fail to reject the null hypothesis: The data appears to be normally distributed.\")\n",
    "else:\n",
    "    print(\"Reject the null hypothesis: The data does not appear to be normally distributed.\")"
   ]
  }
 ],
 "metadata": {
  "kernelspec": {
   "display_name": "diplom",
   "language": "python",
   "name": "python3"
  },
  "language_info": {
   "codemirror_mode": {
    "name": "ipython",
    "version": 3
   },
   "file_extension": ".py",
   "mimetype": "text/x-python",
   "name": "python",
   "nbconvert_exporter": "python",
   "pygments_lexer": "ipython3",
   "version": "3.9.21"
  }
 },
 "nbformat": 4,
 "nbformat_minor": 2
}
