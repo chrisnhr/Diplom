{
 "cells": [
  {
   "cell_type": "code",
   "execution_count": 1,
   "metadata": {},
   "outputs": [],
   "source": [
    "import numpy as np\n",
    "import matplotlib.pyplot as plt\n",
    "import scipy.stats as stats\n",
    "import pandas as pd\n",
    "from modules import *"
   ]
  },
  {
   "cell_type": "code",
   "execution_count": null,
   "metadata": {},
   "outputs": [
    {
     "ename": "",
     "evalue": "",
     "output_type": "error",
     "traceback": [
      "\u001b[1;31mnotebook controller is DISPOSED. \n",
      "\u001b[1;31mView Jupyter <a href='command:jupyter.viewOutput'>log</a> for further details."
     ]
    },
    {
     "ename": "",
     "evalue": "",
     "output_type": "error",
     "traceback": [
      "\u001b[1;31mnotebook controller is DISPOSED. \n",
      "\u001b[1;31mView Jupyter <a href='command:jupyter.viewOutput'>log</a> for further details."
     ]
    }
   ],
   "source": [
    "# TODO: evaluieren der korrekten window positionen unter zero indexing, was sind die mindest dinger für die grid search windows, input dataen vollenden (z.B. NAs), die iid bootstraps implementieren\n",
    "\n",
    "# FIXME: \n",
    "\n",
    "# NOTE: NA printout currently disabled for debugging, must be looked into later, evaluate why identical bounds from paper are not robust to all parameter combinations\n",
    "#cache decorator makes the functions non pickleable -> find\n",
    "#kann ich meine Ergebnisse eindeutiger machen, wenn ich mehr als 100 Testartikel nehme?"
   ]
  },
  {
   "cell_type": "markdown",
   "metadata": {},
   "source": [
    "### Testing influence of parameters on window indexes"
   ]
  },
  {
   "cell_type": "code",
   "execution_count": null,
   "metadata": {},
   "outputs": [
    {
     "ename": "",
     "evalue": "",
     "output_type": "error",
     "traceback": [
      "\u001b[1;31mnotebook controller is DISPOSED. \n",
      "\u001b[1;31mView Jupyter <a href='command:jupyter.viewOutput'>log</a> for further details."
     ]
    },
    {
     "ename": "",
     "evalue": "",
     "output_type": "error",
     "traceback": [
      "\u001b[1;31mnotebook controller is DISPOSED. \n",
      "\u001b[1;31mView Jupyter <a href='command:jupyter.viewOutput'>log</a> for further details."
     ]
    }
   ],
   "source": [
    "#sind meine windows centered oder asymmetrisch? -> den zenterpunkt +0.5 setzen"
   ]
  },
  {
   "cell_type": "code",
   "execution_count": null,
   "metadata": {},
   "outputs": [
    {
     "name": "stdout",
     "output_type": "stream",
     "text": [
      "[  0.   5.  13.  21.  29.  37.  45.  53.  61.  69.  77.  85.  93. 101.\n",
      " 109. 117. 125. 133. 141. 149. 157. 165. 173. 181. 189. 197. 205. 213.\n",
      " 221. 229. 237. 245. 253. 261. 269. 277. 285. 293. 301. 303.]\n"
     ]
    },
    {
     "ename": "",
     "evalue": "",
     "output_type": "error",
     "traceback": [
      "\u001b[1;31mnotebook controller is DISPOSED. \n",
      "\u001b[1;31mView Jupyter <a href='command:jupyter.viewOutput'>log</a> for further details."
     ]
    },
    {
     "ename": "",
     "evalue": "",
     "output_type": "error",
     "traceback": [
      "\u001b[1;31mnotebook controller is DISPOSED. \n",
      "\u001b[1;31mView Jupyter <a href='command:jupyter.viewOutput'>log</a> for further details."
     ]
    }
   ],
   "source": [
    "#window size dürfen nur gerade zahlen sein, sonst sind grenzen dezimalzahlen\n",
    "#dadurch, dass der ub nicht inclusive ist, sind die intervalle nicht symmetrisch um den Index m*b\n",
    "#was wäre eine Lösung? (abwägung zwischen symmetrischem, ungeraden intervall und asymmetrischem, geraden intervall)\n",
    "#window size 1 hat die beste performance, dass müssen wir also eigentlich berücksichtigen\n",
    "#-> wie verhalten sich die intervallgrenzen bei window size 1? mit den decimalzahlengrenzen\n",
    "N = 313\n",
    "b = 8\n",
    "w = 4\n",
    "M = int(np.ceil(N / b))\n",
    "\n",
    "# Compute J_1m and J_2m\n",
    "J_1m_values = np.maximum(0, np.minimum(np.arange(M) * b - w/2-1, N-b - w/2))# Shape: (M,)\n",
    "print(J_1m_values)"
   ]
  },
  {
   "cell_type": "code",
   "execution_count": null,
   "metadata": {},
   "outputs": [
    {
     "name": "stdout",
     "output_type": "stream",
     "text": [
      "[  2.  10.  18.  26.  34.  42.  50.  58.  66.  74.  82.  90.  98. 106.\n",
      " 114. 122. 130. 138. 146. 154. 162. 170. 178. 186. 194. 202. 210. 218.\n",
      " 226. 234. 242. 250. 258. 266. 274. 282. 290. 298. 305. 305.]\n"
     ]
    },
    {
     "data": {
      "image/png": "[encoded data removed]",
      "text/plain": [
       "<Figure size 800x500 with 1 Axes>"
      ]
     },
     "metadata": {},
     "output_type": "display_data"
    },
    {
     "ename": "",
     "evalue": "",
     "output_type": "error",
     "traceback": [
      "\u001b[1;31mnotebook controller is DISPOSED. \n",
      "\u001b[1;31mView Jupyter <a href='command:jupyter.viewOutput'>log</a> for further details."
     ]
    },
    {
     "ename": "",
     "evalue": "",
     "output_type": "error",
     "traceback": [
      "\u001b[1;31mnotebook controller is DISPOSED. \n",
      "\u001b[1;31mView Jupyter <a href='command:jupyter.viewOutput'>log</a> for further details."
     ]
    }
   ],
   "source": [
    "\n",
    "J_2m_values = np.maximum(0, np.minimum(np.arange(M) * b + w/2, N-b))    # Shape: (M,)\n",
    "print(J_2m_values)\n",
    "\n",
    "# Compute the difference\n",
    "difference = J_2m_values - J_1m_values\n",
    "\n",
    "# Plot the difference\n",
    "plt.figure(figsize=(8, 5))\n",
    "plt.plot(range(M), difference, marker='o', linestyle='-', label='J_2m - J_1m')\n",
    "plt.xlabel('m')\n",
    "plt.ylabel('Difference')\n",
    "plt.title(f'Difference between J_2m and J_1m, satisfies J_1m < J_2m: {~np.any(J_1m_values >= J_2m_values)}')\n",
    "plt.show()"
   ]
  },
  {
   "cell_type": "markdown",
   "metadata": {},
   "source": [
    "# Metrics\n",
    "Mathematical formulation for discrete Wasserstein Distance, with $q$ being the quantiles:\n",
    "$$\n",
    "W_p(\\mu_1, \\mu_2) = \\left( \\int_0^1 \\left| F_1^{-1}(q) - F_2^{-1}(q) \\right|^p \\, dq \\right)^{\\frac{1}{p}}\n",
    "$$\n"
   ]
  },
  {
   "cell_type": "code",
   "execution_count": null,
   "metadata": {},
   "outputs": [
    {
     "name": "stderr",
     "output_type": "stream",
     "text": [
      "/Users/chris/Projects/Diplom/modules.py:259: UserWarning: Warning: The file 'results/grid_results.csv' already exists. Data will be appended.\n",
      "  warnings.warn(f\"Warning: The file '{GridEvaluation.output_file}' already exists. Data will be appended.\", UserWarning)\n"
     ]
    },
    {
     "data": {
      "application/vnd.jupyter.widget-view+json": {
       "model_id": "72805569a556447dab74fa2ca7de6ab0",
       "version_major": 2,
       "version_minor": 0
      },
      "text/plain": [
       "Batch processing and streaming:   0%|          | 0/20 [00:00<?, ?it/s]"
      ]
     },
     "metadata": {},
     "output_type": "display_data"
    },
    {
     "ename": "",
     "evalue": "",
     "output_type": "error",
     "traceback": [
      "\u001b[1;31mnotebook controller is DISPOSED. \n",
      "\u001b[1;31mView Jupyter <a href='command:jupyter.viewOutput'>log</a> for further details."
     ]
    },
    {
     "ename": "",
     "evalue": "",
     "output_type": "error",
     "traceback": [
      "\u001b[1;31mnotebook controller is DISPOSED. \n",
      "\u001b[1;31mView Jupyter <a href='command:jupyter.viewOutput'>log</a> for further details."
     ]
    }
   ],
   "source": [
    "GridEvaluation.run(list(InputData.TestData.keys()))"
   ]
  },
  {
   "cell_type": "markdown",
   "metadata": {},
   "source": [
    "# Error Diagnosis\n",
    "\n",
    "### 1. Optimierung der Parameter\n",
    "- **Frage:** Was ist die beste Parameterkombination?\n",
    "\n",
    "### 2. Identifikation von Ausreißern\n",
    "- **Frage:** Welche Items sind die größten Ausreißer?\n",
    "\n",
    "### 3. Bias-Analyse\n",
    "- **Frage:** Haben wir allgemein einen positiven oder negativen Bias? (Test if correction factor might help)\n",
    "\n",
    "### 4. Einfluss von Parametern auf Bias und Varianz\n",
    "- **Frage:** Ändern sich Bias und Varianz mit den Parametern, insbesondere mit der Anzahl der Twins?\n",
    "\n",
    "### 5. Vergleich mit Bootstrap\n",
    "- **Frage:** Lohnt sich das im Vergleich zum einfachen Bootstrap?\n",
    "\n",
    "### 6. Ausblick auf Performance-Änderungen\n",
    "- **Frage:** Wie ändert sich die Performance, wenn die Beobachtungsperiode um 1 Jahr verschoben wird?\n",
    "  - **Erwartung:** Der Einfluss des Trends wird erhöht."
   ]
  },
  {
   "cell_type": "code",
   "execution_count": null,
   "metadata": {},
   "outputs": [
    {
     "ename": "",
     "evalue": "",
     "output_type": "error",
     "traceback": [
      "\u001b[1;31mnotebook controller is DISPOSED. \n",
      "\u001b[1;31mView Jupyter <a href='command:jupyter.viewOutput'>log</a> for further details."
     ]
    },
    {
     "ename": "",
     "evalue": "",
     "output_type": "error",
     "traceback": [
      "\u001b[1;31mnotebook controller is DISPOSED. \n",
      "\u001b[1;31mView Jupyter <a href='command:jupyter.viewOutput'>log</a> for further details."
     ]
    }
   ],
   "source": [
    "df_results = pd.read_csv(\"results/grid_results.csv\")"
   ]
  },
  {
   "cell_type": "code",
   "execution_count": null,
   "metadata": {},
   "outputs": [
    {
     "data": {
      "text/html": [
       "<div>\n",
       "<style scoped>\n",
       "    .dataframe tbody tr th:only-of-type {\n",
       "        vertical-align: middle;\n",
       "    }\n",
       "\n",
       "    .dataframe tbody tr th {\n",
       "        vertical-align: top;\n",
       "    }\n",
       "\n",
       "    .dataframe thead th {\n",
       "        text-align: right;\n",
       "    }\n",
       "</style>\n",
       "<table border=\"1\" class=\"dataframe\">\n",
       "  <thead>\n",
       "    <tr style=\"text-align: right;\">\n",
       "      <th></th>\n",
       "      <th>TEST_ITEM_COMMUNICATIONKEY</th>\n",
       "      <th>BLOCK_SIZE</th>\n",
       "      <th>WINDOW_SIZE</th>\n",
       "      <th>TWIN_NUMBER</th>\n",
       "      <th>MEAN_SAMPLE</th>\n",
       "      <th>MEAN_TEST</th>\n",
       "      <th>BIAS</th>\n",
       "      <th>VARIANCE</th>\n",
       "      <th>RMSE</th>\n",
       "      <th>MAPE</th>\n",
       "      <th>MAE</th>\n",
       "      <th>WASSERSTEIN</th>\n",
       "    </tr>\n",
       "  </thead>\n",
       "  <tbody>\n",
       "    <tr>\n",
       "      <th>0</th>\n",
       "      <td>716679764</td>\n",
       "      <td>1</td>\n",
       "      <td>1</td>\n",
       "      <td>9</td>\n",
       "      <td>981.0258</td>\n",
       "      <td>564.0</td>\n",
       "      <td>417.0258</td>\n",
       "      <td>11264.699674</td>\n",
       "      <td>20.744153</td>\n",
       "      <td>73.940745</td>\n",
       "      <td>417.0258</td>\n",
       "      <td>425.375462</td>\n",
       "    </tr>\n",
       "    <tr>\n",
       "      <th>1</th>\n",
       "      <td>735286989</td>\n",
       "      <td>1</td>\n",
       "      <td>1</td>\n",
       "      <td>7</td>\n",
       "      <td>926.4180</td>\n",
       "      <td>863.0</td>\n",
       "      <td>63.4180</td>\n",
       "      <td>5778.117299</td>\n",
       "      <td>9.949610</td>\n",
       "      <td>9.124171</td>\n",
       "      <td>78.7416</td>\n",
       "      <td>80.466089</td>\n",
       "    </tr>\n",
       "    <tr>\n",
       "      <th>2</th>\n",
       "      <td>796628327</td>\n",
       "      <td>1</td>\n",
       "      <td>1</td>\n",
       "      <td>8</td>\n",
       "      <td>254.4206</td>\n",
       "      <td>138.0</td>\n",
       "      <td>116.4206</td>\n",
       "      <td>499.722440</td>\n",
       "      <td>10.887946</td>\n",
       "      <td>84.362754</td>\n",
       "      <td>116.4206</td>\n",
       "      <td>116.980352</td>\n",
       "    </tr>\n",
       "    <tr>\n",
       "      <th>3</th>\n",
       "      <td>803656013</td>\n",
       "      <td>1</td>\n",
       "      <td>1</td>\n",
       "      <td>10</td>\n",
       "      <td>979.9256</td>\n",
       "      <td>240.0</td>\n",
       "      <td>739.9256</td>\n",
       "      <td>38887.042673</td>\n",
       "      <td>27.672234</td>\n",
       "      <td>308.302333</td>\n",
       "      <td>739.9256</td>\n",
       "      <td>761.993729</td>\n",
       "    </tr>\n",
       "    <tr>\n",
       "      <th>4</th>\n",
       "      <td>804245827</td>\n",
       "      <td>1</td>\n",
       "      <td>1</td>\n",
       "      <td>7</td>\n",
       "      <td>226.1122</td>\n",
       "      <td>145.0</td>\n",
       "      <td>81.1122</td>\n",
       "      <td>1030.435298</td>\n",
       "      <td>9.339869</td>\n",
       "      <td>55.939448</td>\n",
       "      <td>81.1122</td>\n",
       "      <td>83.494155</td>\n",
       "    </tr>\n",
       "  </tbody>\n",
       "</table>\n",
       "</div>"
      ],
      "text/plain": [
       "   TEST_ITEM_COMMUNICATIONKEY  BLOCK_SIZE  WINDOW_SIZE  TWIN_NUMBER  \\\n",
       "0                   716679764           1            1            9   \n",
       "1                   735286989           1            1            7   \n",
       "2                   796628327           1            1            8   \n",
       "3                   803656013           1            1           10   \n",
       "4                   804245827           1            1            7   \n",
       "\n",
       "   MEAN_SAMPLE  MEAN_TEST      BIAS      VARIANCE       RMSE        MAPE  \\\n",
       "0     981.0258      564.0  417.0258  11264.699674  20.744153   73.940745   \n",
       "1     926.4180      863.0   63.4180   5778.117299   9.949610    9.124171   \n",
       "2     254.4206      138.0  116.4206    499.722440  10.887946   84.362754   \n",
       "3     979.9256      240.0  739.9256  38887.042673  27.672234  308.302333   \n",
       "4     226.1122      145.0   81.1122   1030.435298   9.339869   55.939448   \n",
       "\n",
       "        MAE  WASSERSTEIN  \n",
       "0  417.0258   425.375462  \n",
       "1   78.7416    80.466089  \n",
       "2  116.4206   116.980352  \n",
       "3  739.9256   761.993729  \n",
       "4   81.1122    83.494155  "
      ]
     },
     "execution_count": 8,
     "metadata": {},
     "output_type": "execute_result"
    },
    {
     "ename": "",
     "evalue": "",
     "output_type": "error",
     "traceback": [
      "\u001b[1;31mnotebook controller is DISPOSED. \n",
      "\u001b[1;31mView Jupyter <a href='command:jupyter.viewOutput'>log</a> for further details."
     ]
    },
    {
     "ename": "",
     "evalue": "",
     "output_type": "error",
     "traceback": [
      "\u001b[1;31mnotebook controller is DISPOSED. \n",
      "\u001b[1;31mView Jupyter <a href='command:jupyter.viewOutput'>log</a> for further details."
     ]
    }
   ],
   "source": [
    "df_results.head()"
   ]
  },
  {
   "cell_type": "code",
   "execution_count": null,
   "metadata": {},
   "outputs": [
    {
     "data": {
      "text/html": [
       "<div>\n",
       "<style scoped>\n",
       "    .dataframe tbody tr th:only-of-type {\n",
       "        vertical-align: middle;\n",
       "    }\n",
       "\n",
       "    .dataframe tbody tr th {\n",
       "        vertical-align: top;\n",
       "    }\n",
       "\n",
       "    .dataframe thead th {\n",
       "        text-align: right;\n",
       "    }\n",
       "</style>\n",
       "<table border=\"1\" class=\"dataframe\">\n",
       "  <thead>\n",
       "    <tr style=\"text-align: right;\">\n",
       "      <th></th>\n",
       "      <th>WINDOW_SIZE</th>\n",
       "      <th>BLOCK_SIZE</th>\n",
       "      <th>VARIANCE</th>\n",
       "    </tr>\n",
       "  </thead>\n",
       "  <tbody>\n",
       "    <tr>\n",
       "      <th>0</th>\n",
       "      <td>1</td>\n",
       "      <td>1</td>\n",
       "      <td>3919.743700</td>\n",
       "    </tr>\n",
       "    <tr>\n",
       "      <th>1</th>\n",
       "      <td>5</td>\n",
       "      <td>1</td>\n",
       "      <td>4143.677250</td>\n",
       "    </tr>\n",
       "    <tr>\n",
       "      <th>2</th>\n",
       "      <td>9</td>\n",
       "      <td>1</td>\n",
       "      <td>4244.301764</td>\n",
       "    </tr>\n",
       "    <tr>\n",
       "      <th>3</th>\n",
       "      <td>13</td>\n",
       "      <td>1</td>\n",
       "      <td>4410.453101</td>\n",
       "    </tr>\n",
       "    <tr>\n",
       "      <th>4</th>\n",
       "      <td>17</td>\n",
       "      <td>1</td>\n",
       "      <td>4428.212509</td>\n",
       "    </tr>\n",
       "    <tr>\n",
       "      <th>5</th>\n",
       "      <td>29</td>\n",
       "      <td>1</td>\n",
       "      <td>4482.102692</td>\n",
       "    </tr>\n",
       "    <tr>\n",
       "      <th>6</th>\n",
       "      <td>37</td>\n",
       "      <td>1</td>\n",
       "      <td>4497.622156</td>\n",
       "    </tr>\n",
       "    <tr>\n",
       "      <th>7</th>\n",
       "      <td>25</td>\n",
       "      <td>1</td>\n",
       "      <td>4500.355291</td>\n",
       "    </tr>\n",
       "    <tr>\n",
       "      <th>8</th>\n",
       "      <td>33</td>\n",
       "      <td>1</td>\n",
       "      <td>4510.214014</td>\n",
       "    </tr>\n",
       "    <tr>\n",
       "      <th>9</th>\n",
       "      <td>21</td>\n",
       "      <td>1</td>\n",
       "      <td>4545.371696</td>\n",
       "    </tr>\n",
       "    <tr>\n",
       "      <th>10</th>\n",
       "      <td>45</td>\n",
       "      <td>1</td>\n",
       "      <td>4573.561783</td>\n",
       "    </tr>\n",
       "    <tr>\n",
       "      <th>11</th>\n",
       "      <td>41</td>\n",
       "      <td>1</td>\n",
       "      <td>4581.725902</td>\n",
       "    </tr>\n",
       "    <tr>\n",
       "      <th>12</th>\n",
       "      <td>49</td>\n",
       "      <td>1</td>\n",
       "      <td>4605.012495</td>\n",
       "    </tr>\n",
       "    <tr>\n",
       "      <th>13</th>\n",
       "      <td>53</td>\n",
       "      <td>1</td>\n",
       "      <td>4614.031443</td>\n",
       "    </tr>\n",
       "    <tr>\n",
       "      <th>14</th>\n",
       "      <td>57</td>\n",
       "      <td>1</td>\n",
       "      <td>4615.516483</td>\n",
       "    </tr>\n",
       "    <tr>\n",
       "      <th>15</th>\n",
       "      <td>0</td>\n",
       "      <td>1</td>\n",
       "      <td>5710.961114</td>\n",
       "    </tr>\n",
       "    <tr>\n",
       "      <th>16</th>\n",
       "      <td>1</td>\n",
       "      <td>4</td>\n",
       "      <td>11289.281850</td>\n",
       "    </tr>\n",
       "    <tr>\n",
       "      <th>17</th>\n",
       "      <td>5</td>\n",
       "      <td>4</td>\n",
       "      <td>11864.727601</td>\n",
       "    </tr>\n",
       "    <tr>\n",
       "      <th>18</th>\n",
       "      <td>9</td>\n",
       "      <td>4</td>\n",
       "      <td>12283.321128</td>\n",
       "    </tr>\n",
       "    <tr>\n",
       "      <th>19</th>\n",
       "      <td>13</td>\n",
       "      <td>4</td>\n",
       "      <td>12639.367760</td>\n",
       "    </tr>\n",
       "  </tbody>\n",
       "</table>\n",
       "</div>"
      ],
      "text/plain": [
       "    WINDOW_SIZE  BLOCK_SIZE      VARIANCE\n",
       "0             1           1   3919.743700\n",
       "1             5           1   4143.677250\n",
       "2             9           1   4244.301764\n",
       "3            13           1   4410.453101\n",
       "4            17           1   4428.212509\n",
       "5            29           1   4482.102692\n",
       "6            37           1   4497.622156\n",
       "7            25           1   4500.355291\n",
       "8            33           1   4510.214014\n",
       "9            21           1   4545.371696\n",
       "10           45           1   4573.561783\n",
       "11           41           1   4581.725902\n",
       "12           49           1   4605.012495\n",
       "13           53           1   4614.031443\n",
       "14           57           1   4615.516483\n",
       "15            0           1   5710.961114\n",
       "16            1           4  11289.281850\n",
       "17            5           4  11864.727601\n",
       "18            9           4  12283.321128\n",
       "19           13           4  12639.367760"
      ]
     },
     "execution_count": 41,
     "metadata": {},
     "output_type": "execute_result"
    },
    {
     "ename": "",
     "evalue": "",
     "output_type": "error",
     "traceback": [
      "\u001b[1;31mnotebook controller is DISPOSED. \n",
      "\u001b[1;31mView Jupyter <a href='command:jupyter.viewOutput'>log</a> for further details."
     ]
    },
    {
     "ename": "",
     "evalue": "",
     "output_type": "error",
     "traceback": [
      "\u001b[1;31mnotebook controller is DISPOSED. \n",
      "\u001b[1;31mView Jupyter <a href='command:jupyter.viewOutput'>log</a> for further details."
     ]
    }
   ],
   "source": [
    "#1\n",
    "df_results.groupby([\"WINDOW_SIZE\", \"BLOCK_SIZE\"]).median().sort_values(\"VARIANCE\").reset_index()[[\"WINDOW_SIZE\", \"BLOCK_SIZE\", \"VARIANCE\" ]].head(20)"
   ]
  },
  {
   "cell_type": "code",
   "execution_count": null,
   "metadata": {},
   "outputs": [
    {
     "data": {
      "text/html": [
       "<div>\n",
       "<style scoped>\n",
       "    .dataframe tbody tr th:only-of-type {\n",
       "        vertical-align: middle;\n",
       "    }\n",
       "\n",
       "    .dataframe tbody tr th {\n",
       "        vertical-align: top;\n",
       "    }\n",
       "\n",
       "    .dataframe thead th {\n",
       "        text-align: right;\n",
       "    }\n",
       "</style>\n",
       "<table border=\"1\" class=\"dataframe\">\n",
       "  <thead>\n",
       "    <tr style=\"text-align: right;\">\n",
       "      <th></th>\n",
       "      <th>WINDOW_SIZE</th>\n",
       "      <th>BLOCK_SIZE</th>\n",
       "      <th>WASSERSTEIN</th>\n",
       "    </tr>\n",
       "  </thead>\n",
       "  <tbody>\n",
       "    <tr>\n",
       "      <th>0</th>\n",
       "      <td>0</td>\n",
       "      <td>1</td>\n",
       "      <td>298.843797</td>\n",
       "    </tr>\n",
       "    <tr>\n",
       "      <th>1</th>\n",
       "      <td>21</td>\n",
       "      <td>1</td>\n",
       "      <td>299.694818</td>\n",
       "    </tr>\n",
       "    <tr>\n",
       "      <th>2</th>\n",
       "      <td>25</td>\n",
       "      <td>1</td>\n",
       "      <td>300.040833</td>\n",
       "    </tr>\n",
       "    <tr>\n",
       "      <th>3</th>\n",
       "      <td>17</td>\n",
       "      <td>1</td>\n",
       "      <td>300.125886</td>\n",
       "    </tr>\n",
       "    <tr>\n",
       "      <th>4</th>\n",
       "      <td>13</td>\n",
       "      <td>1</td>\n",
       "      <td>300.273304</td>\n",
       "    </tr>\n",
       "    <tr>\n",
       "      <th>5</th>\n",
       "      <td>29</td>\n",
       "      <td>1</td>\n",
       "      <td>300.397096</td>\n",
       "    </tr>\n",
       "    <tr>\n",
       "      <th>6</th>\n",
       "      <td>33</td>\n",
       "      <td>1</td>\n",
       "      <td>300.649707</td>\n",
       "    </tr>\n",
       "    <tr>\n",
       "      <th>7</th>\n",
       "      <td>9</td>\n",
       "      <td>1</td>\n",
       "      <td>300.699133</td>\n",
       "    </tr>\n",
       "    <tr>\n",
       "      <th>8</th>\n",
       "      <td>49</td>\n",
       "      <td>1</td>\n",
       "      <td>300.827407</td>\n",
       "    </tr>\n",
       "    <tr>\n",
       "      <th>9</th>\n",
       "      <td>41</td>\n",
       "      <td>1</td>\n",
       "      <td>300.958032</td>\n",
       "    </tr>\n",
       "    <tr>\n",
       "      <th>10</th>\n",
       "      <td>37</td>\n",
       "      <td>1</td>\n",
       "      <td>300.982852</td>\n",
       "    </tr>\n",
       "    <tr>\n",
       "      <th>11</th>\n",
       "      <td>45</td>\n",
       "      <td>1</td>\n",
       "      <td>300.987990</td>\n",
       "    </tr>\n",
       "    <tr>\n",
       "      <th>12</th>\n",
       "      <td>57</td>\n",
       "      <td>1</td>\n",
       "      <td>300.997914</td>\n",
       "    </tr>\n",
       "    <tr>\n",
       "      <th>13</th>\n",
       "      <td>5</td>\n",
       "      <td>1</td>\n",
       "      <td>300.999221</td>\n",
       "    </tr>\n",
       "    <tr>\n",
       "      <th>14</th>\n",
       "      <td>53</td>\n",
       "      <td>1</td>\n",
       "      <td>301.290047</td>\n",
       "    </tr>\n",
       "    <tr>\n",
       "      <th>15</th>\n",
       "      <td>1</td>\n",
       "      <td>1</td>\n",
       "      <td>302.632244</td>\n",
       "    </tr>\n",
       "    <tr>\n",
       "      <th>16</th>\n",
       "      <td>21</td>\n",
       "      <td>4</td>\n",
       "      <td>311.505030</td>\n",
       "    </tr>\n",
       "    <tr>\n",
       "      <th>17</th>\n",
       "      <td>57</td>\n",
       "      <td>4</td>\n",
       "      <td>311.829712</td>\n",
       "    </tr>\n",
       "    <tr>\n",
       "      <th>18</th>\n",
       "      <td>29</td>\n",
       "      <td>4</td>\n",
       "      <td>311.862778</td>\n",
       "    </tr>\n",
       "    <tr>\n",
       "      <th>19</th>\n",
       "      <td>53</td>\n",
       "      <td>4</td>\n",
       "      <td>311.937113</td>\n",
       "    </tr>\n",
       "  </tbody>\n",
       "</table>\n",
       "</div>"
      ],
      "text/plain": [
       "    WINDOW_SIZE  BLOCK_SIZE  WASSERSTEIN\n",
       "0             0           1   298.843797\n",
       "1            21           1   299.694818\n",
       "2            25           1   300.040833\n",
       "3            17           1   300.125886\n",
       "4            13           1   300.273304\n",
       "5            29           1   300.397096\n",
       "6            33           1   300.649707\n",
       "7             9           1   300.699133\n",
       "8            49           1   300.827407\n",
       "9            41           1   300.958032\n",
       "10           37           1   300.982852\n",
       "11           45           1   300.987990\n",
       "12           57           1   300.997914\n",
       "13            5           1   300.999221\n",
       "14           53           1   301.290047\n",
       "15            1           1   302.632244\n",
       "16           21           4   311.505030\n",
       "17           57           4   311.829712\n",
       "18           29           4   311.862778\n",
       "19           53           4   311.937113"
      ]
     },
     "execution_count": 35,
     "metadata": {},
     "output_type": "execute_result"
    },
    {
     "ename": "",
     "evalue": "",
     "output_type": "error",
     "traceback": [
      "\u001b[1;31mnotebook controller is DISPOSED. \n",
      "\u001b[1;31mView Jupyter <a href='command:jupyter.viewOutput'>log</a> for further details."
     ]
    },
    {
     "ename": "",
     "evalue": "",
     "output_type": "error",
     "traceback": [
      "\u001b[1;31mnotebook controller is DISPOSED. \n",
      "\u001b[1;31mView Jupyter <a href='command:jupyter.viewOutput'>log</a> for further details."
     ]
    }
   ],
   "source": [
    "df_results.groupby([\"WINDOW_SIZE\", \"BLOCK_SIZE\"]).mean().sort_values(\"WASSERSTEIN\").reset_index()[[\"WINDOW_SIZE\", \"BLOCK_SIZE\", \"WASSERSTEIN\" ]].head(20)"
   ]
  },
  {
   "cell_type": "code",
   "execution_count": null,
   "metadata": {},
   "outputs": [
    {
     "data": {
      "text/html": [
       "<div>\n",
       "<style scoped>\n",
       "    .dataframe tbody tr th:only-of-type {\n",
       "        vertical-align: middle;\n",
       "    }\n",
       "\n",
       "    .dataframe tbody tr th {\n",
       "        vertical-align: top;\n",
       "    }\n",
       "\n",
       "    .dataframe thead th {\n",
       "        text-align: right;\n",
       "    }\n",
       "</style>\n",
       "<table border=\"1\" class=\"dataframe\">\n",
       "  <thead>\n",
       "    <tr style=\"text-align: right;\">\n",
       "      <th></th>\n",
       "      <th>TEST_ITEM_COMMUNICATIONKEY</th>\n",
       "      <th>RMSE</th>\n",
       "    </tr>\n",
       "  </thead>\n",
       "  <tbody>\n",
       "    <tr>\n",
       "      <th>0</th>\n",
       "      <td>829628090</td>\n",
       "      <td>45.746634</td>\n",
       "    </tr>\n",
       "    <tr>\n",
       "      <th>1</th>\n",
       "      <td>842058910</td>\n",
       "      <td>42.316872</td>\n",
       "    </tr>\n",
       "    <tr>\n",
       "      <th>2</th>\n",
       "      <td>1107699346</td>\n",
       "      <td>37.842182</td>\n",
       "    </tr>\n",
       "    <tr>\n",
       "      <th>3</th>\n",
       "      <td>1574713555</td>\n",
       "      <td>37.185185</td>\n",
       "    </tr>\n",
       "    <tr>\n",
       "      <th>4</th>\n",
       "      <td>803656013</td>\n",
       "      <td>34.865982</td>\n",
       "    </tr>\n",
       "    <tr>\n",
       "      <th>...</th>\n",
       "      <td>...</td>\n",
       "      <td>...</td>\n",
       "    </tr>\n",
       "    <tr>\n",
       "      <th>95</th>\n",
       "      <td>856065671</td>\n",
       "      <td>8.579851</td>\n",
       "    </tr>\n",
       "    <tr>\n",
       "      <th>96</th>\n",
       "      <td>824014002</td>\n",
       "      <td>8.449042</td>\n",
       "    </tr>\n",
       "    <tr>\n",
       "      <th>97</th>\n",
       "      <td>837717257</td>\n",
       "      <td>8.444953</td>\n",
       "    </tr>\n",
       "    <tr>\n",
       "      <th>98</th>\n",
       "      <td>1035556462</td>\n",
       "      <td>7.334137</td>\n",
       "    </tr>\n",
       "    <tr>\n",
       "      <th>99</th>\n",
       "      <td>868192553</td>\n",
       "      <td>5.828023</td>\n",
       "    </tr>\n",
       "  </tbody>\n",
       "</table>\n",
       "<p>100 rows × 2 columns</p>\n",
       "</div>"
      ],
      "text/plain": [
       "    TEST_ITEM_COMMUNICATIONKEY       RMSE\n",
       "0                    829628090  45.746634\n",
       "1                    842058910  42.316872\n",
       "2                   1107699346  37.842182\n",
       "3                   1574713555  37.185185\n",
       "4                    803656013  34.865982\n",
       "..                         ...        ...\n",
       "95                   856065671   8.579851\n",
       "96                   824014002   8.449042\n",
       "97                   837717257   8.444953\n",
       "98                  1035556462   7.334137\n",
       "99                   868192553   5.828023\n",
       "\n",
       "[100 rows x 2 columns]"
      ]
     },
     "execution_count": 24,
     "metadata": {},
     "output_type": "execute_result"
    },
    {
     "ename": "",
     "evalue": "",
     "output_type": "error",
     "traceback": [
      "\u001b[1;31mnotebook controller is DISPOSED. \n",
      "\u001b[1;31mView Jupyter <a href='command:jupyter.viewOutput'>log</a> for further details."
     ]
    },
    {
     "ename": "",
     "evalue": "",
     "output_type": "error",
     "traceback": [
      "\u001b[1;31mnotebook controller is DISPOSED. \n",
      "\u001b[1;31mView Jupyter <a href='command:jupyter.viewOutput'>log</a> for further details."
     ]
    }
   ],
   "source": [
    "#2 größten ausreißer\n",
    "df_results.groupby([\"TEST_ITEM_COMMUNICATIONKEY\"]).mean().sort_values(\"RMSE\", ascending=False).reset_index()[[\"TEST_ITEM_COMMUNICATIONKEY\", \"RMSE\"]]"
   ]
  },
  {
   "cell_type": "code",
   "execution_count": null,
   "metadata": {},
   "outputs": [
    {
     "ename": "",
     "evalue": "",
     "output_type": "error",
     "traceback": [
      "\u001b[1;31mnotebook controller is DISPOSED. \n",
      "\u001b[1;31mView Jupyter <a href='command:jupyter.viewOutput'>log</a> for further details."
     ]
    },
    {
     "ename": "",
     "evalue": "",
     "output_type": "error",
     "traceback": [
      "\u001b[1;31mnotebook controller is DISPOSED. \n",
      "\u001b[1;31mView Jupyter <a href='command:jupyter.viewOutput'>log</a> for further details."
     ]
    }
   ],
   "source": [
    "#wie kann ich für die vergleichbarkeit zwischen den test items sorgen? -> also im Bezug auf das Anspracheniveau\n",
    "\n",
    "# Bias Analyse\n",
    "#müssen wir einzeln abfragen -> Dann mit lineplot die entwicklung über die twin_nr zeigen\n",
    "\n",
    "#Beobachtungen: mit block size wächst variance (block size = sind alles die besten , block size max alles die schlechtesten)\n",
    "#-> spiegelt sich deshalb auch im rmse wieder\n",
    "# ähnliches gilt für den bias, aber nicht so konsistent durchweg, also es gibt auch ausreißer, die auf kleine Stichprobe zurückzuführen sind\n",
    "\n",
    "#RMSE Variance höher beim \n",
    "#MAPE ist block size 1 auch auffällig oft dabei, die anderen sind \n",
    "#MAE ist auch immer besser für niedrige block sizes, für block size ist es kind of random\n",
    "#Wasserstein niedrige block sizes besser, windows giga random (gefühlt ist hier hohe window size eher besser)\n",
    "\n",
    "#irgendwas anders, wenn ich den median statt den mean anschaue?\n",
    "\n",
    "#wichtige erkenntnis: obwohl die block size negativen einfluss hat und die window size bissel random ist -> besser als standard bootstrap ansatz\n",
    "\n",
    "#erkläreungen: wir haben nicht wirklich die autokorellation, weil die zeitreihe stationär sein müsste\n",
    "#blöcke sollen autokorrelation greifen ->  ist besser greifbar in stationären zeitreihen -> wir haben aber keine stationären zeitreihen\n",
    "# die wir hier nicht wirklich erfasst, wegen shifts in trend und variance\n",
    "\n",
    "#kern der Analyse sind ja eigentlich bias und variance -> plot der beiden als histogram -> bzw müssten wir den MAPE und den Coefficient of Variation (CV) ansehen (sind normalisiert)\n",
    "#cv: relative standard deviation, expressed as a percentage, np.std() / np.mean() * 100\n",
    "# we use std and not var -> dimensionless -> more intuitive to interpret\n"
   ]
  },
  {
   "cell_type": "markdown",
   "metadata": {},
   "source": [
    "# Normality test\n",
    "- clt is defined for iid data\n",
    "- distributions moments must be finite?\n",
    "- tune number of iteration until distribution is normal -> helps simplify methods of robust optimization"
   ]
  },
  {
   "cell_type": "code",
   "execution_count": null,
   "metadata": {},
   "outputs": [
    {
     "ename": "NameError",
     "evalue": "name 'results_simple' is not defined",
     "output_type": "error",
     "traceback": [
      "\u001b[0;31m---------------------------------------------------------------------------\u001b[0m",
      "\u001b[0;31mNameError\u001b[0m                                 Traceback (most recent call last)",
      "Cell \u001b[0;32mIn[13], line 4\u001b[0m\n\u001b[1;32m      1\u001b[0m fig, (ax1, ax2) \u001b[38;5;241m=\u001b[39m plt\u001b[38;5;241m.\u001b[39msubplots(\u001b[38;5;241m1\u001b[39m, \u001b[38;5;241m2\u001b[39m, figsize\u001b[38;5;241m=\u001b[39m(\u001b[38;5;241m12\u001b[39m, \u001b[38;5;241m5\u001b[39m))\n\u001b[1;32m      3\u001b[0m \u001b[38;5;66;03m# Plot the histogram\u001b[39;00m\n\u001b[0;32m----> 4\u001b[0m ax1\u001b[38;5;241m.\u001b[39mhist(\u001b[43mresults_simple\u001b[49m, bins\u001b[38;5;241m=\u001b[39m\u001b[38;5;241m50\u001b[39m, density\u001b[38;5;241m=\u001b[39m\u001b[38;5;28;01mTrue\u001b[39;00m, alpha\u001b[38;5;241m=\u001b[39m\u001b[38;5;241m0.6\u001b[39m, color\u001b[38;5;241m=\u001b[39m\u001b[38;5;124m'\u001b[39m\u001b[38;5;124mgrey\u001b[39m\u001b[38;5;124m'\u001b[39m, edgecolor\u001b[38;5;241m=\u001b[39m\u001b[38;5;124m'\u001b[39m\u001b[38;5;124mblack\u001b[39m\u001b[38;5;124m'\u001b[39m, label\u001b[38;5;241m=\u001b[39m\u001b[38;5;124m'\u001b[39m\u001b[38;5;124mBootstrap PDF\u001b[39m\u001b[38;5;124m'\u001b[39m)\n\u001b[1;32m      5\u001b[0m ax1\u001b[38;5;241m.\u001b[39mset_title(\u001b[38;5;124m'\u001b[39m\u001b[38;5;124mHistogram of Bootstrapped Values\u001b[39m\u001b[38;5;124m'\u001b[39m)\n\u001b[1;32m      6\u001b[0m ax1\u001b[38;5;241m.\u001b[39mset_xlabel(\u001b[38;5;124m'\u001b[39m\u001b[38;5;124mValue\u001b[39m\u001b[38;5;124m'\u001b[39m)\n",
      "\u001b[0;31mNameError\u001b[0m: name 'results_simple' is not defined"
     ]
    },
    {
     "data": {
      "image/png": "[encoded data removed]",
      "text/plain": [
       "<Figure size 1200x500 with 2 Axes>"
      ]
     },
     "metadata": {},
     "output_type": "display_data"
    },
    {
     "ename": "",
     "evalue": "",
     "output_type": "error",
     "traceback": [
      "\u001b[1;31mnotebook controller is DISPOSED. \n",
      "\u001b[1;31mView Jupyter <a href='command:jupyter.viewOutput'>log</a> for further details."
     ]
    },
    {
     "ename": "",
     "evalue": "",
     "output_type": "error",
     "traceback": [
      "\u001b[1;31mnotebook controller is DISPOSED. \n",
      "\u001b[1;31mView Jupyter <a href='command:jupyter.viewOutput'>log</a> for further details."
     ]
    }
   ],
   "source": [
    "fig, (ax1, ax2) = plt.subplots(1, 2, figsize=(12, 5))\n",
    "\n",
    "# Plot the histogram\n",
    "ax1.hist(results_simple, bins=50, density=True, alpha=0.6, color='grey', edgecolor='black', label='Bootstrap PDF')\n",
    "ax1.set_title('Histogram of Bootstrapped Values')\n",
    "ax1.set_xlabel('Value')\n",
    "ax1.set_ylabel('Density')\n",
    "\n",
    "# Remove top and right spines for the histogram\n",
    "ax1.spines['top'].set_visible(False)\n",
    "ax1.spines['right'].set_visible(False)\n",
    "\n",
    "# Calculate the normal PDF\n",
    "x = np.linspace(min(results_simple), max(results_simple), 100)\n",
    "normal_pdf = stats.norm.pdf(x, loc=np.mean(results_simple), scale=np.sqrt(np.var(results_simple, ddof = 1)))\n",
    "\n",
    "# Plot the normal PDF\n",
    "ax1.plot(x, normal_pdf, label='Normal PDF', color='black', linestyle='-')\n",
    "\n",
    "# Plot the empirical CDF\n",
    "data_sorted = np.sort(results_simple)\n",
    "# Calculate the ECDF values\n",
    "ecdf = np.arange(1, len(data_sorted) + 1) / len(data_sorted)\n",
    "ax2.plot(data_sorted, ecdf, marker='o', linestyle='none', color='grey', label='Bootstrap CDF')\n",
    "\n",
    "# Remove top and right spines for the CDF\n",
    "ax2.spines['top'].set_visible(False)\n",
    "ax2.spines['right'].set_visible(False)\n",
    "\n",
    "# Calculate the normal CDF\n",
    "normal_cdf = stats.norm.cdf(x, loc=np.mean(results_simple), scale=np.sqrt(np.var(results_simple, ddof = 1)))\n",
    "\n",
    "# Plot the normal CDF\n",
    "ax2.plot(x, normal_cdf, label='Normal CDF', color='black', linestyle='-')\n",
    "\n",
    "ax2.set_title('Empirical CDF vs Normal CDF')\n",
    "ax2.set_xlabel('Value')\n",
    "ax2.set_ylabel('Cumulative Probability')\n",
    "\n",
    "# Add legends\n",
    "ax1.legend()\n",
    "ax2.legend()\n",
    "\n",
    "plt.tight_layout()\n",
    "plt.savefig('plots/bootstrap_joint_distribution.svg')\n",
    "plt.show()\n"
   ]
  },
  {
   "cell_type": "code",
   "execution_count": null,
   "metadata": {},
   "outputs": [
    {
     "ename": "",
     "evalue": "",
     "output_type": "error",
     "traceback": [
      "\u001b[1;31mnotebook controller is DISPOSED. \n",
      "\u001b[1;31mView Jupyter <a href='command:jupyter.viewOutput'>log</a> for further details."
     ]
    },
    {
     "ename": "",
     "evalue": "",
     "output_type": "error",
     "traceback": [
      "\u001b[1;31mnotebook controller is DISPOSED. \n",
      "\u001b[1;31mView Jupyter <a href='command:jupyter.viewOutput'>log</a> for further details."
     ]
    }
   ],
   "source": [
    "#H0: the data is normally distributed\n",
    "#define alpha level\n",
    "alpha = 0.05"
   ]
  },
  {
   "cell_type": "code",
   "execution_count": null,
   "metadata": {},
   "outputs": [
    {
     "ename": "",
     "evalue": "",
     "output_type": "error",
     "traceback": [
      "\u001b[1;31mnotebook controller is DISPOSED. \n",
      "\u001b[1;31mView Jupyter <a href='command:jupyter.viewOutput'>log</a> for further details."
     ]
    },
    {
     "ename": "",
     "evalue": "",
     "output_type": "error",
     "traceback": [
      "\u001b[1;31mnotebook controller is DISPOSED. \n",
      "\u001b[1;31mView Jupyter <a href='command:jupyter.viewOutput'>log</a> for further details."
     ]
    }
   ],
   "source": [
    "#generate integer samples from normal distribution\n",
    "norm_samples = np.random.normal(50, 25, 100000).astype(int)"
   ]
  },
  {
   "cell_type": "code",
   "execution_count": null,
   "metadata": {},
   "outputs": [
    {
     "ename": "",
     "evalue": "",
     "output_type": "error",
     "traceback": [
      "\u001b[1;31mnotebook controller is DISPOSED. \n",
      "\u001b[1;31mView Jupyter <a href='command:jupyter.viewOutput'>log</a> for further details."
     ]
    },
    {
     "ename": "",
     "evalue": "",
     "output_type": "error",
     "traceback": [
      "\u001b[1;31mnotebook controller is DISPOSED. \n",
      "\u001b[1;31mView Jupyter <a href='command:jupyter.viewOutput'>log</a> for further details."
     ]
    }
   ],
   "source": [
    "norm_samples = np.random.normal(50, 5, 100000).astype(int)\n",
    "_, p_value = stats.normaltest(norm_samples)\n",
    "print(p_value)\n",
    "if p_value > alpha:\n",
    "    print(\"Fail to reject the null hypothesis: The data appears to be normally distributed.\")\n",
    "else:\n",
    "    print(\"Reject the null hypothesis: The data does NOT appear to be normally distributed.\")"
   ]
  },
  {
   "cell_type": "code",
   "execution_count": null,
   "metadata": {},
   "outputs": [
    {
     "ename": "",
     "evalue": "",
     "output_type": "error",
     "traceback": [
      "\u001b[1;31mnotebook controller is DISPOSED. \n",
      "\u001b[1;31mView Jupyter <a href='command:jupyter.viewOutput'>log</a> for further details."
     ]
    },
    {
     "ename": "",
     "evalue": "",
     "output_type": "error",
     "traceback": [
      "\u001b[1;31mnotebook controller is DISPOSED. \n",
      "\u001b[1;31mView Jupyter <a href='command:jupyter.viewOutput'>log</a> for further details."
     ]
    }
   ],
   "source": [
    "# Warning: for N > 5000, computed p-value may not be accurate.\n",
    "_, p_value = stats.shapiro(results_simple)\n",
    "print(p_value)\n",
    "if p_value > alpha:\n",
    "    print(\"Fail to reject the null hypothesis: The data appears to be normally distributed.\")\n",
    "else:\n",
    "    print(\"Reject the null hypothesis: The data does not appear to be normally distributed.\")"
   ]
  }
 ],
 "metadata": {
  "kernelspec": {
   "display_name": "diplom",
   "language": "python",
   "name": "python3"
  },
  "language_info": {
   "codemirror_mode": {
    "name": "ipython",
    "version": 3
   },
   "file_extension": ".py",
   "mimetype": "text/x-python",
   "name": "python",
   "nbconvert_exporter": "python",
   "pygments_lexer": "ipython3",
   "version": "3.9.21"
  }
 },
 "nbformat": 4,
 "nbformat_minor": 4
}
