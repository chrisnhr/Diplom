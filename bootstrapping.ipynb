{
 "cells": [
  {
   "cell_type": "code",
   "execution_count": 1,
   "metadata": {},
   "outputs": [],
   "source": [
    "import numpy as np\n",
    "import matplotlib.pyplot as plt\n",
    "import scipy.stats as stats\n",
    "import pandas as pd\n",
    "from google.cloud import bigquery as bq\n",
    "from tqdm.notebook import tqdm\n",
    "from joblib import Parallel, delayed\n",
    "from functools import cache"
   ]
  },
  {
   "cell_type": "code",
   "execution_count": null,
   "metadata": {},
   "outputs": [],
   "source": [
    "# TODO: evaluieren der korrekten window positionen unter zero indexing\n",
    "\n",
    "# FIXME: Kernel crashed immer: Daten in chunks packen und streamen, in python file ausführen\n",
    "\n",
    "# NOTE: NA printout currently disabled for debugging, must be looked into later, evaluate why identical bounds from paper are not robust to all parameter combinations\n",
    "#cache decorator makes the functions non pickleable -> find "
   ]
  },
  {
   "cell_type": "markdown",
   "metadata": {},
   "source": [
    "# Import Data"
   ]
  },
  {
   "cell_type": "code",
   "execution_count": 3,
   "metadata": {},
   "outputs": [],
   "source": [
    "class InputData:\n",
    "    project_id = \"brain-flash-dev\"\n",
    "    dataset_id = \"dagster_common\"\n",
    "    data_path = \"data\"\n",
    "\n",
    "    def __init__(self, file_name: str = \"twins_100\"):\n",
    "        \"\"\"Loads data from a CSV file and initializes unique communication keys.\"\"\"\n",
    "        self.data = pd.read_csv(f\"{self.data_path}/{file_name}.csv\")\n",
    "\n",
    "        self.TestData = {key : self.get_test_item(key) for key in self.data[\"TEST_ITEM_COMMUNICATIONKEY\"].unique()}\n",
    "        self.TwinData = {key : self.get_twin_item(key, 10) for key in self.data[\"TEST_ITEM_COMMUNICATIONKEY\"].unique()}\n",
    "    \n",
    "    @classmethod\n",
    "    def download_from_bq(cls, table_id: str = \"CN_data_to_fetch\", filename: str = \"twins_100\"):\n",
    "        \"\"\"Downloads data from BigQuery and saves it as a CSV file.\"\"\"\n",
    "        client = bq.Client(project=cls.project_id)\n",
    "        table_ref = f\"{cls.project_id}.{cls.dataset_id}.{table_id}\"\n",
    "        \n",
    "        query = f\"SELECT * FROM `{table_ref}`\"\n",
    "        df = client.query(query).to_dataframe()\n",
    "        df.to_csv(f\"{cls.data_path}/{filename}.csv\", index=False)\n",
    "\n",
    "    #@cache\n",
    "    def get_test_item(self, key: int) -> pd.DataFrame:\n",
    "        \"\"\"Retrieves test item data.\"\"\"\n",
    "        df = self.data.loc[\n",
    "            (self.data[\"TEST_ITEM_COMMUNICATIONKEY\"] == key) & \n",
    "            (self.data[\"TEST_ITEM_COMMUNICATIONKEY\"] == self.data[\"TWIN_ITEM_COMMUNICATIONKEY\"]),\n",
    "            [\"CALENDAR_DATE\", \"TWIN_ITEM_COMMUNICATIONKEY\", \"ANSPRACHE\"]\n",
    "        ].reset_index(drop=True)\n",
    "        \n",
    "        nan_count = df.isna().sum().sum()\n",
    "        if nan_count > 0:\n",
    "            print(f\"There are {nan_count} NaN values in the data which are replaced with 0s.\")\n",
    "            df.fillna(0, inplace=True)\n",
    "        \n",
    "        return df.pivot(index=\"CALENDAR_DATE\", columns=\"TWIN_ITEM_COMMUNICATIONKEY\", values=\"ANSPRACHE\")\n",
    "\n",
    "    #@cache\n",
    "    def get_twin_item(self, key: int, num_twins: int) -> pd.DataFrame:\n",
    "        \"\"\"Retrieves twin item data.\"\"\"\n",
    "        df = self.data.loc[\n",
    "            (self.data[\"TEST_ITEM_COMMUNICATIONKEY\"] == key) & \n",
    "            (self.data[\"TEST_ITEM_COMMUNICATIONKEY\"] != self.data[\"TWIN_ITEM_COMMUNICATIONKEY\"]),\n",
    "            [\"CALENDAR_DATE\", \"TWIN_ITEM_COMMUNICATIONKEY\", \"ANSPRACHE\"]\n",
    "        ].reset_index(drop=True)\n",
    "        \n",
    "        df = df.pivot(index=\"CALENDAR_DATE\", columns=\"TWIN_ITEM_COMMUNICATIONKEY\", values=\"ANSPRACHE\")\n",
    "        df = df.iloc[:, :num_twins]  # Reduce to the desired number of twin items\n",
    "        \n",
    "        nan_count = df.isna().sum().sum()\n",
    "        if nan_count > 0:\n",
    "            #print(f\"There are {nan_count} NaN values in the data which are replaced with 0s.\")\n",
    "            df.fillna(0, inplace=True)\n",
    "        return df"
   ]
  },
  {
   "cell_type": "markdown",
   "metadata": {},
   "source": [
    "# Bootstrap"
   ]
  },
  {
   "cell_type": "code",
   "execution_count": 4,
   "metadata": {},
   "outputs": [],
   "source": [
    "class Resampling:\n",
    "    num_samples = 50000 # maintained on class level to ensure comparability between experiments\n",
    "\n",
    "    @classmethod\n",
    "    def iid_bootstrap(cls, data: pd.DataFrame) -> pd.Series:\n",
    "        \"\"\"\n",
    "        müsste ich eigentlich auch durch den local Bootstrap mit B = 1 und b = 1 ersetzen können\n",
    "        Dann ist nur die indizierung scuffed, weil wir decimal numbers as startpuntke der intervalle haben\n",
    "        \"\"\"\n",
    "        \n",
    "        N, col = data.shape\n",
    "        # Precompute column choices for each bootstrap sample\n",
    "        row_choices = np.random.randint(N, size=(cls.num_samples, N))  # Shape: (num_samples, N)\n",
    "        col_choices = np.random.randint(col, size=(cls.num_samples, N))  # Shape: (num_samples, N)\n",
    "\n",
    "        # Extract sampled observations from data using NumPy advanced indexing\n",
    "        sampled_observations = data.values[row_choices, col_choices]  # Shape: (num_samples, N)\n",
    "\n",
    "        return pd.Series(np.sum(sampled_observations, axis=1), name=\"Bootstrap_Sums\")\n",
    "\n",
    "    @classmethod\n",
    "    def lb_bootstrap(cls, data: pd.DataFrame, window_size: int, b: int) -> pd.Series:\n",
    "        \"\"\"\n",
    "        Performs the Local Block Bootstrap (LBB) method from Paparoditis and Politis (2002) \n",
    "        in a vectorized manner with NumPy, adapted to work on multiple sample series.\n",
    "        \n",
    "        Parameters:\n",
    "        - data: pd.DataFrame -> Input time series data\n",
    "        - B: float -> Locality parameter to determine window size\n",
    "        - b: int -> Block size for bootstrapping\n",
    "        \n",
    "        Returns:\n",
    "        - pd.Series -> Summed bootstrap samples\n",
    "        \"\"\"\n",
    "        \n",
    "        N, col = data.shape\n",
    "\n",
    "        # Number of blocks\n",
    "        M = int(np.ceil(N / b))\n",
    "\n",
    "        # Precompute column choices for each bootstrap sample\n",
    "        col_choices = np.random.randint(col, size=(cls.num_samples, M))  # Shape: (num_samples, M)\n",
    "\n",
    "        # Compute Neighborhood window starting and ending indices for each block m\n",
    "        # Note: The -1 is necessary to convert from 1-based to 0-based indexing\n",
    "        # J_1m = np.maximum(1, np.arange(M) * b - 0.5*window_size)-1  # Shape: (M,)\n",
    "        # J_2m = np.minimum(np.arange(M) * b + 0.5*window_size, N - b + 1)-1  # Shape: (M,)\n",
    "\n",
    "        #Test: modified version des Papers -> robustes Grenzverhalten\n",
    "        J_1m = np.maximum(0, np.minimum(np.arange(M) * b - window_size/2, N-b - window_size/2)) # Shape: (M,)\n",
    "        J_2m = np.maximum(0, np.minimum(np.arange(M) * b + window_size/2, N-b))                 # Shape: (M,)\n",
    "\n",
    "\n",
    "        # Generate block starting indices for each block m\n",
    "        I_m = np.random.randint(J_1m, J_2m+1, size=(cls.num_samples, M))  # Shape: (num_samples, M), +1 to account for open interval\n",
    "\n",
    "        # Generate row index ranges for each block (vectorized)\n",
    "        row_ranges = I_m[:, :, None] + np.arange(b)  # Shape: (num_samples, M, b)\n",
    "\n",
    "        # Extract sampled blocks from data using NumPy advanced indexing\n",
    "        sampled_blocks = data.values[row_ranges, col_choices[:, :, None]]  # Shape: (num_samples, M, b)\n",
    "\n",
    "        # Flatten each sample into a 1D time series and truncate to length N\n",
    "        bootstrap_samples = sampled_blocks.reshape(cls.num_samples, -1)[:, :N]  # Shape: (num_samples, N)\n",
    "        #Christian: soll lieber Zeitreihe vorher auf Vielfaches von b kürzen, als unvollständige Blöcke zu verwenden\n",
    "\n",
    "        return pd.Series(np.sum(bootstrap_samples, axis=1), name=\"Bootstrap_Sums\")"
   ]
  },
  {
   "cell_type": "markdown",
   "metadata": {},
   "source": [
    "### Testing influence of parameters on window indexes"
   ]
  },
  {
   "cell_type": "code",
   "execution_count": 5,
   "metadata": {},
   "outputs": [
    {
     "name": "stdout",
     "output_type": "stream",
     "text": [
      "[  0.   0.   6.  13.  20.  27.  34.  41.  48.  55.  62.  69.  76.  83.\n",
      "  90.  97. 104. 111. 118. 125. 132. 139. 146. 153. 160. 167. 174. 181.\n",
      " 188. 195. 202. 209. 216. 223. 230. 237. 244. 251. 258. 265. 272. 279.\n",
      " 286. 293. 300. 307. 314. 321. 328. 335. 342. 349.]\n",
      "[  8.  15.  22.  29.  36.  43.  50.  57.  64.  71.  78.  85.  92.  99.\n",
      " 106. 113. 120. 127. 134. 141. 148. 155. 162. 169. 176. 183. 190. 197.\n",
      " 204. 211. 218. 225. 232. 239. 246. 253. 260. 267. 274. 281. 288. 295.\n",
      " 302. 309. 316. 323. 330. 337. 344. 351. 357. 357.]\n"
     ]
    },
    {
     "data": {
      "image/png": "[encoded data removed]",
      "text/plain": [
       "<Figure size 800x500 with 1 Axes>"
      ]
     },
     "metadata": {},
     "output_type": "display_data"
    }
   ],
   "source": [
    "\n",
    "N = 364\n",
    "b = 7\n",
    "w = 16\n",
    "M = int(np.ceil(N / b))\n",
    "\n",
    "# Compute J_1m and J_2m\n",
    "J_1m_values = np.maximum(0, np.minimum(np.arange(M) * b - w/2, N-b - w/2))# Shape: (M,)\n",
    "print(J_1m_values)\n",
    "J_2m_values = np.maximum(0, np.minimum(np.arange(M) * b + w/2, N-b))    # Shape: (M,)\n",
    "print(J_2m_values)\n",
    "\n",
    "# Compute the difference\n",
    "difference = J_2m_values - J_1m_values\n",
    "\n",
    "# Plot the difference\n",
    "plt.figure(figsize=(8, 5))\n",
    "plt.plot(range(M), difference, marker='o', linestyle='-', label='J_2m - J_1m')\n",
    "plt.xlabel('m')\n",
    "plt.ylabel('Difference')\n",
    "plt.title(f'Difference between J_2m and J_1m, satisfies J_1m < J_2m: {~np.any(J_1m_values >= J_2m_values)}')\n",
    "plt.show()"
   ]
  },
  {
   "cell_type": "markdown",
   "metadata": {},
   "source": [
    "# Metrics\n",
    "Mathematical formulation for discrete Wasserstein Distance, with $q$ being the quantiles:\n",
    "$$\n",
    "W_p(\\mu_1, \\mu_2) = \\left( \\int_0^1 \\left| F_1^{-1}(q) - F_2^{-1}(q) \\right|^p \\, dq \\right)^{\\frac{1}{p}}\n",
    "$$\n"
   ]
  },
  {
   "cell_type": "code",
   "execution_count": 6,
   "metadata": {},
   "outputs": [],
   "source": [
    "class Metrics:\n",
    "\n",
    "    @staticmethod\n",
    "    def mse(test_item_series: pd.Series, bootstrap_samples: pd.Series) -> float:\n",
    "        \"\"\"\n",
    "        Computes the Mean Squared Error (MSE) as decomposed into bias^2 and variance.\n",
    "        \n",
    "        Parameters:\n",
    "        - test_item_series: The ground truth value for comparison (assumed seasonal demand sum).\n",
    "        - bootstrap_samples: A Pandas Series of bootstrap sample estimates.\n",
    "        \n",
    "        Returns:\n",
    "        - MSE value as a float.\n",
    "        \"\"\"\n",
    "        season_demand = np.sum(test_item_series, axis=0)\n",
    "        bias = (np.mean(bootstrap_samples) - season_demand) ** 2\n",
    "        \n",
    "        variance = np.var(bootstrap_samples, ddof=1)  # Using sample variance (ddof=1 for unbiased estimator)\n",
    "        \n",
    "        mse = bias + variance\n",
    "        return mse\n",
    "    \n",
    "    @staticmethod\n",
    "    def mape(test_item_series: pd.Series, bootstrap_samples: pd.Series) -> float:\n",
    "        \"\"\"\n",
    "        Computes the Mean Absolute Percentage Error (MAPE) as a percentage value.\n",
    "        \"\"\"\n",
    "        season_demand = np.sum(test_item_series, axis=0)\n",
    "        return np.mean(np.abs(bootstrap_samples - season_demand) / season_demand) * 100\n",
    "\n",
    "    @staticmethod\n",
    "    def mae(test_item_series: pd.Series, bootstrap_samples: pd.Series) -> float:\n",
    "        \"\"\"\n",
    "        Computes the Mean Absolute Error (MAE).\n",
    "        \"\"\"\n",
    "        season_demand = np.sum(test_item_series, axis=0)\n",
    "        return np.mean(np.abs(bootstrap_samples - season_demand))\n",
    "\n",
    "    @staticmethod\n",
    "    def discrete_wasserstein(dist1: pd.Series, dist2:pd.Series, p: int= 2) -> float:\n",
    "        \"\"\"\n",
    "        Compute the p-Wasserstein distance between two discrete one dimensional distributions.\n",
    "        own implementation bc wasserstein distance in stats package is only defined for the first order\n",
    "\n",
    "\n",
    "        Parameters:\n",
    "        - dist1: np.array, first distribution samples\n",
    "        - dist2: np.array, second distribution samples\n",
    "        - p: int, order of Wasserstein distance\n",
    "        \n",
    "        Returns:\n",
    "        - Wasserstein-p distance (float)\n",
    "        \"\"\"\n",
    "        dist1_sorted = np.sort(dist1)\n",
    "        dist2_sorted = np.sort(dist2)\n",
    "\n",
    "        return np.power(np.sum(np.abs(dist1_sorted - dist2_sorted) ** p) / len(dist1), 1 / p)"
   ]
  },
  {
   "cell_type": "markdown",
   "metadata": {},
   "source": [
    "### Parameter Evaluation"
   ]
  },
  {
   "cell_type": "code",
   "execution_count": 7,
   "metadata": {},
   "outputs": [],
   "source": [
    "from itertools import chain"
   ]
  },
  {
   "cell_type": "code",
   "execution_count": null,
   "metadata": {},
   "outputs": [],
   "source": [
    "class ParameterTuning:\n",
    "\n",
    "    input_data = InputData()\n",
    "    max_block_size = 30\n",
    "    max_window_size = 60\n",
    "    max_twin_num = 10\n",
    "\n",
    "    @classmethod\n",
    "    def generate_grid(cls):\n",
    "        \"\"\"\n",
    "        Generate a grid of parameters for the Local Block Bootstrap method.\n",
    "        \"\"\"    #create an array of length 10 with only 1s\n",
    "        twin_nums = np.ones(10, dtype=int)\n",
    "        block_sizes = np.arange(1, cls.max_block_size + 1, 3 )\n",
    "        window_size = np.arange(2, cls.max_window_size + 1 , 4)\n",
    "\n",
    "        return [(w, b, cls.max_twin_num) for w in window_size for b in block_sizes]\n",
    "\n",
    "    @classmethod\n",
    "    def iid_grid_samples(cls):\n",
    "\n",
    "        results = []\n",
    "        for test_item_key in tqdm(cls.input_data.TwinData.keys(), desc= \"Test Items\"):\n",
    "            for params in tqdm(cls.generate_grid(), desc = \"Parameter Grid\", leave = False):\n",
    "                results.append(\n",
    "                    {\n",
    "                        \"TEST_ITEM_COMMUNICATIONKEY\": test_item_key,\n",
    "                        \"window_size\": params[0],\n",
    "                        \"block_size\": params[1],\n",
    "                        \"num_twins\": params[2],\n",
    "                        \"Sample_Series\": Resampling.iid_bootstrap(cls.input_data.TwinData[test_item_key])\n",
    "                    }\n",
    "                )\n",
    "\n",
    "        return pd.DataFrame(results)\n",
    "\n",
    "    @classmethod\n",
    "    def lbb_grid_samples(cls):\n",
    "        \"\"\"\n",
    "        Perform parallelized sample generation with the parameter grid as the outer loop.\n",
    "        cache testdata before parallelization -> cache decorator makes it impossible to pickle the function\n",
    "        test with inner and outer loops the grid ws memor funcito\n",
    "        \"\"\"\n",
    "\n",
    "        # ✅ Extract parameter grid first (outer loop)\n",
    "        param_grid = [(w, b, cls.max_twin_num) for w in cls.window_size for b in cls.block_sizes]\n",
    "\n",
    "        # ✅ Extract raw test item keys before parallelization\n",
    "        test_items = cls.input_data.TwinData.keys()  # Picklable list\n",
    "\n",
    "        # ✅ Define a function that only uses picklable objects\n",
    "        def sampling_process(params):\n",
    "            w, b, num_twins = params\n",
    "\n",
    "            # Process all test items for a given parameter set\n",
    "            return [\n",
    "                {\n",
    "                    \"TEST_ITEM_COMMUNICATIONKEY\": test_item_key,\n",
    "                    \"window_size\": w,\n",
    "                    \"block_size\": b,\n",
    "                    \"num_twins\": num_twins,\n",
    "                    #\"Samples\": Resampling.lb_bootstrap(cls.input_data.get_twin_item(test_item_key, num_twins), w, b)\n",
    "                    \"Samples\": Resampling.lb_bootstrap(cls.input_data.TwinData[test_item_key], w, b)\n",
    "                }\n",
    "                for test_item_key in test_items\n",
    "            ]\n",
    "\n",
    "        # ✅ Run parallel execution with only picklable arguments\n",
    "        results_list = Parallel(n_jobs=3, backend=\"loky\")(\n",
    "            delayed(sampling_process)(params) for params in tqdm(param_grid, desc=\"Parallel Processing\")\n",
    "        )\n",
    "\n",
    "        # ✅ Flatten results efficiently\n",
    "        results_flat = list(chain.from_iterable(results_list))\n",
    "\n",
    "        return pd.DataFrame(results_flat)\n",
    "    \n",
    "    @classmethod\n",
    "    def sampling_process(cls, params):\n",
    "        w, b, num_twins = params\n",
    "        batch_results = []\n",
    "\n",
    "        for i, test_item_key in enumerate(cls.input_data.TwinData.keys()):\n",
    "            batch_results.append(\n",
    "                {\n",
    "                    \"TEST_ITEM_COMMUNICATIONKEY\": test_item_key,\n",
    "                    \"window_size\": w,\n",
    "                    \"block_size\": b,\n",
    "                    \"num_twins\": num_twins,\n",
    "                    \"Samples\": Resampling.lb_bootstrap(cls.input_data.TwinData[test_item_key], w, b)\n",
    "                }\n",
    "            )\n",
    "\n",
    "            # ✅ Flush to disk every 5 items\n",
    "            if i % 5 == 0:\n",
    "                pd.DataFrame(batch_results).to_csv(\"lbb_results.csv\", mode=\"a\", header=False, index=False)\n",
    "                batch_results = []  # Clear memory\n",
    "\n",
    "        return batch_results"
   ]
  },
  {
   "cell_type": "code",
   "execution_count": 9,
   "metadata": {},
   "outputs": [
    {
     "data": {
      "application/vnd.jupyter.widget-view+json": {
       "model_id": "a1b34162e1b949f8bf2065f4339ef5f1",
       "version_major": 2,
       "version_minor": 0
      },
      "text/plain": [
       "Test Items:   0%|          | 0/100 [00:00<?, ?it/s]"
      ]
     },
     "metadata": {},
     "output_type": "display_data"
    },
    {
     "data": {
      "application/vnd.jupyter.widget-view+json": {
       "model_id": "b48096bc45aa42779deff78c0483acab",
       "version_major": 2,
       "version_minor": 0
      },
      "text/plain": [
       "Parameter Grid:   0%|          | 0/150 [00:00<?, ?it/s]"
      ]
     },
     "metadata": {},
     "output_type": "display_data"
    },
    {
     "data": {
      "application/vnd.jupyter.widget-view+json": {
       "model_id": "baee2f9ec9c847a58e00b135dc3112a1",
       "version_major": 2,
       "version_minor": 0
      },
      "text/plain": [
       "Parameter Grid:   0%|          | 0/150 [00:00<?, ?it/s]"
      ]
     },
     "metadata": {},
     "output_type": "display_data"
    },
    {
     "data": {
      "application/vnd.jupyter.widget-view+json": {
       "model_id": "89e2f6d07d244da2897ca74becced027",
       "version_major": 2,
       "version_minor": 0
      },
      "text/plain": [
       "Parameter Grid:   0%|          | 0/150 [00:00<?, ?it/s]"
      ]
     },
     "metadata": {},
     "output_type": "display_data"
    },
    {
     "data": {
      "application/vnd.jupyter.widget-view+json": {
       "model_id": "4019b112f6934733ac6faa7339dd5c07",
       "version_major": 2,
       "version_minor": 0
      },
      "text/plain": [
       "Parameter Grid:   0%|          | 0/150 [00:00<?, ?it/s]"
      ]
     },
     "metadata": {},
     "output_type": "display_data"
    },
    {
     "data": {
      "application/vnd.jupyter.widget-view+json": {
       "model_id": "7102716afaf6446ba97a35605e373716",
       "version_major": 2,
       "version_minor": 0
      },
      "text/plain": [
       "Parameter Grid:   0%|          | 0/150 [00:00<?, ?it/s]"
      ]
     },
     "metadata": {},
     "output_type": "display_data"
    },
    {
     "data": {
      "application/vnd.jupyter.widget-view+json": {
       "model_id": "7ed141d12e1649c18e6b2b1cbdcb3c36",
       "version_major": 2,
       "version_minor": 0
      },
      "text/plain": [
       "Parameter Grid:   0%|          | 0/150 [00:00<?, ?it/s]"
      ]
     },
     "metadata": {},
     "output_type": "display_data"
    },
    {
     "data": {
      "application/vnd.jupyter.widget-view+json": {
       "model_id": "ec652349ca1b4f758b6ba6dcaea93e0a",
       "version_major": 2,
       "version_minor": 0
      },
      "text/plain": [
       "Parameter Grid:   0%|          | 0/150 [00:00<?, ?it/s]"
      ]
     },
     "metadata": {},
     "output_type": "display_data"
    },
    {
     "data": {
      "application/vnd.jupyter.widget-view+json": {
       "model_id": "b47fe6fd988e43b1803ac9e1369bd6b5",
       "version_major": 2,
       "version_minor": 0
      },
      "text/plain": [
       "Parameter Grid:   0%|          | 0/150 [00:00<?, ?it/s]"
      ]
     },
     "metadata": {},
     "output_type": "display_data"
    },
    {
     "data": {
      "application/vnd.jupyter.widget-view+json": {
       "model_id": "d83bf8b4ed1d472c8b907cae80ee883a",
       "version_major": 2,
       "version_minor": 0
      },
      "text/plain": [
       "Parameter Grid:   0%|          | 0/150 [00:00<?, ?it/s]"
      ]
     },
     "metadata": {},
     "output_type": "display_data"
    },
    {
     "data": {
      "application/vnd.jupyter.widget-view+json": {
       "model_id": "d1dcccb74a2d46f5b296ecd85665c23b",
       "version_major": 2,
       "version_minor": 0
      },
      "text/plain": [
       "Parameter Grid:   0%|          | 0/150 [00:00<?, ?it/s]"
      ]
     },
     "metadata": {},
     "output_type": "display_data"
    },
    {
     "data": {
      "application/vnd.jupyter.widget-view+json": {
       "model_id": "b52ee614fd884623b7e59eb1fb22e74e",
       "version_major": 2,
       "version_minor": 0
      },
      "text/plain": [
       "Parameter Grid:   0%|          | 0/150 [00:00<?, ?it/s]"
      ]
     },
     "metadata": {},
     "output_type": "display_data"
    },
    {
     "data": {
      "application/vnd.jupyter.widget-view+json": {
       "model_id": "d359829f33e944348030e9cf5d2a6c8c",
       "version_major": 2,
       "version_minor": 0
      },
      "text/plain": [
       "Parameter Grid:   0%|          | 0/150 [00:00<?, ?it/s]"
      ]
     },
     "metadata": {},
     "output_type": "display_data"
    },
    {
     "data": {
      "application/vnd.jupyter.widget-view+json": {
       "model_id": "30a2dfca1ad24b91860f21c78c8e9094",
       "version_major": 2,
       "version_minor": 0
      },
      "text/plain": [
       "Parameter Grid:   0%|          | 0/150 [00:00<?, ?it/s]"
      ]
     },
     "metadata": {},
     "output_type": "display_data"
    },
    {
     "data": {
      "application/vnd.jupyter.widget-view+json": {
       "model_id": "569257a6f44c4a9380e16267d8d5260b",
       "version_major": 2,
       "version_minor": 0
      },
      "text/plain": [
       "Parameter Grid:   0%|          | 0/150 [00:00<?, ?it/s]"
      ]
     },
     "metadata": {},
     "output_type": "display_data"
    },
    {
     "data": {
      "application/vnd.jupyter.widget-view+json": {
       "model_id": "a4a01ae1540342f5b510ace9ac41a9d4",
       "version_major": 2,
       "version_minor": 0
      },
      "text/plain": [
       "Parameter Grid:   0%|          | 0/150 [00:00<?, ?it/s]"
      ]
     },
     "metadata": {},
     "output_type": "display_data"
    },
    {
     "data": {
      "application/vnd.jupyter.widget-view+json": {
       "model_id": "54d0f58a5bb94888a0730abe226550c8",
       "version_major": 2,
       "version_minor": 0
      },
      "text/plain": [
       "Parameter Grid:   0%|          | 0/150 [00:00<?, ?it/s]"
      ]
     },
     "metadata": {},
     "output_type": "display_data"
    },
    {
     "data": {
      "application/vnd.jupyter.widget-view+json": {
       "model_id": "d944ec443ee14b1b886536bf6f8b83c3",
       "version_major": 2,
       "version_minor": 0
      },
      "text/plain": [
       "Parameter Grid:   0%|          | 0/150 [00:00<?, ?it/s]"
      ]
     },
     "metadata": {},
     "output_type": "display_data"
    },
    {
     "data": {
      "application/vnd.jupyter.widget-view+json": {
       "model_id": "cb89ff7634c44ce6a70815dbfaedac43",
       "version_major": 2,
       "version_minor": 0
      },
      "text/plain": [
       "Parameter Grid:   0%|          | 0/150 [00:00<?, ?it/s]"
      ]
     },
     "metadata": {},
     "output_type": "display_data"
    },
    {
     "data": {
      "application/vnd.jupyter.widget-view+json": {
       "model_id": "4bb57b6ac49a41dbba27c97ff369afb3",
       "version_major": 2,
       "version_minor": 0
      },
      "text/plain": [
       "Parameter Grid:   0%|          | 0/150 [00:00<?, ?it/s]"
      ]
     },
     "metadata": {},
     "output_type": "display_data"
    },
    {
     "data": {
      "application/vnd.jupyter.widget-view+json": {
       "model_id": "5c6de77e801249618552564c087c67bd",
       "version_major": 2,
       "version_minor": 0
      },
      "text/plain": [
       "Parameter Grid:   0%|          | 0/150 [00:00<?, ?it/s]"
      ]
     },
     "metadata": {},
     "output_type": "display_data"
    },
    {
     "data": {
      "application/vnd.jupyter.widget-view+json": {
       "model_id": "3bba32be8b6b4f85837c973ea4ecf4f4",
       "version_major": 2,
       "version_minor": 0
      },
      "text/plain": [
       "Parameter Grid:   0%|          | 0/150 [00:00<?, ?it/s]"
      ]
     },
     "metadata": {},
     "output_type": "display_data"
    },
    {
     "data": {
      "application/vnd.jupyter.widget-view+json": {
       "model_id": "df740fe3fa6f4ca08da6091215a70054",
       "version_major": 2,
       "version_minor": 0
      },
      "text/plain": [
       "Parameter Grid:   0%|          | 0/150 [00:00<?, ?it/s]"
      ]
     },
     "metadata": {},
     "output_type": "display_data"
    },
    {
     "data": {
      "application/vnd.jupyter.widget-view+json": {
       "model_id": "a2ca9129657846448204f7d900abaac9",
       "version_major": 2,
       "version_minor": 0
      },
      "text/plain": [
       "Parameter Grid:   0%|          | 0/150 [00:00<?, ?it/s]"
      ]
     },
     "metadata": {},
     "output_type": "display_data"
    },
    {
     "data": {
      "application/vnd.jupyter.widget-view+json": {
       "model_id": "411daa0deade4a4ba2638b3182aa237e",
       "version_major": 2,
       "version_minor": 0
      },
      "text/plain": [
       "Parameter Grid:   0%|          | 0/150 [00:00<?, ?it/s]"
      ]
     },
     "metadata": {},
     "output_type": "display_data"
    },
    {
     "data": {
      "application/vnd.jupyter.widget-view+json": {
       "model_id": "5144e493d9bd4c5c950c9b1c3c3a6333",
       "version_major": 2,
       "version_minor": 0
      },
      "text/plain": [
       "Parameter Grid:   0%|          | 0/150 [00:00<?, ?it/s]"
      ]
     },
     "metadata": {},
     "output_type": "display_data"
    },
    {
     "data": {
      "application/vnd.jupyter.widget-view+json": {
       "model_id": "4f1d1b7ba5144c329e6f93c3c47f871f",
       "version_major": 2,
       "version_minor": 0
      },
      "text/plain": [
       "Parameter Grid:   0%|          | 0/150 [00:00<?, ?it/s]"
      ]
     },
     "metadata": {},
     "output_type": "display_data"
    },
    {
     "data": {
      "application/vnd.jupyter.widget-view+json": {
       "model_id": "86f098908478421bb64cd07776bbb8c1",
       "version_major": 2,
       "version_minor": 0
      },
      "text/plain": [
       "Parameter Grid:   0%|          | 0/150 [00:00<?, ?it/s]"
      ]
     },
     "metadata": {},
     "output_type": "display_data"
    },
    {
     "data": {
      "application/vnd.jupyter.widget-view+json": {
       "model_id": "501e55b8a660494eb918f5d912b30d71",
       "version_major": 2,
       "version_minor": 0
      },
      "text/plain": [
       "Parameter Grid:   0%|          | 0/150 [00:00<?, ?it/s]"
      ]
     },
     "metadata": {},
     "output_type": "display_data"
    },
    {
     "data": {
      "application/vnd.jupyter.widget-view+json": {
       "model_id": "3d7f486f718244ffbfdc4123f2066f23",
       "version_major": 2,
       "version_minor": 0
      },
      "text/plain": [
       "Parameter Grid:   0%|          | 0/150 [00:00<?, ?it/s]"
      ]
     },
     "metadata": {},
     "output_type": "display_data"
    },
    {
     "data": {
      "application/vnd.jupyter.widget-view+json": {
       "model_id": "e84b42ae0cfe484eab9fd39e30a131e7",
       "version_major": 2,
       "version_minor": 0
      },
      "text/plain": [
       "Parameter Grid:   0%|          | 0/150 [00:00<?, ?it/s]"
      ]
     },
     "metadata": {},
     "output_type": "display_data"
    },
    {
     "data": {
      "application/vnd.jupyter.widget-view+json": {
       "model_id": "1ae77e0897944386a413d17a3b3dd9d4",
       "version_major": 2,
       "version_minor": 0
      },
      "text/plain": [
       "Parameter Grid:   0%|          | 0/150 [00:00<?, ?it/s]"
      ]
     },
     "metadata": {},
     "output_type": "display_data"
    },
    {
     "data": {
      "application/vnd.jupyter.widget-view+json": {
       "model_id": "eabeb9a8d0af4e65a372ce4086faeb15",
       "version_major": 2,
       "version_minor": 0
      },
      "text/plain": [
       "Parameter Grid:   0%|          | 0/150 [00:00<?, ?it/s]"
      ]
     },
     "metadata": {},
     "output_type": "display_data"
    },
    {
     "data": {
      "application/vnd.jupyter.widget-view+json": {
       "model_id": "ccfb75e210fe4a9391bc253e03dd080f",
       "version_major": 2,
       "version_minor": 0
      },
      "text/plain": [
       "Parameter Grid:   0%|          | 0/150 [00:00<?, ?it/s]"
      ]
     },
     "metadata": {},
     "output_type": "display_data"
    },
    {
     "data": {
      "application/vnd.jupyter.widget-view+json": {
       "model_id": "ed6838f3b6cb4af2a7ec595c429f2860",
       "version_major": 2,
       "version_minor": 0
      },
      "text/plain": [
       "Parameter Grid:   0%|          | 0/150 [00:00<?, ?it/s]"
      ]
     },
     "metadata": {},
     "output_type": "display_data"
    },
    {
     "data": {
      "application/vnd.jupyter.widget-view+json": {
       "model_id": "e33acdddb8684155a4474e6c0e53381d",
       "version_major": 2,
       "version_minor": 0
      },
      "text/plain": [
       "Parameter Grid:   0%|          | 0/150 [00:00<?, ?it/s]"
      ]
     },
     "metadata": {},
     "output_type": "display_data"
    },
    {
     "data": {
      "application/vnd.jupyter.widget-view+json": {
       "model_id": "2c0e5913d09349d7b87a713084506c52",
       "version_major": 2,
       "version_minor": 0
      },
      "text/plain": [
       "Parameter Grid:   0%|          | 0/150 [00:00<?, ?it/s]"
      ]
     },
     "metadata": {},
     "output_type": "display_data"
    },
    {
     "data": {
      "application/vnd.jupyter.widget-view+json": {
       "model_id": "26bd38ba1762434d85ad76bc68766588",
       "version_major": 2,
       "version_minor": 0
      },
      "text/plain": [
       "Parameter Grid:   0%|          | 0/150 [00:00<?, ?it/s]"
      ]
     },
     "metadata": {},
     "output_type": "display_data"
    },
    {
     "data": {
      "application/vnd.jupyter.widget-view+json": {
       "model_id": "d59f031af2f04a83850d0e522bd6e14f",
       "version_major": 2,
       "version_minor": 0
      },
      "text/plain": [
       "Parameter Grid:   0%|          | 0/150 [00:00<?, ?it/s]"
      ]
     },
     "metadata": {},
     "output_type": "display_data"
    },
    {
     "data": {
      "application/vnd.jupyter.widget-view+json": {
       "model_id": "f5a959f50f854b159ec29d57e2980523",
       "version_major": 2,
       "version_minor": 0
      },
      "text/plain": [
       "Parameter Grid:   0%|          | 0/150 [00:00<?, ?it/s]"
      ]
     },
     "metadata": {},
     "output_type": "display_data"
    },
    {
     "data": {
      "application/vnd.jupyter.widget-view+json": {
       "model_id": "46bd58525f2e4482bef290c45e61a1a1",
       "version_major": 2,
       "version_minor": 0
      },
      "text/plain": [
       "Parameter Grid:   0%|          | 0/150 [00:00<?, ?it/s]"
      ]
     },
     "metadata": {},
     "output_type": "display_data"
    },
    {
     "data": {
      "application/vnd.jupyter.widget-view+json": {
       "model_id": "5f2467f8e961487e806cc76550644495",
       "version_major": 2,
       "version_minor": 0
      },
      "text/plain": [
       "Parameter Grid:   0%|          | 0/150 [00:00<?, ?it/s]"
      ]
     },
     "metadata": {},
     "output_type": "display_data"
    },
    {
     "data": {
      "application/vnd.jupyter.widget-view+json": {
       "model_id": "d77640bcfa3947368f632361395ba054",
       "version_major": 2,
       "version_minor": 0
      },
      "text/plain": [
       "Parameter Grid:   0%|          | 0/150 [00:00<?, ?it/s]"
      ]
     },
     "metadata": {},
     "output_type": "display_data"
    },
    {
     "data": {
      "application/vnd.jupyter.widget-view+json": {
       "model_id": "0e833c3373b9468c8d8c970b6a3dc74a",
       "version_major": 2,
       "version_minor": 0
      },
      "text/plain": [
       "Parameter Grid:   0%|          | 0/150 [00:00<?, ?it/s]"
      ]
     },
     "metadata": {},
     "output_type": "display_data"
    },
    {
     "data": {
      "application/vnd.jupyter.widget-view+json": {
       "model_id": "7eca4780946c40429d5e5b800f7be308",
       "version_major": 2,
       "version_minor": 0
      },
      "text/plain": [
       "Parameter Grid:   0%|          | 0/150 [00:00<?, ?it/s]"
      ]
     },
     "metadata": {},
     "output_type": "display_data"
    },
    {
     "data": {
      "application/vnd.jupyter.widget-view+json": {
       "model_id": "e556c00c6f4241ba9418fd8638ad2ac2",
       "version_major": 2,
       "version_minor": 0
      },
      "text/plain": [
       "Parameter Grid:   0%|          | 0/150 [00:00<?, ?it/s]"
      ]
     },
     "metadata": {},
     "output_type": "display_data"
    },
    {
     "data": {
      "application/vnd.jupyter.widget-view+json": {
       "model_id": "657b4d41371c4bd387972a62f5a2b542",
       "version_major": 2,
       "version_minor": 0
      },
      "text/plain": [
       "Parameter Grid:   0%|          | 0/150 [00:00<?, ?it/s]"
      ]
     },
     "metadata": {},
     "output_type": "display_data"
    },
    {
     "data": {
      "application/vnd.jupyter.widget-view+json": {
       "model_id": "9a75841a285f4c44bdccf912b0b98224",
       "version_major": 2,
       "version_minor": 0
      },
      "text/plain": [
       "Parameter Grid:   0%|          | 0/150 [00:00<?, ?it/s]"
      ]
     },
     "metadata": {},
     "output_type": "display_data"
    },
    {
     "data": {
      "application/vnd.jupyter.widget-view+json": {
       "model_id": "176b08782fb04a3995480f95d073ae5b",
       "version_major": 2,
       "version_minor": 0
      },
      "text/plain": [
       "Parameter Grid:   0%|          | 0/150 [00:00<?, ?it/s]"
      ]
     },
     "metadata": {},
     "output_type": "display_data"
    },
    {
     "data": {
      "application/vnd.jupyter.widget-view+json": {
       "model_id": "a679ad7f78f64adb871525ef0a43c14f",
       "version_major": 2,
       "version_minor": 0
      },
      "text/plain": [
       "Parameter Grid:   0%|          | 0/150 [00:00<?, ?it/s]"
      ]
     },
     "metadata": {},
     "output_type": "display_data"
    },
    {
     "data": {
      "application/vnd.jupyter.widget-view+json": {
       "model_id": "5b395e380bfe4a73a14d3cc9abcb4dc8",
       "version_major": 2,
       "version_minor": 0
      },
      "text/plain": [
       "Parameter Grid:   0%|          | 0/150 [00:00<?, ?it/s]"
      ]
     },
     "metadata": {},
     "output_type": "display_data"
    },
    {
     "data": {
      "application/vnd.jupyter.widget-view+json": {
       "model_id": "07c9b0ee3f944c7eb008f93430502ee6",
       "version_major": 2,
       "version_minor": 0
      },
      "text/plain": [
       "Parameter Grid:   0%|          | 0/150 [00:00<?, ?it/s]"
      ]
     },
     "metadata": {},
     "output_type": "display_data"
    },
    {
     "data": {
      "application/vnd.jupyter.widget-view+json": {
       "model_id": "67383261231e4270a5f3564ee6eddd39",
       "version_major": 2,
       "version_minor": 0
      },
      "text/plain": [
       "Parameter Grid:   0%|          | 0/150 [00:00<?, ?it/s]"
      ]
     },
     "metadata": {},
     "output_type": "display_data"
    },
    {
     "data": {
      "application/vnd.jupyter.widget-view+json": {
       "model_id": "0bcc2373745444eebfce4ecb161f0ac6",
       "version_major": 2,
       "version_minor": 0
      },
      "text/plain": [
       "Parameter Grid:   0%|          | 0/150 [00:00<?, ?it/s]"
      ]
     },
     "metadata": {},
     "output_type": "display_data"
    },
    {
     "data": {
      "application/vnd.jupyter.widget-view+json": {
       "model_id": "cfa714efbd6840b697d5b8d0d92bb3f5",
       "version_major": 2,
       "version_minor": 0
      },
      "text/plain": [
       "Parameter Grid:   0%|          | 0/150 [00:00<?, ?it/s]"
      ]
     },
     "metadata": {},
     "output_type": "display_data"
    },
    {
     "data": {
      "application/vnd.jupyter.widget-view+json": {
       "model_id": "ed7deff0fa924fda931beaeed79ebc92",
       "version_major": 2,
       "version_minor": 0
      },
      "text/plain": [
       "Parameter Grid:   0%|          | 0/150 [00:00<?, ?it/s]"
      ]
     },
     "metadata": {},
     "output_type": "display_data"
    },
    {
     "data": {
      "application/vnd.jupyter.widget-view+json": {
       "model_id": "f7a92aff234c4d36aa75ed6ade059fe7",
       "version_major": 2,
       "version_minor": 0
      },
      "text/plain": [
       "Parameter Grid:   0%|          | 0/150 [00:00<?, ?it/s]"
      ]
     },
     "metadata": {},
     "output_type": "display_data"
    },
    {
     "data": {
      "application/vnd.jupyter.widget-view+json": {
       "model_id": "0b5ddd1fc1f941149f953572b45113fc",
       "version_major": 2,
       "version_minor": 0
      },
      "text/plain": [
       "Parameter Grid:   0%|          | 0/150 [00:00<?, ?it/s]"
      ]
     },
     "metadata": {},
     "output_type": "display_data"
    },
    {
     "data": {
      "application/vnd.jupyter.widget-view+json": {
       "model_id": "c3ae26e32e1549f4b1a5b620655b99b5",
       "version_major": 2,
       "version_minor": 0
      },
      "text/plain": [
       "Parameter Grid:   0%|          | 0/150 [00:00<?, ?it/s]"
      ]
     },
     "metadata": {},
     "output_type": "display_data"
    },
    {
     "data": {
      "application/vnd.jupyter.widget-view+json": {
       "model_id": "333b644a81c346d5b413d5eac5b014c8",
       "version_major": 2,
       "version_minor": 0
      },
      "text/plain": [
       "Parameter Grid:   0%|          | 0/150 [00:00<?, ?it/s]"
      ]
     },
     "metadata": {},
     "output_type": "display_data"
    },
    {
     "data": {
      "application/vnd.jupyter.widget-view+json": {
       "model_id": "2dff07a0436f42d9bad9d3d69e3ad223",
       "version_major": 2,
       "version_minor": 0
      },
      "text/plain": [
       "Parameter Grid:   0%|          | 0/150 [00:00<?, ?it/s]"
      ]
     },
     "metadata": {},
     "output_type": "display_data"
    },
    {
     "data": {
      "application/vnd.jupyter.widget-view+json": {
       "model_id": "ab0d03c8d32d4c03b0d3117f749820e6",
       "version_major": 2,
       "version_minor": 0
      },
      "text/plain": [
       "Parameter Grid:   0%|          | 0/150 [00:00<?, ?it/s]"
      ]
     },
     "metadata": {},
     "output_type": "display_data"
    },
    {
     "data": {
      "application/vnd.jupyter.widget-view+json": {
       "model_id": "2ab3238cd3cd48c2b84f85e257925d42",
       "version_major": 2,
       "version_minor": 0
      },
      "text/plain": [
       "Parameter Grid:   0%|          | 0/150 [00:00<?, ?it/s]"
      ]
     },
     "metadata": {},
     "output_type": "display_data"
    },
    {
     "data": {
      "application/vnd.jupyter.widget-view+json": {
       "model_id": "29e99be2e8fa43d0b63c041e7dcc5a42",
       "version_major": 2,
       "version_minor": 0
      },
      "text/plain": [
       "Parameter Grid:   0%|          | 0/150 [00:00<?, ?it/s]"
      ]
     },
     "metadata": {},
     "output_type": "display_data"
    },
    {
     "data": {
      "application/vnd.jupyter.widget-view+json": {
       "model_id": "973eb260cc2c46a69ccc1e06e52f1f01",
       "version_major": 2,
       "version_minor": 0
      },
      "text/plain": [
       "Parameter Grid:   0%|          | 0/150 [00:00<?, ?it/s]"
      ]
     },
     "metadata": {},
     "output_type": "display_data"
    },
    {
     "data": {
      "application/vnd.jupyter.widget-view+json": {
       "model_id": "f6d946adf13446b5ba0bc8f45af15447",
       "version_major": 2,
       "version_minor": 0
      },
      "text/plain": [
       "Parameter Grid:   0%|          | 0/150 [00:00<?, ?it/s]"
      ]
     },
     "metadata": {},
     "output_type": "display_data"
    },
    {
     "data": {
      "application/vnd.jupyter.widget-view+json": {
       "model_id": "1f659433582040b0b5c110146de0a2d1",
       "version_major": 2,
       "version_minor": 0
      },
      "text/plain": [
       "Parameter Grid:   0%|          | 0/150 [00:00<?, ?it/s]"
      ]
     },
     "metadata": {},
     "output_type": "display_data"
    },
    {
     "data": {
      "application/vnd.jupyter.widget-view+json": {
       "model_id": "36e46d22a5964e9d84c78bd0b05f4484",
       "version_major": 2,
       "version_minor": 0
      },
      "text/plain": [
       "Parameter Grid:   0%|          | 0/150 [00:00<?, ?it/s]"
      ]
     },
     "metadata": {},
     "output_type": "display_data"
    },
    {
     "data": {
      "application/vnd.jupyter.widget-view+json": {
       "model_id": "8a9c790c4dc6443eb532f7156a576641",
       "version_major": 2,
       "version_minor": 0
      },
      "text/plain": [
       "Parameter Grid:   0%|          | 0/150 [00:00<?, ?it/s]"
      ]
     },
     "metadata": {},
     "output_type": "display_data"
    },
    {
     "data": {
      "application/vnd.jupyter.widget-view+json": {
       "model_id": "0cf6e26b5f574c59b8e6fb5c486345fe",
       "version_major": 2,
       "version_minor": 0
      },
      "text/plain": [
       "Parameter Grid:   0%|          | 0/150 [00:00<?, ?it/s]"
      ]
     },
     "metadata": {},
     "output_type": "display_data"
    },
    {
     "data": {
      "application/vnd.jupyter.widget-view+json": {
       "model_id": "57f9c2c5cfb74eada6dc5c33d137758a",
       "version_major": 2,
       "version_minor": 0
      },
      "text/plain": [
       "Parameter Grid:   0%|          | 0/150 [00:00<?, ?it/s]"
      ]
     },
     "metadata": {},
     "output_type": "display_data"
    },
    {
     "data": {
      "application/vnd.jupyter.widget-view+json": {
       "model_id": "dc70d6f6ea554b209465a71a962951b6",
       "version_major": 2,
       "version_minor": 0
      },
      "text/plain": [
       "Parameter Grid:   0%|          | 0/150 [00:00<?, ?it/s]"
      ]
     },
     "metadata": {},
     "output_type": "display_data"
    },
    {
     "data": {
      "application/vnd.jupyter.widget-view+json": {
       "model_id": "6773d5ccc8ad473cad6001517a3cc19b",
       "version_major": 2,
       "version_minor": 0
      },
      "text/plain": [
       "Parameter Grid:   0%|          | 0/150 [00:00<?, ?it/s]"
      ]
     },
     "metadata": {},
     "output_type": "display_data"
    },
    {
     "data": {
      "application/vnd.jupyter.widget-view+json": {
       "model_id": "f0f835068f064ee3bd208f8cc4db3ec6",
       "version_major": 2,
       "version_minor": 0
      },
      "text/plain": [
       "Parameter Grid:   0%|          | 0/150 [00:00<?, ?it/s]"
      ]
     },
     "metadata": {},
     "output_type": "display_data"
    },
    {
     "data": {
      "application/vnd.jupyter.widget-view+json": {
       "model_id": "7cffec8c4c8f4d499b5b6c38753ba1f1",
       "version_major": 2,
       "version_minor": 0
      },
      "text/plain": [
       "Parameter Grid:   0%|          | 0/150 [00:00<?, ?it/s]"
      ]
     },
     "metadata": {},
     "output_type": "display_data"
    },
    {
     "data": {
      "application/vnd.jupyter.widget-view+json": {
       "model_id": "3d6fc14360ff43728623e51095b0441f",
       "version_major": 2,
       "version_minor": 0
      },
      "text/plain": [
       "Parameter Grid:   0%|          | 0/150 [00:00<?, ?it/s]"
      ]
     },
     "metadata": {},
     "output_type": "display_data"
    },
    {
     "data": {
      "application/vnd.jupyter.widget-view+json": {
       "model_id": "2bda5be80249457792d6e76034abcf82",
       "version_major": 2,
       "version_minor": 0
      },
      "text/plain": [
       "Parameter Grid:   0%|          | 0/150 [00:00<?, ?it/s]"
      ]
     },
     "metadata": {},
     "output_type": "display_data"
    },
    {
     "data": {
      "application/vnd.jupyter.widget-view+json": {
       "model_id": "c2e9dd2e00524fd1b529966347f0e0f9",
       "version_major": 2,
       "version_minor": 0
      },
      "text/plain": [
       "Parameter Grid:   0%|          | 0/150 [00:00<?, ?it/s]"
      ]
     },
     "metadata": {},
     "output_type": "display_data"
    },
    {
     "data": {
      "application/vnd.jupyter.widget-view+json": {
       "model_id": "626cf1755b2e40b094cfd17503939227",
       "version_major": 2,
       "version_minor": 0
      },
      "text/plain": [
       "Parameter Grid:   0%|          | 0/150 [00:00<?, ?it/s]"
      ]
     },
     "metadata": {},
     "output_type": "display_data"
    },
    {
     "data": {
      "application/vnd.jupyter.widget-view+json": {
       "model_id": "9b89f8c890774085b0bbe4ee57e5fc99",
       "version_major": 2,
       "version_minor": 0
      },
      "text/plain": [
       "Parameter Grid:   0%|          | 0/150 [00:00<?, ?it/s]"
      ]
     },
     "metadata": {},
     "output_type": "display_data"
    },
    {
     "data": {
      "application/vnd.jupyter.widget-view+json": {
       "model_id": "49d2c69a30104114a3d6200da222073c",
       "version_major": 2,
       "version_minor": 0
      },
      "text/plain": [
       "Parameter Grid:   0%|          | 0/150 [00:00<?, ?it/s]"
      ]
     },
     "metadata": {},
     "output_type": "display_data"
    },
    {
     "data": {
      "application/vnd.jupyter.widget-view+json": {
       "model_id": "2d0f0f280939434da593684976fac4b4",
       "version_major": 2,
       "version_minor": 0
      },
      "text/plain": [
       "Parameter Grid:   0%|          | 0/150 [00:00<?, ?it/s]"
      ]
     },
     "metadata": {},
     "output_type": "display_data"
    },
    {
     "data": {
      "application/vnd.jupyter.widget-view+json": {
       "model_id": "5a1c23c0ff654cd38bd343a11b914074",
       "version_major": 2,
       "version_minor": 0
      },
      "text/plain": [
       "Parameter Grid:   0%|          | 0/150 [00:00<?, ?it/s]"
      ]
     },
     "metadata": {},
     "output_type": "display_data"
    },
    {
     "data": {
      "application/vnd.jupyter.widget-view+json": {
       "model_id": "78703022300743d1bc165e8b937c8d47",
       "version_major": 2,
       "version_minor": 0
      },
      "text/plain": [
       "Parameter Grid:   0%|          | 0/150 [00:00<?, ?it/s]"
      ]
     },
     "metadata": {},
     "output_type": "display_data"
    },
    {
     "data": {
      "application/vnd.jupyter.widget-view+json": {
       "model_id": "fa69db31dfbf4bd890ba89ba89edf90b",
       "version_major": 2,
       "version_minor": 0
      },
      "text/plain": [
       "Parameter Grid:   0%|          | 0/150 [00:00<?, ?it/s]"
      ]
     },
     "metadata": {},
     "output_type": "display_data"
    },
    {
     "data": {
      "application/vnd.jupyter.widget-view+json": {
       "model_id": "b842b24c918149d3bf582c89b501cbd6",
       "version_major": 2,
       "version_minor": 0
      },
      "text/plain": [
       "Parameter Grid:   0%|          | 0/150 [00:00<?, ?it/s]"
      ]
     },
     "metadata": {},
     "output_type": "display_data"
    },
    {
     "data": {
      "application/vnd.jupyter.widget-view+json": {
       "model_id": "aa9df6513ffe47c3b7126ef9af97bbda",
       "version_major": 2,
       "version_minor": 0
      },
      "text/plain": [
       "Parameter Grid:   0%|          | 0/150 [00:00<?, ?it/s]"
      ]
     },
     "metadata": {},
     "output_type": "display_data"
    },
    {
     "data": {
      "application/vnd.jupyter.widget-view+json": {
       "model_id": "f078d730b50044488047df51ea63153c",
       "version_major": 2,
       "version_minor": 0
      },
      "text/plain": [
       "Parameter Grid:   0%|          | 0/150 [00:00<?, ?it/s]"
      ]
     },
     "metadata": {},
     "output_type": "display_data"
    },
    {
     "data": {
      "application/vnd.jupyter.widget-view+json": {
       "model_id": "c77eb11fc32c4ced99d826eb670df806",
       "version_major": 2,
       "version_minor": 0
      },
      "text/plain": [
       "Parameter Grid:   0%|          | 0/150 [00:00<?, ?it/s]"
      ]
     },
     "metadata": {},
     "output_type": "display_data"
    },
    {
     "data": {
      "application/vnd.jupyter.widget-view+json": {
       "model_id": "e71fb184fb8c439595bdae2070ab7a0e",
       "version_major": 2,
       "version_minor": 0
      },
      "text/plain": [
       "Parameter Grid:   0%|          | 0/150 [00:00<?, ?it/s]"
      ]
     },
     "metadata": {},
     "output_type": "display_data"
    },
    {
     "data": {
      "application/vnd.jupyter.widget-view+json": {
       "model_id": "2094235d94c84837bc495895cb0d7a53",
       "version_major": 2,
       "version_minor": 0
      },
      "text/plain": [
       "Parameter Grid:   0%|          | 0/150 [00:00<?, ?it/s]"
      ]
     },
     "metadata": {},
     "output_type": "display_data"
    },
    {
     "data": {
      "application/vnd.jupyter.widget-view+json": {
       "model_id": "a9be7f2bd48745a7ae46ac94c122fe29",
       "version_major": 2,
       "version_minor": 0
      },
      "text/plain": [
       "Parameter Grid:   0%|          | 0/150 [00:00<?, ?it/s]"
      ]
     },
     "metadata": {},
     "output_type": "display_data"
    },
    {
     "data": {
      "application/vnd.jupyter.widget-view+json": {
       "model_id": "716510d27df647a49199175e49827689",
       "version_major": 2,
       "version_minor": 0
      },
      "text/plain": [
       "Parameter Grid:   0%|          | 0/150 [00:00<?, ?it/s]"
      ]
     },
     "metadata": {},
     "output_type": "display_data"
    },
    {
     "data": {
      "application/vnd.jupyter.widget-view+json": {
       "model_id": "3168edd363994079bd84591a5f92a482",
       "version_major": 2,
       "version_minor": 0
      },
      "text/plain": [
       "Parameter Grid:   0%|          | 0/150 [00:00<?, ?it/s]"
      ]
     },
     "metadata": {},
     "output_type": "display_data"
    },
    {
     "data": {
      "application/vnd.jupyter.widget-view+json": {
       "model_id": "ccd8ceec195a48b98fdf0fece07f5492",
       "version_major": 2,
       "version_minor": 0
      },
      "text/plain": [
       "Parameter Grid:   0%|          | 0/150 [00:00<?, ?it/s]"
      ]
     },
     "metadata": {},
     "output_type": "display_data"
    },
    {
     "data": {
      "application/vnd.jupyter.widget-view+json": {
       "model_id": "51f82668480244139686fa5f8251ed62",
       "version_major": 2,
       "version_minor": 0
      },
      "text/plain": [
       "Parameter Grid:   0%|          | 0/150 [00:00<?, ?it/s]"
      ]
     },
     "metadata": {},
     "output_type": "display_data"
    },
    {
     "data": {
      "application/vnd.jupyter.widget-view+json": {
       "model_id": "cf908780c4aa4eba953a7c6dc753ccab",
       "version_major": 2,
       "version_minor": 0
      },
      "text/plain": [
       "Parameter Grid:   0%|          | 0/150 [00:00<?, ?it/s]"
      ]
     },
     "metadata": {},
     "output_type": "display_data"
    },
    {
     "data": {
      "application/vnd.jupyter.widget-view+json": {
       "model_id": "6796e8d85a914fb99876c1e3c85c41f4",
       "version_major": 2,
       "version_minor": 0
      },
      "text/plain": [
       "Parameter Grid:   0%|          | 0/150 [00:00<?, ?it/s]"
      ]
     },
     "metadata": {},
     "output_type": "display_data"
    },
    {
     "data": {
      "application/vnd.jupyter.widget-view+json": {
       "model_id": "40bd526ac51741cfaa06521c68bd94e6",
       "version_major": 2,
       "version_minor": 0
      },
      "text/plain": [
       "Parameter Grid:   0%|          | 0/150 [00:00<?, ?it/s]"
      ]
     },
     "metadata": {},
     "output_type": "display_data"
    },
    {
     "data": {
      "application/vnd.jupyter.widget-view+json": {
       "model_id": "bb6e70416f2142c88d0b2045590ccfe3",
       "version_major": 2,
       "version_minor": 0
      },
      "text/plain": [
       "Parameter Grid:   0%|          | 0/150 [00:00<?, ?it/s]"
      ]
     },
     "metadata": {},
     "output_type": "display_data"
    },
    {
     "data": {
      "application/vnd.jupyter.widget-view+json": {
       "model_id": "a4ac5c98127c4f61a8fb9bfd4e003ccb",
       "version_major": 2,
       "version_minor": 0
      },
      "text/plain": [
       "Parameter Grid:   0%|          | 0/150 [00:00<?, ?it/s]"
      ]
     },
     "metadata": {},
     "output_type": "display_data"
    }
   ],
   "source": [
    "results = ParameterTuning.iid_grid_samples()"
   ]
  },
  {
   "cell_type": "code",
   "execution_count": 10,
   "metadata": {},
   "outputs": [],
   "source": [
    "results.to_csv(\"results.csv\", index=False)"
   ]
  },
  {
   "cell_type": "code",
   "execution_count": null,
   "metadata": {},
   "outputs": [],
   "source": [
    "# # Only process 5 test items per batch to reduce memory pressure\n",
    "# def sampling_process(params):\n",
    "#     w, b, num_twins = params\n",
    "#     batch_results = []\n",
    "\n",
    "#     for i, test_item_key in enumerate(test_items):\n",
    "#         batch_results.append(\n",
    "#             {\n",
    "#                 \"TEST_ITEM_COMMUNICATIONKEY\": test_item_key,\n",
    "#                 \"window_size\": w,\n",
    "#                 \"block_size\": b,\n",
    "#                 \"num_twins\": num_twins,\n",
    "#                 \"Samples\": Resampling.lb_bootstrap(cls.input_data.TwinData[test_item_key], w, b)\n",
    "#             }\n",
    "#         )\n",
    "\n",
    "#         # ✅ Flush to disk every 5 items\n",
    "#         if i % 5 == 0:\n",
    "#             pd.DataFrame(batch_results).to_csv(\"lbb_results.csv\", mode=\"a\", header=False, index=False)\n",
    "#             batch_results = []  # Clear memory\n",
    "\n",
    "#     return batch_results"
   ]
  },
  {
   "cell_type": "markdown",
   "metadata": {},
   "source": [
    "# Error Diagnosis\n",
    "\n",
    "### 1. Optimierung der Parameter\n",
    "- **Frage:** Was ist die beste Parameterkombination?\n",
    "\n",
    "### 2. Identifikation von Ausreißern\n",
    "- **Frage:** Welche Items sind die größten Ausreißer?\n",
    "\n",
    "### 3. Bias-Analyse\n",
    "- **Frage:** Haben wir allgemein einen positiven oder negativen Bias? (Test if correction factor might help)\n",
    "\n",
    "### 4. Einfluss von Parametern auf Bias und Varianz\n",
    "- **Frage:** Ändern sich Bias und Varianz mit den Parametern, insbesondere mit der Anzahl der Twins?\n",
    "\n",
    "### 5. Vergleich mit Bootstrap\n",
    "- **Frage:** Lohnt sich das im Vergleich zum einfachen Bootstrap?\n",
    "\n",
    "### 6. Ausblick auf Performance-Änderungen\n",
    "- **Frage:** Wie ändert sich die Performance, wenn die Beobachtungsperiode um 1 Jahr verschoben wird?\n",
    "  - **Erwartung:** Der Einfluss des Trends wird erhöht."
   ]
  },
  {
   "cell_type": "code",
   "execution_count": 11,
   "metadata": {},
   "outputs": [
    {
     "ename": "NameError",
     "evalue": "name 'df_results' is not defined",
     "output_type": "error",
     "traceback": [
      "\u001b[0;31m---------------------------------------------------------------------------\u001b[0m",
      "\u001b[0;31mNameError\u001b[0m                                 Traceback (most recent call last)",
      "Cell \u001b[0;32mIn[11], line 2\u001b[0m\n\u001b[1;32m      1\u001b[0m \u001b[38;5;66;03m#1\u001b[39;00m\n\u001b[0;32m----> 2\u001b[0m \u001b[43mdf_results\u001b[49m\u001b[38;5;241m.\u001b[39mgroupby([\u001b[38;5;124m\"\u001b[39m\u001b[38;5;124mwindow_size\u001b[39m\u001b[38;5;124m\"\u001b[39m, \u001b[38;5;124m\"\u001b[39m\u001b[38;5;124mblock_size\u001b[39m\u001b[38;5;124m\"\u001b[39m, \u001b[38;5;124m\"\u001b[39m\u001b[38;5;124mnum_twins\u001b[39m\u001b[38;5;124m\"\u001b[39m])\u001b[38;5;241m.\u001b[39mmedian()\u001b[38;5;241m.\u001b[39msort_values(\u001b[38;5;124m\"\u001b[39m\u001b[38;5;124mMSE\u001b[39m\u001b[38;5;124m\"\u001b[39m)\u001b[38;5;241m.\u001b[39mreset_index()[[\u001b[38;5;124m\"\u001b[39m\u001b[38;5;124mwindow_size\u001b[39m\u001b[38;5;124m\"\u001b[39m, \u001b[38;5;124m\"\u001b[39m\u001b[38;5;124mblock_size\u001b[39m\u001b[38;5;124m\"\u001b[39m, \u001b[38;5;124m\"\u001b[39m\u001b[38;5;124mnum_twins\u001b[39m\u001b[38;5;124m\"\u001b[39m, \u001b[38;5;124m\"\u001b[39m\u001b[38;5;124mMSE\u001b[39m\u001b[38;5;124m\"\u001b[39m ]]\n",
      "\u001b[0;31mNameError\u001b[0m: name 'df_results' is not defined"
     ]
    }
   ],
   "source": [
    "#1\n",
    "df_results.groupby([\"window_size\", \"block_size\", \"num_twins\"]).median().sort_values(\"MSE\").reset_index()[[\"window_size\", \"block_size\", \"num_twins\", \"MSE\" ]]"
   ]
  },
  {
   "cell_type": "code",
   "execution_count": null,
   "metadata": {},
   "outputs": [
    {
     "data": {
      "text/html": [
       "<div>\n",
       "<style scoped>\n",
       "    .dataframe tbody tr th:only-of-type {\n",
       "        vertical-align: middle;\n",
       "    }\n",
       "\n",
       "    .dataframe tbody tr th {\n",
       "        vertical-align: top;\n",
       "    }\n",
       "\n",
       "    .dataframe thead th {\n",
       "        text-align: right;\n",
       "    }\n",
       "</style>\n",
       "<table border=\"1\" class=\"dataframe\">\n",
       "  <thead>\n",
       "    <tr style=\"text-align: right;\">\n",
       "      <th></th>\n",
       "      <th>window_size</th>\n",
       "      <th>block_size</th>\n",
       "      <th>num_twins</th>\n",
       "      <th>MSE</th>\n",
       "    </tr>\n",
       "  </thead>\n",
       "  <tbody>\n",
       "    <tr>\n",
       "      <th>0</th>\n",
       "      <td>2</td>\n",
       "      <td>1</td>\n",
       "      <td>10</td>\n",
       "      <td>162948.341797</td>\n",
       "    </tr>\n",
       "    <tr>\n",
       "      <th>1</th>\n",
       "      <td>4</td>\n",
       "      <td>1</td>\n",
       "      <td>10</td>\n",
       "      <td>163271.409340</td>\n",
       "    </tr>\n",
       "    <tr>\n",
       "      <th>2</th>\n",
       "      <td>6</td>\n",
       "      <td>1</td>\n",
       "      <td>10</td>\n",
       "      <td>163372.025499</td>\n",
       "    </tr>\n",
       "    <tr>\n",
       "      <th>3</th>\n",
       "      <td>10</td>\n",
       "      <td>1</td>\n",
       "      <td>10</td>\n",
       "      <td>163480.986495</td>\n",
       "    </tr>\n",
       "    <tr>\n",
       "      <th>4</th>\n",
       "      <td>8</td>\n",
       "      <td>1</td>\n",
       "      <td>10</td>\n",
       "      <td>163526.005333</td>\n",
       "    </tr>\n",
       "    <tr>\n",
       "      <th>...</th>\n",
       "      <td>...</td>\n",
       "      <td>...</td>\n",
       "      <td>...</td>\n",
       "      <td>...</td>\n",
       "    </tr>\n",
       "    <tr>\n",
       "      <th>895</th>\n",
       "      <td>52</td>\n",
       "      <td>30</td>\n",
       "      <td>10</td>\n",
       "      <td>251859.196359</td>\n",
       "    </tr>\n",
       "    <tr>\n",
       "      <th>896</th>\n",
       "      <td>54</td>\n",
       "      <td>30</td>\n",
       "      <td>10</td>\n",
       "      <td>252197.849661</td>\n",
       "    </tr>\n",
       "    <tr>\n",
       "      <th>897</th>\n",
       "      <td>56</td>\n",
       "      <td>30</td>\n",
       "      <td>10</td>\n",
       "      <td>252220.798332</td>\n",
       "    </tr>\n",
       "    <tr>\n",
       "      <th>898</th>\n",
       "      <td>58</td>\n",
       "      <td>30</td>\n",
       "      <td>10</td>\n",
       "      <td>252517.459225</td>\n",
       "    </tr>\n",
       "    <tr>\n",
       "      <th>899</th>\n",
       "      <td>60</td>\n",
       "      <td>30</td>\n",
       "      <td>10</td>\n",
       "      <td>252558.813427</td>\n",
       "    </tr>\n",
       "  </tbody>\n",
       "</table>\n",
       "<p>900 rows × 4 columns</p>\n",
       "</div>"
      ],
      "text/plain": [
       "     window_size  block_size  num_twins            MSE\n",
       "0              2           1         10  162948.341797\n",
       "1              4           1         10  163271.409340\n",
       "2              6           1         10  163372.025499\n",
       "3             10           1         10  163480.986495\n",
       "4              8           1         10  163526.005333\n",
       "..           ...         ...        ...            ...\n",
       "895           52          30         10  251859.196359\n",
       "896           54          30         10  252197.849661\n",
       "897           56          30         10  252220.798332\n",
       "898           58          30         10  252517.459225\n",
       "899           60          30         10  252558.813427\n",
       "\n",
       "[900 rows x 4 columns]"
      ]
     },
     "execution_count": 52,
     "metadata": {},
     "output_type": "execute_result"
    }
   ],
   "source": [
    "df_results.groupby([\"window_size\", \"block_size\", \"num_twins\"]).mean().sort_values(\"MSE\").reset_index()[[\"window_size\", \"block_size\", \"num_twins\", \"MSE\" ]]"
   ]
  },
  {
   "cell_type": "code",
   "execution_count": null,
   "metadata": {},
   "outputs": [
    {
     "data": {
      "text/html": [
       "<div>\n",
       "<style scoped>\n",
       "    .dataframe tbody tr th:only-of-type {\n",
       "        vertical-align: middle;\n",
       "    }\n",
       "\n",
       "    .dataframe tbody tr th {\n",
       "        vertical-align: top;\n",
       "    }\n",
       "\n",
       "    .dataframe thead th {\n",
       "        text-align: right;\n",
       "    }\n",
       "</style>\n",
       "<table border=\"1\" class=\"dataframe\">\n",
       "  <thead>\n",
       "    <tr style=\"text-align: right;\">\n",
       "      <th></th>\n",
       "      <th>TEST_ITEM_COMMUNICATIONKEY</th>\n",
       "      <th>MSE</th>\n",
       "    </tr>\n",
       "  </thead>\n",
       "  <tbody>\n",
       "    <tr>\n",
       "      <th>0</th>\n",
       "      <td>829628090</td>\n",
       "      <td>1.937074e+06</td>\n",
       "    </tr>\n",
       "    <tr>\n",
       "      <th>1</th>\n",
       "      <td>842058910</td>\n",
       "      <td>1.434696e+06</td>\n",
       "    </tr>\n",
       "    <tr>\n",
       "      <th>2</th>\n",
       "      <td>1107699346</td>\n",
       "      <td>1.022193e+06</td>\n",
       "    </tr>\n",
       "    <tr>\n",
       "      <th>3</th>\n",
       "      <td>1574713555</td>\n",
       "      <td>1.009865e+06</td>\n",
       "    </tr>\n",
       "    <tr>\n",
       "      <th>4</th>\n",
       "      <td>803656013</td>\n",
       "      <td>8.126522e+05</td>\n",
       "    </tr>\n",
       "    <tr>\n",
       "      <th>...</th>\n",
       "      <td>...</td>\n",
       "      <td>...</td>\n",
       "    </tr>\n",
       "    <tr>\n",
       "      <th>95</th>\n",
       "      <td>824014002</td>\n",
       "      <td>5.416484e+03</td>\n",
       "    </tr>\n",
       "    <tr>\n",
       "      <th>96</th>\n",
       "      <td>837717257</td>\n",
       "      <td>4.998111e+03</td>\n",
       "    </tr>\n",
       "    <tr>\n",
       "      <th>97</th>\n",
       "      <td>856065671</td>\n",
       "      <td>4.822168e+03</td>\n",
       "    </tr>\n",
       "    <tr>\n",
       "      <th>98</th>\n",
       "      <td>1035556462</td>\n",
       "      <td>2.738666e+03</td>\n",
       "    </tr>\n",
       "    <tr>\n",
       "      <th>99</th>\n",
       "      <td>868192553</td>\n",
       "      <td>1.185761e+03</td>\n",
       "    </tr>\n",
       "  </tbody>\n",
       "</table>\n",
       "<p>100 rows × 2 columns</p>\n",
       "</div>"
      ],
      "text/plain": [
       "    TEST_ITEM_COMMUNICATIONKEY           MSE\n",
       "0                    829628090  1.937074e+06\n",
       "1                    842058910  1.434696e+06\n",
       "2                   1107699346  1.022193e+06\n",
       "3                   1574713555  1.009865e+06\n",
       "4                    803656013  8.126522e+05\n",
       "..                         ...           ...\n",
       "95                   824014002  5.416484e+03\n",
       "96                   837717257  4.998111e+03\n",
       "97                   856065671  4.822168e+03\n",
       "98                  1035556462  2.738666e+03\n",
       "99                   868192553  1.185761e+03\n",
       "\n",
       "[100 rows x 2 columns]"
      ]
     },
     "execution_count": 53,
     "metadata": {},
     "output_type": "execute_result"
    }
   ],
   "source": [
    "#2 größten ausreißer\n",
    "df_results.groupby([\"TEST_ITEM_COMMUNICATIONKEY\"]).mean().sort_values(\"MSE\", ascending=False).reset_index()[[\"TEST_ITEM_COMMUNICATIONKEY\", \"MSE\"]]"
   ]
  },
  {
   "cell_type": "code",
   "execution_count": null,
   "metadata": {},
   "outputs": [],
   "source": [
    "# Bias Analyse\n",
    "#müssen wir einzeln abfragen -> Dann mit lineplot die entwicklung über die twin_nr zeigen"
   ]
  },
  {
   "cell_type": "code",
   "execution_count": null,
   "metadata": {},
   "outputs": [],
   "source": []
  },
  {
   "cell_type": "markdown",
   "metadata": {},
   "source": [
    "# Normality test\n",
    "- clt is defined for iid data\n",
    "- distributions moments must be finite?\n",
    "- tune number of iteration until distribution is normal -> helps simplify methods of robust optimization"
   ]
  },
  {
   "cell_type": "code",
   "execution_count": null,
   "metadata": {},
   "outputs": [
    {
     "ename": "NameError",
     "evalue": "name 'results_simple' is not defined",
     "output_type": "error",
     "traceback": [
      "\u001b[0;31m---------------------------------------------------------------------------\u001b[0m",
      "\u001b[0;31mNameError\u001b[0m                                 Traceback (most recent call last)",
      "Cell \u001b[0;32mIn[55], line 4\u001b[0m\n\u001b[1;32m      1\u001b[0m fig, (ax1, ax2) \u001b[38;5;241m=\u001b[39m plt\u001b[38;5;241m.\u001b[39msubplots(\u001b[38;5;241m1\u001b[39m, \u001b[38;5;241m2\u001b[39m, figsize\u001b[38;5;241m=\u001b[39m(\u001b[38;5;241m12\u001b[39m, \u001b[38;5;241m5\u001b[39m))\n\u001b[1;32m      3\u001b[0m \u001b[38;5;66;03m# Plot the histogram\u001b[39;00m\n\u001b[0;32m----> 4\u001b[0m ax1\u001b[38;5;241m.\u001b[39mhist(\u001b[43mresults_simple\u001b[49m, bins\u001b[38;5;241m=\u001b[39m\u001b[38;5;241m50\u001b[39m, density\u001b[38;5;241m=\u001b[39m\u001b[38;5;28;01mTrue\u001b[39;00m, alpha\u001b[38;5;241m=\u001b[39m\u001b[38;5;241m0.6\u001b[39m, color\u001b[38;5;241m=\u001b[39m\u001b[38;5;124m'\u001b[39m\u001b[38;5;124mgrey\u001b[39m\u001b[38;5;124m'\u001b[39m, edgecolor\u001b[38;5;241m=\u001b[39m\u001b[38;5;124m'\u001b[39m\u001b[38;5;124mblack\u001b[39m\u001b[38;5;124m'\u001b[39m, label\u001b[38;5;241m=\u001b[39m\u001b[38;5;124m'\u001b[39m\u001b[38;5;124mBootstrap PDF\u001b[39m\u001b[38;5;124m'\u001b[39m)\n\u001b[1;32m      5\u001b[0m ax1\u001b[38;5;241m.\u001b[39mset_title(\u001b[38;5;124m'\u001b[39m\u001b[38;5;124mHistogram of Bootstrapped Values\u001b[39m\u001b[38;5;124m'\u001b[39m)\n\u001b[1;32m      6\u001b[0m ax1\u001b[38;5;241m.\u001b[39mset_xlabel(\u001b[38;5;124m'\u001b[39m\u001b[38;5;124mValue\u001b[39m\u001b[38;5;124m'\u001b[39m)\n",
      "\u001b[0;31mNameError\u001b[0m: name 'results_simple' is not defined"
     ]
    },
    {
     "data": {
      "image/png": "[encoded data removed]",
      "text/plain": [
       "<Figure size 1200x500 with 2 Axes>"
      ]
     },
     "metadata": {},
     "output_type": "display_data"
    }
   ],
   "source": [
    "fig, (ax1, ax2) = plt.subplots(1, 2, figsize=(12, 5))\n",
    "\n",
    "# Plot the histogram\n",
    "ax1.hist(results_simple, bins=50, density=True, alpha=0.6, color='grey', edgecolor='black', label='Bootstrap PDF')\n",
    "ax1.set_title('Histogram of Bootstrapped Values')\n",
    "ax1.set_xlabel('Value')\n",
    "ax1.set_ylabel('Density')\n",
    "\n",
    "# Remove top and right spines for the histogram\n",
    "ax1.spines['top'].set_visible(False)\n",
    "ax1.spines['right'].set_visible(False)\n",
    "\n",
    "# Calculate the normal PDF\n",
    "x = np.linspace(min(results_simple), max(results_simple), 100)\n",
    "normal_pdf = stats.norm.pdf(x, loc=np.mean(results_simple), scale=np.sqrt(np.var(results_simple, ddof = 1)))\n",
    "\n",
    "# Plot the normal PDF\n",
    "ax1.plot(x, normal_pdf, label='Normal PDF', color='black', linestyle='-')\n",
    "\n",
    "# Plot the empirical CDF\n",
    "data_sorted = np.sort(results_simple)\n",
    "# Calculate the ECDF values\n",
    "ecdf = np.arange(1, len(data_sorted) + 1) / len(data_sorted)\n",
    "ax2.plot(data_sorted, ecdf, marker='o', linestyle='none', color='grey', label='Bootstrap CDF')\n",
    "\n",
    "# Remove top and right spines for the CDF\n",
    "ax2.spines['top'].set_visible(False)\n",
    "ax2.spines['right'].set_visible(False)\n",
    "\n",
    "# Calculate the normal CDF\n",
    "normal_cdf = stats.norm.cdf(x, loc=np.mean(results_simple), scale=np.sqrt(np.var(results_simple, ddof = 1)))\n",
    "\n",
    "# Plot the normal CDF\n",
    "ax2.plot(x, normal_cdf, label='Normal CDF', color='black', linestyle='-')\n",
    "\n",
    "ax2.set_title('Empirical CDF vs Normal CDF')\n",
    "ax2.set_xlabel('Value')\n",
    "ax2.set_ylabel('Cumulative Probability')\n",
    "\n",
    "# Add legends\n",
    "ax1.legend()\n",
    "ax2.legend()\n",
    "\n",
    "plt.tight_layout()\n",
    "plt.savefig('plots/bootstrap_joint_distribution.svg')\n",
    "plt.show()\n"
   ]
  },
  {
   "cell_type": "code",
   "execution_count": null,
   "metadata": {},
   "outputs": [],
   "source": [
    "#H0: the data is normally distributed\n",
    "#define alpha level\n",
    "alpha = 0.05"
   ]
  },
  {
   "cell_type": "code",
   "execution_count": null,
   "metadata": {},
   "outputs": [],
   "source": [
    "#generate integer samples from normal distribution\n",
    "norm_samples = np.random.normal(50, 25, 100000).astype(int)"
   ]
  },
  {
   "cell_type": "code",
   "execution_count": null,
   "metadata": {},
   "outputs": [
    {
     "name": "stdout",
     "output_type": "stream",
     "text": [
      "0.7473996872939013\n",
      "Fail to reject the null hypothesis: The data appears to be normally distributed.\n"
     ]
    }
   ],
   "source": [
    "norm_samples = np.random.normal(50, 5, 100000).astype(int)\n",
    "_, p_value = stats.normaltest(norm_samples)\n",
    "print(p_value)\n",
    "if p_value > alpha:\n",
    "    print(\"Fail to reject the null hypothesis: The data appears to be normally distributed.\")\n",
    "else:\n",
    "    print(\"Reject the null hypothesis: The data does NOT appear to be normally distributed.\")"
   ]
  },
  {
   "cell_type": "code",
   "execution_count": null,
   "metadata": {},
   "outputs": [
    {
     "ename": "NameError",
     "evalue": "name 'results_simple' is not defined",
     "output_type": "error",
     "traceback": [
      "\u001b[0;31m---------------------------------------------------------------------------\u001b[0m",
      "\u001b[0;31mNameError\u001b[0m                                 Traceback (most recent call last)",
      "Cell \u001b[0;32mIn[49], line 2\u001b[0m\n\u001b[1;32m      1\u001b[0m \u001b[38;5;66;03m# Warning: for N > 5000, computed p-value may not be accurate.\u001b[39;00m\n\u001b[0;32m----> 2\u001b[0m _, p_value \u001b[38;5;241m=\u001b[39m stats\u001b[38;5;241m.\u001b[39mshapiro(\u001b[43mresults_simple\u001b[49m)\n\u001b[1;32m      3\u001b[0m \u001b[38;5;28mprint\u001b[39m(p_value)\n\u001b[1;32m      4\u001b[0m \u001b[38;5;28;01mif\u001b[39;00m p_value \u001b[38;5;241m>\u001b[39m alpha:\n",
      "\u001b[0;31mNameError\u001b[0m: name 'results_simple' is not defined"
     ]
    }
   ],
   "source": [
    "# Warning: for N > 5000, computed p-value may not be accurate.\n",
    "_, p_value = stats.shapiro(results_simple)\n",
    "print(p_value)\n",
    "if p_value > alpha:\n",
    "    print(\"Fail to reject the null hypothesis: The data appears to be normally distributed.\")\n",
    "else:\n",
    "    print(\"Reject the null hypothesis: The data does not appear to be normally distributed.\")"
   ]
  }
 ],
 "metadata": {
  "kernelspec": {
   "display_name": "diplom",
   "language": "python",
   "name": "python3"
  },
  "language_info": {
   "codemirror_mode": {
    "name": "ipython",
    "version": 3
   },
   "file_extension": ".py",
   "mimetype": "text/x-python",
   "name": "python",
   "nbconvert_exporter": "python",
   "pygments_lexer": "ipython3",
   "version": "3.9.21"
  }
 },
 "nbformat": 4,
 "nbformat_minor": 2
}
