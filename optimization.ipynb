{
 "cells": [
  {
   "cell_type": "markdown",
   "metadata": {},
   "source": [
    "als short costs einfach die opportunitätskosten"
   ]
  },
  {
   "cell_type": "markdown",
   "metadata": {},
   "source": [
    "# Basic Newsvendor"
   ]
  },
  {
   "cell_type": "code",
   "execution_count": 3,
   "metadata": {},
   "outputs": [],
   "source": [
    "from nvmodel import ContinuousNewsvendorModel, DiscreteNewsvendorModel"
   ]
  },
  {
   "cell_type": "code",
   "execution_count": 5,
   "metadata": {},
   "outputs": [],
   "source": [
    "test = ContinuousNewsvendorModel(10, 10)"
   ]
  },
  {
   "cell_type": "code",
   "execution_count": null,
   "metadata": {},
   "outputs": [],
   "source": [
    "# verschiedene margen und lost sales cost"
   ]
  },
  {
   "cell_type": "markdown",
   "metadata": {},
   "source": [
    "# Robust Newsvendor"
   ]
  },
  {
   "cell_type": "code",
   "execution_count": 2,
   "metadata": {},
   "outputs": [
    {
     "name": "stdout",
     "output_type": "stream",
     "text": [
      "Restricted license - for non-production use only - expires 2026-11-23\n",
      "Gurobi Optimizer version 12.0.0 build v12.0.0rc1 (mac64[arm] - Darwin 23.6.0 23G93)\n",
      "\n",
      "CPU model: Apple M1\n",
      "Thread count: 8 physical cores, 8 logical processors, using up to 8 threads\n",
      "\n",
      "Optimize a model with 2 rows, 2 columns and 4 nonzeros\n",
      "Model fingerprint: 0xb239227c\n",
      "Coefficient statistics:\n",
      "  Matrix range     [1e+00, 2e+00]\n",
      "  Objective range  [3e+00, 4e+00]\n",
      "  Bounds range     [0e+00, 0e+00]\n",
      "  RHS range        [1e+01, 1e+01]\n",
      "Presolve time: 0.00s\n",
      "Presolved: 2 rows, 2 columns, 4 nonzeros\n",
      "\n",
      "Iteration    Objective       Primal Inf.    Dual Inf.      Time\n",
      "       0    7.0000000e+30   3.000000e+30   7.000000e+00      0s\n",
      "       2    2.6666667e+01   0.000000e+00   0.000000e+00      0s\n",
      "\n",
      "Solved in 2 iterations and 0.01 seconds (0.00 work units)\n",
      "Optimal objective  2.666666667e+01\n",
      "Optimal solution: x = 2.6666666666666665, y = 4.666666666666667, Objective value = 26.666666666666668\n"
     ]
    }
   ],
   "source": [
    "# man kann beim Input angeben weiß, um das ambiguity set so klein wie möglich zu halten\n",
    "from gurobipy import Model, GRB\n",
    "\n",
    "# Create a new model\n",
    "model = Model(\"simple_lp\")\n",
    "\n",
    "# Create variables\n",
    "x = model.addVar(lb=0, vtype=GRB.CONTINUOUS, name=\"x\")\n",
    "y = model.addVar(lb=0, vtype=GRB.CONTINUOUS, name=\"y\")\n",
    "\n",
    "# Set the objective\n",
    "model.setObjective(3 * x + 4 * y, GRB.MAXIMIZE)\n",
    "\n",
    "# Add constraints\n",
    "model.addConstr(2 * x + y <= 10, \"c1\")\n",
    "model.addConstr(x + 2 * y <= 12, \"c2\")\n",
    "\n",
    "# Optimize the model\n",
    "model.optimize()\n",
    "\n",
    "# Print the results\n",
    "if model.status == GRB.OPTIMAL:\n",
    "    print(f'Optimal solution: x = {x.X}, y = {y.X}, Objective value = {model.ObjVal}')\n",
    "else:\n",
    "    print(\"No optimal solution found.\")\n"
   ]
  }
 ],
 "metadata": {
  "kernelspec": {
   "display_name": "diplom",
   "language": "python",
   "name": "python3"
  },
  "language_info": {
   "codemirror_mode": {
    "name": "ipython",
    "version": 3
   },
   "file_extension": ".py",
   "mimetype": "text/x-python",
   "name": "python",
   "nbconvert_exporter": "python",
   "pygments_lexer": "ipython3",
   "version": "3.12.8"
  }
 },
 "nbformat": 4,
 "nbformat_minor": 2
}
