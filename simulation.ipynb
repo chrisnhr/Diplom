{
 "cells": [
  {
   "cell_type": "markdown",
   "metadata": {},
   "source": [
    "# Simulation"
   ]
  },
  {
   "cell_type": "markdown",
   "metadata": {},
   "source": [
    "### Assumptions\n",
    "- Returns arrive at the beginning of the week (atm), bestellungen on hold, overbooking planning \"backordering within a week possible\" bc customers wont wait super long\n",
    "- Returns are binomially distributed"
   ]
  },
  {
   "cell_type": "code",
   "execution_count": 1,
   "metadata": {},
   "outputs": [
    {
     "name": "stdout",
     "output_type": "stream",
     "text": [
      "Creating scenarios...\n"
     ]
    },
    {
     "ename": "KeyError",
     "evalue": "'demand_patterns'",
     "output_type": "error",
     "traceback": [
      "\u001b[0;31m---------------------------------------------------------------------------\u001b[0m",
      "\u001b[0;31mKeyError\u001b[0m                                  Traceback (most recent call last)",
      "Cell \u001b[0;32mIn[1], line 2\u001b[0m\n\u001b[1;32m      1\u001b[0m \u001b[38;5;66;03m#Simulation des Lagerbestands -> zur Evaluation der Bestellstrategien -> weil wir können lost sales und überbestände berechnen, sowie service level\u001b[39;00m\n\u001b[0;32m----> 2\u001b[0m \u001b[38;5;28;01mfrom\u001b[39;00m \u001b[38;5;21;01mmodels\u001b[39;00m \u001b[38;5;28;01mimport\u001b[39;00m \u001b[38;5;241m*\u001b[39m\n",
      "File \u001b[0;32m~/Projects/Diplom/models.py:145\u001b[0m\n\u001b[1;32m    142\u001b[0m         json\u001b[38;5;241m.\u001b[39mdump(scenarios, file, indent\u001b[38;5;241m=\u001b[39m\u001b[38;5;241m4\u001b[39m)\n\u001b[1;32m    143\u001b[0m     \u001b[38;5;28mprint\u001b[39m(\u001b[38;5;124mf\u001b[39m\u001b[38;5;124m\"\u001b[39m\u001b[38;5;124mSuccessfully created \u001b[39m\u001b[38;5;132;01m{\u001b[39;00m\u001b[38;5;28mlen\u001b[39m(scenarios)\u001b[38;5;132;01m}\u001b[39;00m\u001b[38;5;124m scenarios and saved them to \u001b[39m\u001b[38;5;132;01m{\u001b[39;00moutput_path\u001b[38;5;132;01m}\u001b[39;00m\u001b[38;5;124m.\u001b[39m\u001b[38;5;124m\"\u001b[39m)\n\u001b[0;32m--> 145\u001b[0m create_scenarios(\u001b[38;5;124m'\u001b[39m\u001b[38;5;124mjsons/configs.json\u001b[39m\u001b[38;5;124m'\u001b[39m, \u001b[38;5;124m'\u001b[39m\u001b[38;5;124mjsons/scenarios.json\u001b[39m\u001b[38;5;124m'\u001b[39m)\n\u001b[1;32m    147\u001b[0m \u001b[38;5;124;03m'''\u001b[39;00m\n\u001b[1;32m    148\u001b[0m \u001b[38;5;124;03mWeniger Szenarien erlauben bessere Differenzierung der Szenarien. Wichtig für die Analyse der Ergebnisse.\u001b[39;00m\n\u001b[1;32m    149\u001b[0m \u001b[38;5;124;03mMuss man noch verschiedene Nachfragelevel vergleichen?\u001b[39;00m\n\u001b[0;32m   (...)\u001b[0m\n\u001b[1;32m    153\u001b[0m \u001b[38;5;124;03m-> In Extremen Szenarian ist die Worst Caste Analyse aber vielleicht zu konservativ?\u001b[39;00m\n\u001b[1;32m    154\u001b[0m \u001b[38;5;124;03m'''\u001b[39;00m\n",
      "File \u001b[0;32m~/Projects/Diplom/models.py:120\u001b[0m, in \u001b[0;36mcreate_scenarios\u001b[0;34m(config_path, output_path)\u001b[0m\n\u001b[1;32m    118\u001b[0m returns_delays \u001b[38;5;241m=\u001b[39m config[\u001b[38;5;124m'\u001b[39m\u001b[38;5;124mreturns_delay\u001b[39m\u001b[38;5;124m'\u001b[39m]\n\u001b[1;32m    119\u001b[0m marketing_effects \u001b[38;5;241m=\u001b[39m config[\u001b[38;5;124m'\u001b[39m\u001b[38;5;124mmarketing_effects\u001b[39m\u001b[38;5;124m'\u001b[39m]\n\u001b[0;32m--> 120\u001b[0m demand_patterns \u001b[38;5;241m=\u001b[39m config[\u001b[38;5;124m'\u001b[39m\u001b[38;5;124mdemand_patterns\u001b[39m\u001b[38;5;124m'\u001b[39m]\n\u001b[1;32m    122\u001b[0m combinations \u001b[38;5;241m=\u001b[39m \u001b[38;5;28mlist\u001b[39m(product(\n\u001b[1;32m    123\u001b[0m     returns_levels\u001b[38;5;241m.\u001b[39mitems(),\n\u001b[1;32m    124\u001b[0m     returns_delays\u001b[38;5;241m.\u001b[39mitems(),\n\u001b[1;32m    125\u001b[0m     marketing_effects\u001b[38;5;241m.\u001b[39mitems(),\n\u001b[1;32m    126\u001b[0m     demand_patterns\u001b[38;5;241m.\u001b[39mitems()\n\u001b[1;32m    127\u001b[0m ))\n\u001b[1;32m    129\u001b[0m scenarios \u001b[38;5;241m=\u001b[39m {}\n",
      "\u001b[0;31mKeyError\u001b[0m: 'demand_patterns'"
     ]
    }
   ],
   "source": [
    "#Simulation des Lagerbestands -> zur Evaluation der Bestellstrategien -> weil wir können lost sales und überbestände berechnen, sowie service level\n",
    "from models import *\n",
    "\n",
    "#sind die retouren richtig berücksichtigt? also 0.5 und dann davon der Bruchteil?"
   ]
  },
  {
   "cell_type": "code",
   "execution_count": null,
   "metadata": {},
   "outputs": [],
   "source": [
    "demand_patterns = {\n",
    "    \"random\": [10, 20, 30, 40, 50, 60, 10, 20, 30, 40, 50, 60, 10, 20, 30, 40, 50, 60, 10, 20, 30, 40, 50, 60, 10, 20],\n",
    "    \"early\": [53, 45, 37, 30, 22, 7, 52, 45, 37, 30, 22, 7, 52, 45, 37, 30, 22, 7, 52, 45, 37, 30, 22, 7, 52, 45],\n",
    "    \"normal\": [10, 20, 30, 40, 50, 60, 10, 20, 30, 40, 50, 60, 10, 20, 30, 40, 50, 60, 10, 20, 30, 40, 50, 60, 10, 20],\n",
    "    \"late\": [9, 25, 33, 41, 49, 57, 8, 24, 32, 40, 48, 56, 8, 24, 32, 40, 48, 56, 8, 24, 32, 40, 48, 56, 8, 24]}"
   ]
  },
  {
   "cell_type": "code",
   "execution_count": 2,
   "metadata": {},
   "outputs": [
    {
     "name": "stdout",
     "output_type": "stream",
     "text": [
      "Successfully loaded 3 scenarios.\n"
     ]
    }
   ],
   "source": [
    "CONFIG_PATH = 'configs/scenarios.json'\n",
    "configs = load_json(CONFIG_PATH)"
   ]
  },
  {
   "cell_type": "code",
   "execution_count": null,
   "metadata": {},
   "outputs": [
    {
     "data": {
      "text/html": [
       "<div>\n",
       "<style scoped>\n",
       "    .dataframe tbody tr th:only-of-type {\n",
       "        vertical-align: middle;\n",
       "    }\n",
       "\n",
       "    .dataframe tbody tr th {\n",
       "        vertical-align: top;\n",
       "    }\n",
       "\n",
       "    .dataframe thead th {\n",
       "        text-align: right;\n",
       "    }\n",
       "</style>\n",
       "<table border=\"1\" class=\"dataframe\">\n",
       "  <thead>\n",
       "    <tr style=\"text-align: right;\">\n",
       "      <th></th>\n",
       "      <th>Gross Demand</th>\n",
       "      <th>Returns</th>\n",
       "      <th>Starting Inventory</th>\n",
       "      <th>Ending Inventory</th>\n",
       "      <th>Sales</th>\n",
       "      <th>Lost Sales</th>\n",
       "      <th>Net Demand</th>\n",
       "    </tr>\n",
       "    <tr>\n",
       "      <th>Week</th>\n",
       "      <th></th>\n",
       "      <th></th>\n",
       "      <th></th>\n",
       "      <th></th>\n",
       "      <th></th>\n",
       "      <th></th>\n",
       "      <th></th>\n",
       "    </tr>\n",
       "  </thead>\n",
       "  <tbody>\n",
       "    <tr>\n",
       "      <th>0</th>\n",
       "      <td>10</td>\n",
       "      <td>0.0</td>\n",
       "      <td>100.0</td>\n",
       "      <td>90.0</td>\n",
       "      <td>10.0</td>\n",
       "      <td>0.0</td>\n",
       "      <td>10.0</td>\n",
       "    </tr>\n",
       "    <tr>\n",
       "      <th>1</th>\n",
       "      <td>20</td>\n",
       "      <td>0.0</td>\n",
       "      <td>90.0</td>\n",
       "      <td>70.0</td>\n",
       "      <td>20.0</td>\n",
       "      <td>0.0</td>\n",
       "      <td>20.0</td>\n",
       "    </tr>\n",
       "    <tr>\n",
       "      <th>2</th>\n",
       "      <td>30</td>\n",
       "      <td>1.0</td>\n",
       "      <td>70.0</td>\n",
       "      <td>41.0</td>\n",
       "      <td>30.0</td>\n",
       "      <td>0.0</td>\n",
       "      <td>29.0</td>\n",
       "    </tr>\n",
       "    <tr>\n",
       "      <th>3</th>\n",
       "      <td>40</td>\n",
       "      <td>1.0</td>\n",
       "      <td>41.0</td>\n",
       "      <td>2.0</td>\n",
       "      <td>40.0</td>\n",
       "      <td>0.0</td>\n",
       "      <td>39.0</td>\n",
       "    </tr>\n",
       "    <tr>\n",
       "      <th>4</th>\n",
       "      <td>50</td>\n",
       "      <td>8.0</td>\n",
       "      <td>2.0</td>\n",
       "      <td>0.0</td>\n",
       "      <td>10.0</td>\n",
       "      <td>40.0</td>\n",
       "      <td>42.0</td>\n",
       "    </tr>\n",
       "    <tr>\n",
       "      <th>5</th>\n",
       "      <td>60</td>\n",
       "      <td>2.0</td>\n",
       "      <td>0.0</td>\n",
       "      <td>0.0</td>\n",
       "      <td>2.0</td>\n",
       "      <td>58.0</td>\n",
       "      <td>58.0</td>\n",
       "    </tr>\n",
       "    <tr>\n",
       "      <th>6</th>\n",
       "      <td>0</td>\n",
       "      <td>0.0</td>\n",
       "      <td>0.0</td>\n",
       "      <td>0.0</td>\n",
       "      <td>0.0</td>\n",
       "      <td>0.0</td>\n",
       "      <td>0.0</td>\n",
       "    </tr>\n",
       "    <tr>\n",
       "      <th>7</th>\n",
       "      <td>0</td>\n",
       "      <td>0.0</td>\n",
       "      <td>0.0</td>\n",
       "      <td>0.0</td>\n",
       "      <td>0.0</td>\n",
       "      <td>0.0</td>\n",
       "      <td>0.0</td>\n",
       "    </tr>\n",
       "    <tr>\n",
       "      <th>8</th>\n",
       "      <td>0</td>\n",
       "      <td>0.0</td>\n",
       "      <td>0.0</td>\n",
       "      <td>0.0</td>\n",
       "      <td>0.0</td>\n",
       "      <td>0.0</td>\n",
       "      <td>0.0</td>\n",
       "    </tr>\n",
       "    <tr>\n",
       "      <th>9</th>\n",
       "      <td>0</td>\n",
       "      <td>0.0</td>\n",
       "      <td>0.0</td>\n",
       "      <td>0.0</td>\n",
       "      <td>0.0</td>\n",
       "      <td>0.0</td>\n",
       "      <td>0.0</td>\n",
       "    </tr>\n",
       "  </tbody>\n",
       "</table>\n",
       "</div>"
      ],
      "text/plain": [
       "      Gross Demand  Returns  Starting Inventory  Ending Inventory  Sales  \\\n",
       "Week                                                                       \n",
       "0               10      0.0               100.0              90.0   10.0   \n",
       "1               20      0.0                90.0              70.0   20.0   \n",
       "2               30      1.0                70.0              41.0   30.0   \n",
       "3               40      1.0                41.0               2.0   40.0   \n",
       "4               50      8.0                 2.0               0.0   10.0   \n",
       "5               60      2.0                 0.0               0.0    2.0   \n",
       "6                0      0.0                 0.0               0.0    0.0   \n",
       "7                0      0.0                 0.0               0.0    0.0   \n",
       "8                0      0.0                 0.0               0.0    0.0   \n",
       "9                0      0.0                 0.0               0.0    0.0   \n",
       "\n",
       "      Lost Sales  Net Demand  \n",
       "Week                          \n",
       "0            0.0        10.0  \n",
       "1            0.0        20.0  \n",
       "2            0.0        29.0  \n",
       "3            0.0        39.0  \n",
       "4           40.0        42.0  \n",
       "5           58.0        58.0  \n",
       "6            0.0         0.0  \n",
       "7            0.0         0.0  \n",
       "8            0.0         0.0  \n",
       "9            0.0         0.0  "
      ]
     },
     "metadata": {},
     "output_type": "display_data"
    }
   ],
   "source": [
    "simulation = Simulation(100, configs.scenario_1)\n",
    "simulation.run()"
   ]
  },
  {
   "cell_type": "code",
   "execution_count": 4,
   "metadata": {},
   "outputs": [
    {
     "name": "stdout",
     "output_type": "stream",
     "text": [
      "Evaluation Results: \n",
      " \n",
      "Order Quantity: 100\n",
      "Overage: 0.0\n",
      "Underage: 98.0\n",
      "Underage Costs: 490.00\n",
      "Overage Costs: 0.00\n",
      "Gross Demand: 210\n",
      "Demand Served [%]: 53.33 %\n",
      "First Week with Lost Sales: 4\n",
      "Weeks with Lost Sales: 2\n",
      "Alpha Service Level [%]: 80.00 %\n"
     ]
    }
   ],
   "source": [
    "simulation.eval()"
   ]
  },
  {
   "cell_type": "markdown",
   "metadata": {},
   "source": [
    "### Whats next?\n",
    "- benchmarks mit qlower und q upper\n",
    "- approve truefullness (especially alpha service level)\n",
    "- plots\n",
    "- logging\n",
    "- demand sollte normalerweise im szenario sein, aber auch empirisches einlesen soll möglich sein!\n",
    "- das in Streamlit einbauen?\n"
   ]
  },
  {
   "cell_type": "markdown",
   "metadata": {},
   "source": []
  }
 ],
 "metadata": {
  "kernelspec": {
   "display_name": "base",
   "language": "python",
   "name": "python3"
  },
  "language_info": {
   "codemirror_mode": {
    "name": "ipython",
    "version": 3
   },
   "file_extension": ".py",
   "mimetype": "text/x-python",
   "name": "python",
   "nbconvert_exporter": "python",
   "pygments_lexer": "ipython3",
   "version": "3.12.4"
  }
 },
 "nbformat": 4,
 "nbformat_minor": 2
}
